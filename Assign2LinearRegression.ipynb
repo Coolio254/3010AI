{
  "nbformat": 4,
  "nbformat_minor": 0,
  "metadata": {
    "colab": {
      "provenance": [],
      "authorship_tag": "ABX9TyMctulXo21OtGcALrcMLvzW",
      "include_colab_link": true
    },
    "kernelspec": {
      "name": "python3",
      "display_name": "Python 3"
    },
    "language_info": {
      "name": "python"
    }
  },
  "cells": [
    {
      "cell_type": "markdown",
      "metadata": {
        "id": "view-in-github",
        "colab_type": "text"
      },
      "source": [
        "<a href=\"https://colab.research.google.com/github/Coolio254/3010AI/blob/main/Assign2LinearRegression.ipynb\" target=\"_parent\"><img src=\"https://colab.research.google.com/assets/colab-badge.svg\" alt=\"Open In Colab\"/></a>"
      ]
    },
    {
      "cell_type": "code",
      "execution_count": null,
      "metadata": {
        "id": "Uw6O2DUFL45y"
      },
      "outputs": [],
      "source": [
        "import pandas as pd"
      ]
    },
    {
      "cell_type": "code",
      "source": [
        "%matplotlib inline"
      ],
      "metadata": {
        "id": "3m0qnlvLMtf8"
      },
      "execution_count": null,
      "outputs": []
    },
    {
      "cell_type": "code",
      "source": [
        "import matplotlib.pyplot as plt"
      ],
      "metadata": {
        "id": "Saxori2IMuhF"
      },
      "execution_count": null,
      "outputs": []
    },
    {
      "cell_type": "code",
      "source": [
        "GlobalMeans=pd.read_csv('/content/GlobalMeans.csv')"
      ],
      "metadata": {
        "id": "zYfG7PdnMuR8"
      },
      "execution_count": null,
      "outputs": []
    },
    {
      "cell_type": "code",
      "source": [
        "GlobalMeans.head"
      ],
      "metadata": {
        "colab": {
          "base_uri": "https://localhost:8080/"
        },
        "id": "li5D43olNCP8",
        "outputId": "05f51865-25b5-4825-d989-1ce35ae82b66"
      },
      "execution_count": null,
      "outputs": [
        {
          "output_type": "execute_result",
          "data": {
            "text/plain": [
              "<bound method NDFrame.head of      Year   Jan   Feb   Mar   Apr   May   Jun   Jul   Aug   Sep   Oct   Nov  \\\n",
              "0    1880 -0.17 -0.23 -0.08 -0.15 -0.09 -0.20 -0.16 -0.08 -0.12 -0.21 -0.20   \n",
              "1    1881 -0.18 -0.13  0.04  0.06  0.08 -0.18  0.01 -0.03 -0.14 -0.21 -0.17   \n",
              "2    1882  0.17  0.15  0.06 -0.15 -0.13 -0.22 -0.15 -0.06 -0.12 -0.22 -0.15   \n",
              "3    1883 -0.28 -0.36 -0.11 -0.17 -0.16 -0.07 -0.05 -0.13 -0.20 -0.10 -0.22   \n",
              "4    1884 -0.12 -0.06 -0.35 -0.39 -0.33 -0.35 -0.29 -0.27 -0.26 -0.24 -0.32   \n",
              "..    ...   ...   ...   ...   ...   ...   ...   ...   ...   ...   ...   ...   \n",
              "139  2019  0.94  0.95  1.17  1.01  0.85  0.90  0.94  0.95  0.92  1.00  0.99   \n",
              "140  2020  1.17  1.24  1.17  1.13  1.01  0.91  0.89  0.87  0.98  0.87  1.10   \n",
              "141  2021  0.81  0.64  0.88  0.75  0.78  0.84  0.91  0.81  0.92  0.99  0.93   \n",
              "142  2022  0.91  0.89  1.05  0.83  0.84  0.92  0.93  0.95  0.89  0.96  0.72   \n",
              "143  2023  0.87  0.97  1.20  1.00  0.93  1.08  1.18  1.19  1.47  1.33  1.42   \n",
              "\n",
              "      Dec  JanToDec    D-N    DJF   MAM   JJA   SON  \n",
              "0   -0.16     -0.15    ***    *** -0.10 -0.15 -0.18  \n",
              "1   -0.06     -0.08  -0.08  -0.16  0.06 -0.06 -0.18  \n",
              "2   -0.35     -0.10  -0.07   0.09 -0.08 -0.14 -0.17  \n",
              "3   -0.10     -0.16  -0.18  -0.33 -0.15 -0.08 -0.17  \n",
              "4   -0.30     -0.27  -0.26  -0.09 -0.35 -0.30 -0.28  \n",
              "..    ...       ...    ...    ...   ...   ...   ...  \n",
              "139  1.10      0.98   0.96   0.93  1.01  0.93  0.97  \n",
              "140  0.80      1.01   1.04   1.17  1.10  0.89  0.98  \n",
              "141  0.86      0.84   0.84   0.75  0.80  0.86  0.95  \n",
              "142  0.80      0.89   0.89   0.89  0.91  0.93  0.86  \n",
              "143  1.35      1.17   1.12   0.88  1.04  1.15  1.41  \n",
              "\n",
              "[144 rows x 19 columns]>"
            ]
          },
          "metadata": {},
          "execution_count": 79
        }
      ]
    },
    {
      "cell_type": "code",
      "source": [
        "GlobalMeans.tail()"
      ],
      "metadata": {
        "colab": {
          "base_uri": "https://localhost:8080/",
          "height": 206
        },
        "id": "xKKpza3UNICk",
        "outputId": "d30464cd-80d7-4928-a5c3-dc497f5f6eec"
      },
      "execution_count": null,
      "outputs": [
        {
          "output_type": "execute_result",
          "data": {
            "text/plain": [
              "     Year   Jan   Feb   Mar   Apr   May   Jun   Jul   Aug   Sep   Oct   Nov  \\\n",
              "139  2019  0.94  0.95  1.17  1.01  0.85  0.90  0.94  0.95  0.92  1.00  0.99   \n",
              "140  2020  1.17  1.24  1.17  1.13  1.01  0.91  0.89  0.87  0.98  0.87  1.10   \n",
              "141  2021  0.81  0.64  0.88  0.75  0.78  0.84  0.91  0.81  0.92  0.99  0.93   \n",
              "142  2022  0.91  0.89  1.05  0.83  0.84  0.92  0.93  0.95  0.89  0.96  0.72   \n",
              "143  2023  0.87  0.97  1.20  1.00  0.93  1.08  1.18  1.19  1.47  1.33  1.42   \n",
              "\n",
              "      Dec  JanToDec   D-N   DJF   MAM   JJA   SON  \n",
              "139  1.10      0.98  0.96  0.93  1.01  0.93  0.97  \n",
              "140  0.80      1.01  1.04  1.17  1.10  0.89  0.98  \n",
              "141  0.86      0.84  0.84  0.75  0.80  0.86  0.95  \n",
              "142  0.80      0.89  0.89  0.89  0.91  0.93  0.86  \n",
              "143  1.35      1.17  1.12  0.88  1.04  1.15  1.41  "
            ],
            "text/html": [
              "\n",
              "  <div id=\"df-937f6047-d8f5-4b1f-ade8-75b3c57c1f6f\" class=\"colab-df-container\">\n",
              "    <div>\n",
              "<style scoped>\n",
              "    .dataframe tbody tr th:only-of-type {\n",
              "        vertical-align: middle;\n",
              "    }\n",
              "\n",
              "    .dataframe tbody tr th {\n",
              "        vertical-align: top;\n",
              "    }\n",
              "\n",
              "    .dataframe thead th {\n",
              "        text-align: right;\n",
              "    }\n",
              "</style>\n",
              "<table border=\"1\" class=\"dataframe\">\n",
              "  <thead>\n",
              "    <tr style=\"text-align: right;\">\n",
              "      <th></th>\n",
              "      <th>Year</th>\n",
              "      <th>Jan</th>\n",
              "      <th>Feb</th>\n",
              "      <th>Mar</th>\n",
              "      <th>Apr</th>\n",
              "      <th>May</th>\n",
              "      <th>Jun</th>\n",
              "      <th>Jul</th>\n",
              "      <th>Aug</th>\n",
              "      <th>Sep</th>\n",
              "      <th>Oct</th>\n",
              "      <th>Nov</th>\n",
              "      <th>Dec</th>\n",
              "      <th>JanToDec</th>\n",
              "      <th>D-N</th>\n",
              "      <th>DJF</th>\n",
              "      <th>MAM</th>\n",
              "      <th>JJA</th>\n",
              "      <th>SON</th>\n",
              "    </tr>\n",
              "  </thead>\n",
              "  <tbody>\n",
              "    <tr>\n",
              "      <th>139</th>\n",
              "      <td>2019</td>\n",
              "      <td>0.94</td>\n",
              "      <td>0.95</td>\n",
              "      <td>1.17</td>\n",
              "      <td>1.01</td>\n",
              "      <td>0.85</td>\n",
              "      <td>0.90</td>\n",
              "      <td>0.94</td>\n",
              "      <td>0.95</td>\n",
              "      <td>0.92</td>\n",
              "      <td>1.00</td>\n",
              "      <td>0.99</td>\n",
              "      <td>1.10</td>\n",
              "      <td>0.98</td>\n",
              "      <td>0.96</td>\n",
              "      <td>0.93</td>\n",
              "      <td>1.01</td>\n",
              "      <td>0.93</td>\n",
              "      <td>0.97</td>\n",
              "    </tr>\n",
              "    <tr>\n",
              "      <th>140</th>\n",
              "      <td>2020</td>\n",
              "      <td>1.17</td>\n",
              "      <td>1.24</td>\n",
              "      <td>1.17</td>\n",
              "      <td>1.13</td>\n",
              "      <td>1.01</td>\n",
              "      <td>0.91</td>\n",
              "      <td>0.89</td>\n",
              "      <td>0.87</td>\n",
              "      <td>0.98</td>\n",
              "      <td>0.87</td>\n",
              "      <td>1.10</td>\n",
              "      <td>0.80</td>\n",
              "      <td>1.01</td>\n",
              "      <td>1.04</td>\n",
              "      <td>1.17</td>\n",
              "      <td>1.10</td>\n",
              "      <td>0.89</td>\n",
              "      <td>0.98</td>\n",
              "    </tr>\n",
              "    <tr>\n",
              "      <th>141</th>\n",
              "      <td>2021</td>\n",
              "      <td>0.81</td>\n",
              "      <td>0.64</td>\n",
              "      <td>0.88</td>\n",
              "      <td>0.75</td>\n",
              "      <td>0.78</td>\n",
              "      <td>0.84</td>\n",
              "      <td>0.91</td>\n",
              "      <td>0.81</td>\n",
              "      <td>0.92</td>\n",
              "      <td>0.99</td>\n",
              "      <td>0.93</td>\n",
              "      <td>0.86</td>\n",
              "      <td>0.84</td>\n",
              "      <td>0.84</td>\n",
              "      <td>0.75</td>\n",
              "      <td>0.80</td>\n",
              "      <td>0.86</td>\n",
              "      <td>0.95</td>\n",
              "    </tr>\n",
              "    <tr>\n",
              "      <th>142</th>\n",
              "      <td>2022</td>\n",
              "      <td>0.91</td>\n",
              "      <td>0.89</td>\n",
              "      <td>1.05</td>\n",
              "      <td>0.83</td>\n",
              "      <td>0.84</td>\n",
              "      <td>0.92</td>\n",
              "      <td>0.93</td>\n",
              "      <td>0.95</td>\n",
              "      <td>0.89</td>\n",
              "      <td>0.96</td>\n",
              "      <td>0.72</td>\n",
              "      <td>0.80</td>\n",
              "      <td>0.89</td>\n",
              "      <td>0.89</td>\n",
              "      <td>0.89</td>\n",
              "      <td>0.91</td>\n",
              "      <td>0.93</td>\n",
              "      <td>0.86</td>\n",
              "    </tr>\n",
              "    <tr>\n",
              "      <th>143</th>\n",
              "      <td>2023</td>\n",
              "      <td>0.87</td>\n",
              "      <td>0.97</td>\n",
              "      <td>1.20</td>\n",
              "      <td>1.00</td>\n",
              "      <td>0.93</td>\n",
              "      <td>1.08</td>\n",
              "      <td>1.18</td>\n",
              "      <td>1.19</td>\n",
              "      <td>1.47</td>\n",
              "      <td>1.33</td>\n",
              "      <td>1.42</td>\n",
              "      <td>1.35</td>\n",
              "      <td>1.17</td>\n",
              "      <td>1.12</td>\n",
              "      <td>0.88</td>\n",
              "      <td>1.04</td>\n",
              "      <td>1.15</td>\n",
              "      <td>1.41</td>\n",
              "    </tr>\n",
              "  </tbody>\n",
              "</table>\n",
              "</div>\n",
              "    <div class=\"colab-df-buttons\">\n",
              "\n",
              "  <div class=\"colab-df-container\">\n",
              "    <button class=\"colab-df-convert\" onclick=\"convertToInteractive('df-937f6047-d8f5-4b1f-ade8-75b3c57c1f6f')\"\n",
              "            title=\"Convert this dataframe to an interactive table.\"\n",
              "            style=\"display:none;\">\n",
              "\n",
              "  <svg xmlns=\"http://www.w3.org/2000/svg\" height=\"24px\" viewBox=\"0 -960 960 960\">\n",
              "    <path d=\"M120-120v-720h720v720H120Zm60-500h600v-160H180v160Zm220 220h160v-160H400v160Zm0 220h160v-160H400v160ZM180-400h160v-160H180v160Zm440 0h160v-160H620v160ZM180-180h160v-160H180v160Zm440 0h160v-160H620v160Z\"/>\n",
              "  </svg>\n",
              "    </button>\n",
              "\n",
              "  <style>\n",
              "    .colab-df-container {\n",
              "      display:flex;\n",
              "      gap: 12px;\n",
              "    }\n",
              "\n",
              "    .colab-df-convert {\n",
              "      background-color: #E8F0FE;\n",
              "      border: none;\n",
              "      border-radius: 50%;\n",
              "      cursor: pointer;\n",
              "      display: none;\n",
              "      fill: #1967D2;\n",
              "      height: 32px;\n",
              "      padding: 0 0 0 0;\n",
              "      width: 32px;\n",
              "    }\n",
              "\n",
              "    .colab-df-convert:hover {\n",
              "      background-color: #E2EBFA;\n",
              "      box-shadow: 0px 1px 2px rgba(60, 64, 67, 0.3), 0px 1px 3px 1px rgba(60, 64, 67, 0.15);\n",
              "      fill: #174EA6;\n",
              "    }\n",
              "\n",
              "    .colab-df-buttons div {\n",
              "      margin-bottom: 4px;\n",
              "    }\n",
              "\n",
              "    [theme=dark] .colab-df-convert {\n",
              "      background-color: #3B4455;\n",
              "      fill: #D2E3FC;\n",
              "    }\n",
              "\n",
              "    [theme=dark] .colab-df-convert:hover {\n",
              "      background-color: #434B5C;\n",
              "      box-shadow: 0px 1px 3px 1px rgba(0, 0, 0, 0.15);\n",
              "      filter: drop-shadow(0px 1px 2px rgba(0, 0, 0, 0.3));\n",
              "      fill: #FFFFFF;\n",
              "    }\n",
              "  </style>\n",
              "\n",
              "    <script>\n",
              "      const buttonEl =\n",
              "        document.querySelector('#df-937f6047-d8f5-4b1f-ade8-75b3c57c1f6f button.colab-df-convert');\n",
              "      buttonEl.style.display =\n",
              "        google.colab.kernel.accessAllowed ? 'block' : 'none';\n",
              "\n",
              "      async function convertToInteractive(key) {\n",
              "        const element = document.querySelector('#df-937f6047-d8f5-4b1f-ade8-75b3c57c1f6f');\n",
              "        const dataTable =\n",
              "          await google.colab.kernel.invokeFunction('convertToInteractive',\n",
              "                                                    [key], {});\n",
              "        if (!dataTable) return;\n",
              "\n",
              "        const docLinkHtml = 'Like what you see? Visit the ' +\n",
              "          '<a target=\"_blank\" href=https://colab.research.google.com/notebooks/data_table.ipynb>data table notebook</a>'\n",
              "          + ' to learn more about interactive tables.';\n",
              "        element.innerHTML = '';\n",
              "        dataTable['output_type'] = 'display_data';\n",
              "        await google.colab.output.renderOutput(dataTable, element);\n",
              "        const docLink = document.createElement('div');\n",
              "        docLink.innerHTML = docLinkHtml;\n",
              "        element.appendChild(docLink);\n",
              "      }\n",
              "    </script>\n",
              "  </div>\n",
              "\n",
              "\n",
              "<div id=\"df-97aa9983-4158-4dcc-bbdf-efbf015ab945\">\n",
              "  <button class=\"colab-df-quickchart\" onclick=\"quickchart('df-97aa9983-4158-4dcc-bbdf-efbf015ab945')\"\n",
              "            title=\"Suggest charts\"\n",
              "            style=\"display:none;\">\n",
              "\n",
              "<svg xmlns=\"http://www.w3.org/2000/svg\" height=\"24px\"viewBox=\"0 0 24 24\"\n",
              "     width=\"24px\">\n",
              "    <g>\n",
              "        <path d=\"M19 3H5c-1.1 0-2 .9-2 2v14c0 1.1.9 2 2 2h14c1.1 0 2-.9 2-2V5c0-1.1-.9-2-2-2zM9 17H7v-7h2v7zm4 0h-2V7h2v10zm4 0h-2v-4h2v4z\"/>\n",
              "    </g>\n",
              "</svg>\n",
              "  </button>\n",
              "\n",
              "<style>\n",
              "  .colab-df-quickchart {\n",
              "      --bg-color: #E8F0FE;\n",
              "      --fill-color: #1967D2;\n",
              "      --hover-bg-color: #E2EBFA;\n",
              "      --hover-fill-color: #174EA6;\n",
              "      --disabled-fill-color: #AAA;\n",
              "      --disabled-bg-color: #DDD;\n",
              "  }\n",
              "\n",
              "  [theme=dark] .colab-df-quickchart {\n",
              "      --bg-color: #3B4455;\n",
              "      --fill-color: #D2E3FC;\n",
              "      --hover-bg-color: #434B5C;\n",
              "      --hover-fill-color: #FFFFFF;\n",
              "      --disabled-bg-color: #3B4455;\n",
              "      --disabled-fill-color: #666;\n",
              "  }\n",
              "\n",
              "  .colab-df-quickchart {\n",
              "    background-color: var(--bg-color);\n",
              "    border: none;\n",
              "    border-radius: 50%;\n",
              "    cursor: pointer;\n",
              "    display: none;\n",
              "    fill: var(--fill-color);\n",
              "    height: 32px;\n",
              "    padding: 0;\n",
              "    width: 32px;\n",
              "  }\n",
              "\n",
              "  .colab-df-quickchart:hover {\n",
              "    background-color: var(--hover-bg-color);\n",
              "    box-shadow: 0 1px 2px rgba(60, 64, 67, 0.3), 0 1px 3px 1px rgba(60, 64, 67, 0.15);\n",
              "    fill: var(--button-hover-fill-color);\n",
              "  }\n",
              "\n",
              "  .colab-df-quickchart-complete:disabled,\n",
              "  .colab-df-quickchart-complete:disabled:hover {\n",
              "    background-color: var(--disabled-bg-color);\n",
              "    fill: var(--disabled-fill-color);\n",
              "    box-shadow: none;\n",
              "  }\n",
              "\n",
              "  .colab-df-spinner {\n",
              "    border: 2px solid var(--fill-color);\n",
              "    border-color: transparent;\n",
              "    border-bottom-color: var(--fill-color);\n",
              "    animation:\n",
              "      spin 1s steps(1) infinite;\n",
              "  }\n",
              "\n",
              "  @keyframes spin {\n",
              "    0% {\n",
              "      border-color: transparent;\n",
              "      border-bottom-color: var(--fill-color);\n",
              "      border-left-color: var(--fill-color);\n",
              "    }\n",
              "    20% {\n",
              "      border-color: transparent;\n",
              "      border-left-color: var(--fill-color);\n",
              "      border-top-color: var(--fill-color);\n",
              "    }\n",
              "    30% {\n",
              "      border-color: transparent;\n",
              "      border-left-color: var(--fill-color);\n",
              "      border-top-color: var(--fill-color);\n",
              "      border-right-color: var(--fill-color);\n",
              "    }\n",
              "    40% {\n",
              "      border-color: transparent;\n",
              "      border-right-color: var(--fill-color);\n",
              "      border-top-color: var(--fill-color);\n",
              "    }\n",
              "    60% {\n",
              "      border-color: transparent;\n",
              "      border-right-color: var(--fill-color);\n",
              "    }\n",
              "    80% {\n",
              "      border-color: transparent;\n",
              "      border-right-color: var(--fill-color);\n",
              "      border-bottom-color: var(--fill-color);\n",
              "    }\n",
              "    90% {\n",
              "      border-color: transparent;\n",
              "      border-bottom-color: var(--fill-color);\n",
              "    }\n",
              "  }\n",
              "</style>\n",
              "\n",
              "  <script>\n",
              "    async function quickchart(key) {\n",
              "      const quickchartButtonEl =\n",
              "        document.querySelector('#' + key + ' button');\n",
              "      quickchartButtonEl.disabled = true;  // To prevent multiple clicks.\n",
              "      quickchartButtonEl.classList.add('colab-df-spinner');\n",
              "      try {\n",
              "        const charts = await google.colab.kernel.invokeFunction(\n",
              "            'suggestCharts', [key], {});\n",
              "      } catch (error) {\n",
              "        console.error('Error during call to suggestCharts:', error);\n",
              "      }\n",
              "      quickchartButtonEl.classList.remove('colab-df-spinner');\n",
              "      quickchartButtonEl.classList.add('colab-df-quickchart-complete');\n",
              "    }\n",
              "    (() => {\n",
              "      let quickchartButtonEl =\n",
              "        document.querySelector('#df-97aa9983-4158-4dcc-bbdf-efbf015ab945 button');\n",
              "      quickchartButtonEl.style.display =\n",
              "        google.colab.kernel.accessAllowed ? 'block' : 'none';\n",
              "    })();\n",
              "  </script>\n",
              "</div>\n",
              "\n",
              "    </div>\n",
              "  </div>\n"
            ]
          },
          "metadata": {},
          "execution_count": 80
        }
      ]
    },
    {
      "cell_type": "code",
      "source": [
        "GlobalMeans.sample(20)"
      ],
      "metadata": {
        "colab": {
          "base_uri": "https://localhost:8080/",
          "height": 677
        },
        "id": "I1JUiMbeSBwu",
        "outputId": "e6080589-fe14-4cdc-9a87-3248e61b1aea"
      },
      "execution_count": null,
      "outputs": [
        {
          "output_type": "execute_result",
          "data": {
            "text/plain": [
              "     Year   Jan   Feb   Mar   Apr   May   Jun   Jul   Aug   Sep   Oct   Nov  \\\n",
              "9    1889 -0.08  0.17  0.07  0.10  0.00 -0.10 -0.07 -0.20 -0.23 -0.25 -0.33   \n",
              "57   1937 -0.07  0.04 -0.20 -0.15 -0.05 -0.05 -0.03  0.02  0.10  0.09  0.08   \n",
              "32   1912 -0.26 -0.15 -0.38 -0.17 -0.21 -0.24 -0.42 -0.54 -0.57 -0.57 -0.39   \n",
              "17   1897 -0.14 -0.16 -0.13 -0.01  0.00 -0.11 -0.02 -0.08 -0.07 -0.12 -0.17   \n",
              "86   1966 -0.19 -0.04  0.03 -0.13 -0.12  0.01  0.08 -0.09 -0.03 -0.17 -0.01   \n",
              "98   1978  0.06  0.10  0.19  0.17  0.09 -0.02  0.04 -0.13  0.06  0.03  0.14   \n",
              "112  1992  0.47  0.40  0.48  0.27  0.31  0.25  0.08  0.08 -0.01  0.06  0.03   \n",
              "137  2017  1.03  1.14  1.16  0.94  0.91  0.71  0.81  0.87  0.76  0.90  0.88   \n",
              "33   1913 -0.39 -0.44 -0.41 -0.39 -0.43 -0.44 -0.35 -0.33 -0.34 -0.31 -0.19   \n",
              "114  1994  0.26  0.02  0.29  0.41  0.28  0.44  0.30  0.21  0.31  0.42  0.44   \n",
              "16   1896 -0.21 -0.11 -0.25 -0.30 -0.15 -0.10 -0.01 -0.04 -0.06  0.07 -0.03   \n",
              "130  2010  0.75  0.83  0.92  0.84  0.75  0.68  0.63  0.67  0.64  0.71  0.81   \n",
              "5    1885 -0.57 -0.33 -0.26 -0.41 -0.44 -0.43 -0.33 -0.31 -0.27 -0.23 -0.23   \n",
              "111  1991  0.42  0.50  0.35  0.51  0.34  0.53  0.47  0.39  0.44  0.29  0.30   \n",
              "49   1929 -0.45 -0.58 -0.33 -0.41 -0.38 -0.44 -0.37 -0.33 -0.25 -0.14 -0.12   \n",
              "63   1943  0.00  0.18 -0.03  0.11  0.07 -0.05  0.09  0.01  0.06  0.23  0.20   \n",
              "6    1886 -0.43 -0.49 -0.42 -0.27 -0.23 -0.34 -0.17 -0.30 -0.23 -0.27 -0.27   \n",
              "71   1951 -0.34 -0.41 -0.20 -0.14  0.00 -0.06 -0.01  0.06  0.05  0.08 -0.01   \n",
              "48   1928 -0.02 -0.09 -0.25 -0.28 -0.30 -0.39 -0.19 -0.22 -0.21 -0.19 -0.09   \n",
              "99   1979  0.08 -0.10  0.19  0.15  0.04  0.14  0.04  0.16  0.25  0.26  0.28   \n",
              "\n",
              "      Dec  JanToDec    D-N    DJF   MAM   JJA   SON  \n",
              "9   -0.29     -0.10  -0.08   0.02  0.05 -0.12 -0.27  \n",
              "57  -0.07     -0.02  -0.02  -0.01 -0.13 -0.02  0.09  \n",
              "32  -0.42     -0.36  -0.34   -0.2 -0.25 -0.40 -0.51  \n",
              "17  -0.20     -0.10  -0.09  -0.11 -0.05 -0.07 -0.12  \n",
              "86  -0.03     -0.06  -0.06  -0.11 -0.07  0.00 -0.07  \n",
              "98   0.08      0.07   0.06   0.06  0.15 -0.04  0.07  \n",
              "112  0.21      0.22   0.23    0.4  0.35  0.14  0.03  \n",
              "137  0.93      0.92   0.91   1.01  1.00  0.80  0.85  \n",
              "33  -0.01     -0.34  -0.37  -0.42 -0.41 -0.38 -0.28  \n",
              "114  0.38      0.31    0.3   0.15  0.33  0.32  0.39  \n",
              "16  -0.03     -0.10  -0.11  -0.15 -0.23 -0.05 -0.01  \n",
              "130  0.45      0.72   0.74   0.75  0.84  0.66  0.72  \n",
              "5   -0.10     -0.33  -0.34   -0.4 -0.37 -0.36 -0.24  \n",
              "111  0.32      0.40   0.41   0.44  0.40  0.46  0.34  \n",
              "49  -0.54     -0.36  -0.33   -0.4 -0.37 -0.38 -0.17  \n",
              "63   0.24      0.09   0.08    0.1  0.05  0.02  0.16  \n",
              "6   -0.24     -0.31  -0.29  -0.34 -0.31 -0.27 -0.26  \n",
              "71   0.16     -0.07   -0.1  -0.32 -0.11 -0.01  0.04  \n",
              "48  -0.16     -0.20  -0.21  -0.15 -0.27 -0.27 -0.16  \n",
              "99   0.48      0.16   0.13   0.02  0.13  0.11  0.26  "
            ],
            "text/html": [
              "\n",
              "  <div id=\"df-6e269c22-d629-4cf2-a738-3a55e3748f42\" class=\"colab-df-container\">\n",
              "    <div>\n",
              "<style scoped>\n",
              "    .dataframe tbody tr th:only-of-type {\n",
              "        vertical-align: middle;\n",
              "    }\n",
              "\n",
              "    .dataframe tbody tr th {\n",
              "        vertical-align: top;\n",
              "    }\n",
              "\n",
              "    .dataframe thead th {\n",
              "        text-align: right;\n",
              "    }\n",
              "</style>\n",
              "<table border=\"1\" class=\"dataframe\">\n",
              "  <thead>\n",
              "    <tr style=\"text-align: right;\">\n",
              "      <th></th>\n",
              "      <th>Year</th>\n",
              "      <th>Jan</th>\n",
              "      <th>Feb</th>\n",
              "      <th>Mar</th>\n",
              "      <th>Apr</th>\n",
              "      <th>May</th>\n",
              "      <th>Jun</th>\n",
              "      <th>Jul</th>\n",
              "      <th>Aug</th>\n",
              "      <th>Sep</th>\n",
              "      <th>Oct</th>\n",
              "      <th>Nov</th>\n",
              "      <th>Dec</th>\n",
              "      <th>JanToDec</th>\n",
              "      <th>D-N</th>\n",
              "      <th>DJF</th>\n",
              "      <th>MAM</th>\n",
              "      <th>JJA</th>\n",
              "      <th>SON</th>\n",
              "    </tr>\n",
              "  </thead>\n",
              "  <tbody>\n",
              "    <tr>\n",
              "      <th>9</th>\n",
              "      <td>1889</td>\n",
              "      <td>-0.08</td>\n",
              "      <td>0.17</td>\n",
              "      <td>0.07</td>\n",
              "      <td>0.10</td>\n",
              "      <td>0.00</td>\n",
              "      <td>-0.10</td>\n",
              "      <td>-0.07</td>\n",
              "      <td>-0.20</td>\n",
              "      <td>-0.23</td>\n",
              "      <td>-0.25</td>\n",
              "      <td>-0.33</td>\n",
              "      <td>-0.29</td>\n",
              "      <td>-0.10</td>\n",
              "      <td>-0.08</td>\n",
              "      <td>0.02</td>\n",
              "      <td>0.05</td>\n",
              "      <td>-0.12</td>\n",
              "      <td>-0.27</td>\n",
              "    </tr>\n",
              "    <tr>\n",
              "      <th>57</th>\n",
              "      <td>1937</td>\n",
              "      <td>-0.07</td>\n",
              "      <td>0.04</td>\n",
              "      <td>-0.20</td>\n",
              "      <td>-0.15</td>\n",
              "      <td>-0.05</td>\n",
              "      <td>-0.05</td>\n",
              "      <td>-0.03</td>\n",
              "      <td>0.02</td>\n",
              "      <td>0.10</td>\n",
              "      <td>0.09</td>\n",
              "      <td>0.08</td>\n",
              "      <td>-0.07</td>\n",
              "      <td>-0.02</td>\n",
              "      <td>-0.02</td>\n",
              "      <td>-0.01</td>\n",
              "      <td>-0.13</td>\n",
              "      <td>-0.02</td>\n",
              "      <td>0.09</td>\n",
              "    </tr>\n",
              "    <tr>\n",
              "      <th>32</th>\n",
              "      <td>1912</td>\n",
              "      <td>-0.26</td>\n",
              "      <td>-0.15</td>\n",
              "      <td>-0.38</td>\n",
              "      <td>-0.17</td>\n",
              "      <td>-0.21</td>\n",
              "      <td>-0.24</td>\n",
              "      <td>-0.42</td>\n",
              "      <td>-0.54</td>\n",
              "      <td>-0.57</td>\n",
              "      <td>-0.57</td>\n",
              "      <td>-0.39</td>\n",
              "      <td>-0.42</td>\n",
              "      <td>-0.36</td>\n",
              "      <td>-0.34</td>\n",
              "      <td>-0.2</td>\n",
              "      <td>-0.25</td>\n",
              "      <td>-0.40</td>\n",
              "      <td>-0.51</td>\n",
              "    </tr>\n",
              "    <tr>\n",
              "      <th>17</th>\n",
              "      <td>1897</td>\n",
              "      <td>-0.14</td>\n",
              "      <td>-0.16</td>\n",
              "      <td>-0.13</td>\n",
              "      <td>-0.01</td>\n",
              "      <td>0.00</td>\n",
              "      <td>-0.11</td>\n",
              "      <td>-0.02</td>\n",
              "      <td>-0.08</td>\n",
              "      <td>-0.07</td>\n",
              "      <td>-0.12</td>\n",
              "      <td>-0.17</td>\n",
              "      <td>-0.20</td>\n",
              "      <td>-0.10</td>\n",
              "      <td>-0.09</td>\n",
              "      <td>-0.11</td>\n",
              "      <td>-0.05</td>\n",
              "      <td>-0.07</td>\n",
              "      <td>-0.12</td>\n",
              "    </tr>\n",
              "    <tr>\n",
              "      <th>86</th>\n",
              "      <td>1966</td>\n",
              "      <td>-0.19</td>\n",
              "      <td>-0.04</td>\n",
              "      <td>0.03</td>\n",
              "      <td>-0.13</td>\n",
              "      <td>-0.12</td>\n",
              "      <td>0.01</td>\n",
              "      <td>0.08</td>\n",
              "      <td>-0.09</td>\n",
              "      <td>-0.03</td>\n",
              "      <td>-0.17</td>\n",
              "      <td>-0.01</td>\n",
              "      <td>-0.03</td>\n",
              "      <td>-0.06</td>\n",
              "      <td>-0.06</td>\n",
              "      <td>-0.11</td>\n",
              "      <td>-0.07</td>\n",
              "      <td>0.00</td>\n",
              "      <td>-0.07</td>\n",
              "    </tr>\n",
              "    <tr>\n",
              "      <th>98</th>\n",
              "      <td>1978</td>\n",
              "      <td>0.06</td>\n",
              "      <td>0.10</td>\n",
              "      <td>0.19</td>\n",
              "      <td>0.17</td>\n",
              "      <td>0.09</td>\n",
              "      <td>-0.02</td>\n",
              "      <td>0.04</td>\n",
              "      <td>-0.13</td>\n",
              "      <td>0.06</td>\n",
              "      <td>0.03</td>\n",
              "      <td>0.14</td>\n",
              "      <td>0.08</td>\n",
              "      <td>0.07</td>\n",
              "      <td>0.06</td>\n",
              "      <td>0.06</td>\n",
              "      <td>0.15</td>\n",
              "      <td>-0.04</td>\n",
              "      <td>0.07</td>\n",
              "    </tr>\n",
              "    <tr>\n",
              "      <th>112</th>\n",
              "      <td>1992</td>\n",
              "      <td>0.47</td>\n",
              "      <td>0.40</td>\n",
              "      <td>0.48</td>\n",
              "      <td>0.27</td>\n",
              "      <td>0.31</td>\n",
              "      <td>0.25</td>\n",
              "      <td>0.08</td>\n",
              "      <td>0.08</td>\n",
              "      <td>-0.01</td>\n",
              "      <td>0.06</td>\n",
              "      <td>0.03</td>\n",
              "      <td>0.21</td>\n",
              "      <td>0.22</td>\n",
              "      <td>0.23</td>\n",
              "      <td>0.4</td>\n",
              "      <td>0.35</td>\n",
              "      <td>0.14</td>\n",
              "      <td>0.03</td>\n",
              "    </tr>\n",
              "    <tr>\n",
              "      <th>137</th>\n",
              "      <td>2017</td>\n",
              "      <td>1.03</td>\n",
              "      <td>1.14</td>\n",
              "      <td>1.16</td>\n",
              "      <td>0.94</td>\n",
              "      <td>0.91</td>\n",
              "      <td>0.71</td>\n",
              "      <td>0.81</td>\n",
              "      <td>0.87</td>\n",
              "      <td>0.76</td>\n",
              "      <td>0.90</td>\n",
              "      <td>0.88</td>\n",
              "      <td>0.93</td>\n",
              "      <td>0.92</td>\n",
              "      <td>0.91</td>\n",
              "      <td>1.01</td>\n",
              "      <td>1.00</td>\n",
              "      <td>0.80</td>\n",
              "      <td>0.85</td>\n",
              "    </tr>\n",
              "    <tr>\n",
              "      <th>33</th>\n",
              "      <td>1913</td>\n",
              "      <td>-0.39</td>\n",
              "      <td>-0.44</td>\n",
              "      <td>-0.41</td>\n",
              "      <td>-0.39</td>\n",
              "      <td>-0.43</td>\n",
              "      <td>-0.44</td>\n",
              "      <td>-0.35</td>\n",
              "      <td>-0.33</td>\n",
              "      <td>-0.34</td>\n",
              "      <td>-0.31</td>\n",
              "      <td>-0.19</td>\n",
              "      <td>-0.01</td>\n",
              "      <td>-0.34</td>\n",
              "      <td>-0.37</td>\n",
              "      <td>-0.42</td>\n",
              "      <td>-0.41</td>\n",
              "      <td>-0.38</td>\n",
              "      <td>-0.28</td>\n",
              "    </tr>\n",
              "    <tr>\n",
              "      <th>114</th>\n",
              "      <td>1994</td>\n",
              "      <td>0.26</td>\n",
              "      <td>0.02</td>\n",
              "      <td>0.29</td>\n",
              "      <td>0.41</td>\n",
              "      <td>0.28</td>\n",
              "      <td>0.44</td>\n",
              "      <td>0.30</td>\n",
              "      <td>0.21</td>\n",
              "      <td>0.31</td>\n",
              "      <td>0.42</td>\n",
              "      <td>0.44</td>\n",
              "      <td>0.38</td>\n",
              "      <td>0.31</td>\n",
              "      <td>0.3</td>\n",
              "      <td>0.15</td>\n",
              "      <td>0.33</td>\n",
              "      <td>0.32</td>\n",
              "      <td>0.39</td>\n",
              "    </tr>\n",
              "    <tr>\n",
              "      <th>16</th>\n",
              "      <td>1896</td>\n",
              "      <td>-0.21</td>\n",
              "      <td>-0.11</td>\n",
              "      <td>-0.25</td>\n",
              "      <td>-0.30</td>\n",
              "      <td>-0.15</td>\n",
              "      <td>-0.10</td>\n",
              "      <td>-0.01</td>\n",
              "      <td>-0.04</td>\n",
              "      <td>-0.06</td>\n",
              "      <td>0.07</td>\n",
              "      <td>-0.03</td>\n",
              "      <td>-0.03</td>\n",
              "      <td>-0.10</td>\n",
              "      <td>-0.11</td>\n",
              "      <td>-0.15</td>\n",
              "      <td>-0.23</td>\n",
              "      <td>-0.05</td>\n",
              "      <td>-0.01</td>\n",
              "    </tr>\n",
              "    <tr>\n",
              "      <th>130</th>\n",
              "      <td>2010</td>\n",
              "      <td>0.75</td>\n",
              "      <td>0.83</td>\n",
              "      <td>0.92</td>\n",
              "      <td>0.84</td>\n",
              "      <td>0.75</td>\n",
              "      <td>0.68</td>\n",
              "      <td>0.63</td>\n",
              "      <td>0.67</td>\n",
              "      <td>0.64</td>\n",
              "      <td>0.71</td>\n",
              "      <td>0.81</td>\n",
              "      <td>0.45</td>\n",
              "      <td>0.72</td>\n",
              "      <td>0.74</td>\n",
              "      <td>0.75</td>\n",
              "      <td>0.84</td>\n",
              "      <td>0.66</td>\n",
              "      <td>0.72</td>\n",
              "    </tr>\n",
              "    <tr>\n",
              "      <th>5</th>\n",
              "      <td>1885</td>\n",
              "      <td>-0.57</td>\n",
              "      <td>-0.33</td>\n",
              "      <td>-0.26</td>\n",
              "      <td>-0.41</td>\n",
              "      <td>-0.44</td>\n",
              "      <td>-0.43</td>\n",
              "      <td>-0.33</td>\n",
              "      <td>-0.31</td>\n",
              "      <td>-0.27</td>\n",
              "      <td>-0.23</td>\n",
              "      <td>-0.23</td>\n",
              "      <td>-0.10</td>\n",
              "      <td>-0.33</td>\n",
              "      <td>-0.34</td>\n",
              "      <td>-0.4</td>\n",
              "      <td>-0.37</td>\n",
              "      <td>-0.36</td>\n",
              "      <td>-0.24</td>\n",
              "    </tr>\n",
              "    <tr>\n",
              "      <th>111</th>\n",
              "      <td>1991</td>\n",
              "      <td>0.42</td>\n",
              "      <td>0.50</td>\n",
              "      <td>0.35</td>\n",
              "      <td>0.51</td>\n",
              "      <td>0.34</td>\n",
              "      <td>0.53</td>\n",
              "      <td>0.47</td>\n",
              "      <td>0.39</td>\n",
              "      <td>0.44</td>\n",
              "      <td>0.29</td>\n",
              "      <td>0.30</td>\n",
              "      <td>0.32</td>\n",
              "      <td>0.40</td>\n",
              "      <td>0.41</td>\n",
              "      <td>0.44</td>\n",
              "      <td>0.40</td>\n",
              "      <td>0.46</td>\n",
              "      <td>0.34</td>\n",
              "    </tr>\n",
              "    <tr>\n",
              "      <th>49</th>\n",
              "      <td>1929</td>\n",
              "      <td>-0.45</td>\n",
              "      <td>-0.58</td>\n",
              "      <td>-0.33</td>\n",
              "      <td>-0.41</td>\n",
              "      <td>-0.38</td>\n",
              "      <td>-0.44</td>\n",
              "      <td>-0.37</td>\n",
              "      <td>-0.33</td>\n",
              "      <td>-0.25</td>\n",
              "      <td>-0.14</td>\n",
              "      <td>-0.12</td>\n",
              "      <td>-0.54</td>\n",
              "      <td>-0.36</td>\n",
              "      <td>-0.33</td>\n",
              "      <td>-0.4</td>\n",
              "      <td>-0.37</td>\n",
              "      <td>-0.38</td>\n",
              "      <td>-0.17</td>\n",
              "    </tr>\n",
              "    <tr>\n",
              "      <th>63</th>\n",
              "      <td>1943</td>\n",
              "      <td>0.00</td>\n",
              "      <td>0.18</td>\n",
              "      <td>-0.03</td>\n",
              "      <td>0.11</td>\n",
              "      <td>0.07</td>\n",
              "      <td>-0.05</td>\n",
              "      <td>0.09</td>\n",
              "      <td>0.01</td>\n",
              "      <td>0.06</td>\n",
              "      <td>0.23</td>\n",
              "      <td>0.20</td>\n",
              "      <td>0.24</td>\n",
              "      <td>0.09</td>\n",
              "      <td>0.08</td>\n",
              "      <td>0.1</td>\n",
              "      <td>0.05</td>\n",
              "      <td>0.02</td>\n",
              "      <td>0.16</td>\n",
              "    </tr>\n",
              "    <tr>\n",
              "      <th>6</th>\n",
              "      <td>1886</td>\n",
              "      <td>-0.43</td>\n",
              "      <td>-0.49</td>\n",
              "      <td>-0.42</td>\n",
              "      <td>-0.27</td>\n",
              "      <td>-0.23</td>\n",
              "      <td>-0.34</td>\n",
              "      <td>-0.17</td>\n",
              "      <td>-0.30</td>\n",
              "      <td>-0.23</td>\n",
              "      <td>-0.27</td>\n",
              "      <td>-0.27</td>\n",
              "      <td>-0.24</td>\n",
              "      <td>-0.31</td>\n",
              "      <td>-0.29</td>\n",
              "      <td>-0.34</td>\n",
              "      <td>-0.31</td>\n",
              "      <td>-0.27</td>\n",
              "      <td>-0.26</td>\n",
              "    </tr>\n",
              "    <tr>\n",
              "      <th>71</th>\n",
              "      <td>1951</td>\n",
              "      <td>-0.34</td>\n",
              "      <td>-0.41</td>\n",
              "      <td>-0.20</td>\n",
              "      <td>-0.14</td>\n",
              "      <td>0.00</td>\n",
              "      <td>-0.06</td>\n",
              "      <td>-0.01</td>\n",
              "      <td>0.06</td>\n",
              "      <td>0.05</td>\n",
              "      <td>0.08</td>\n",
              "      <td>-0.01</td>\n",
              "      <td>0.16</td>\n",
              "      <td>-0.07</td>\n",
              "      <td>-0.1</td>\n",
              "      <td>-0.32</td>\n",
              "      <td>-0.11</td>\n",
              "      <td>-0.01</td>\n",
              "      <td>0.04</td>\n",
              "    </tr>\n",
              "    <tr>\n",
              "      <th>48</th>\n",
              "      <td>1928</td>\n",
              "      <td>-0.02</td>\n",
              "      <td>-0.09</td>\n",
              "      <td>-0.25</td>\n",
              "      <td>-0.28</td>\n",
              "      <td>-0.30</td>\n",
              "      <td>-0.39</td>\n",
              "      <td>-0.19</td>\n",
              "      <td>-0.22</td>\n",
              "      <td>-0.21</td>\n",
              "      <td>-0.19</td>\n",
              "      <td>-0.09</td>\n",
              "      <td>-0.16</td>\n",
              "      <td>-0.20</td>\n",
              "      <td>-0.21</td>\n",
              "      <td>-0.15</td>\n",
              "      <td>-0.27</td>\n",
              "      <td>-0.27</td>\n",
              "      <td>-0.16</td>\n",
              "    </tr>\n",
              "    <tr>\n",
              "      <th>99</th>\n",
              "      <td>1979</td>\n",
              "      <td>0.08</td>\n",
              "      <td>-0.10</td>\n",
              "      <td>0.19</td>\n",
              "      <td>0.15</td>\n",
              "      <td>0.04</td>\n",
              "      <td>0.14</td>\n",
              "      <td>0.04</td>\n",
              "      <td>0.16</td>\n",
              "      <td>0.25</td>\n",
              "      <td>0.26</td>\n",
              "      <td>0.28</td>\n",
              "      <td>0.48</td>\n",
              "      <td>0.16</td>\n",
              "      <td>0.13</td>\n",
              "      <td>0.02</td>\n",
              "      <td>0.13</td>\n",
              "      <td>0.11</td>\n",
              "      <td>0.26</td>\n",
              "    </tr>\n",
              "  </tbody>\n",
              "</table>\n",
              "</div>\n",
              "    <div class=\"colab-df-buttons\">\n",
              "\n",
              "  <div class=\"colab-df-container\">\n",
              "    <button class=\"colab-df-convert\" onclick=\"convertToInteractive('df-6e269c22-d629-4cf2-a738-3a55e3748f42')\"\n",
              "            title=\"Convert this dataframe to an interactive table.\"\n",
              "            style=\"display:none;\">\n",
              "\n",
              "  <svg xmlns=\"http://www.w3.org/2000/svg\" height=\"24px\" viewBox=\"0 -960 960 960\">\n",
              "    <path d=\"M120-120v-720h720v720H120Zm60-500h600v-160H180v160Zm220 220h160v-160H400v160Zm0 220h160v-160H400v160ZM180-400h160v-160H180v160Zm440 0h160v-160H620v160ZM180-180h160v-160H180v160Zm440 0h160v-160H620v160Z\"/>\n",
              "  </svg>\n",
              "    </button>\n",
              "\n",
              "  <style>\n",
              "    .colab-df-container {\n",
              "      display:flex;\n",
              "      gap: 12px;\n",
              "    }\n",
              "\n",
              "    .colab-df-convert {\n",
              "      background-color: #E8F0FE;\n",
              "      border: none;\n",
              "      border-radius: 50%;\n",
              "      cursor: pointer;\n",
              "      display: none;\n",
              "      fill: #1967D2;\n",
              "      height: 32px;\n",
              "      padding: 0 0 0 0;\n",
              "      width: 32px;\n",
              "    }\n",
              "\n",
              "    .colab-df-convert:hover {\n",
              "      background-color: #E2EBFA;\n",
              "      box-shadow: 0px 1px 2px rgba(60, 64, 67, 0.3), 0px 1px 3px 1px rgba(60, 64, 67, 0.15);\n",
              "      fill: #174EA6;\n",
              "    }\n",
              "\n",
              "    .colab-df-buttons div {\n",
              "      margin-bottom: 4px;\n",
              "    }\n",
              "\n",
              "    [theme=dark] .colab-df-convert {\n",
              "      background-color: #3B4455;\n",
              "      fill: #D2E3FC;\n",
              "    }\n",
              "\n",
              "    [theme=dark] .colab-df-convert:hover {\n",
              "      background-color: #434B5C;\n",
              "      box-shadow: 0px 1px 3px 1px rgba(0, 0, 0, 0.15);\n",
              "      filter: drop-shadow(0px 1px 2px rgba(0, 0, 0, 0.3));\n",
              "      fill: #FFFFFF;\n",
              "    }\n",
              "  </style>\n",
              "\n",
              "    <script>\n",
              "      const buttonEl =\n",
              "        document.querySelector('#df-6e269c22-d629-4cf2-a738-3a55e3748f42 button.colab-df-convert');\n",
              "      buttonEl.style.display =\n",
              "        google.colab.kernel.accessAllowed ? 'block' : 'none';\n",
              "\n",
              "      async function convertToInteractive(key) {\n",
              "        const element = document.querySelector('#df-6e269c22-d629-4cf2-a738-3a55e3748f42');\n",
              "        const dataTable =\n",
              "          await google.colab.kernel.invokeFunction('convertToInteractive',\n",
              "                                                    [key], {});\n",
              "        if (!dataTable) return;\n",
              "\n",
              "        const docLinkHtml = 'Like what you see? Visit the ' +\n",
              "          '<a target=\"_blank\" href=https://colab.research.google.com/notebooks/data_table.ipynb>data table notebook</a>'\n",
              "          + ' to learn more about interactive tables.';\n",
              "        element.innerHTML = '';\n",
              "        dataTable['output_type'] = 'display_data';\n",
              "        await google.colab.output.renderOutput(dataTable, element);\n",
              "        const docLink = document.createElement('div');\n",
              "        docLink.innerHTML = docLinkHtml;\n",
              "        element.appendChild(docLink);\n",
              "      }\n",
              "    </script>\n",
              "  </div>\n",
              "\n",
              "\n",
              "<div id=\"df-398ef67e-f0d8-48bd-8ca3-248390be96ed\">\n",
              "  <button class=\"colab-df-quickchart\" onclick=\"quickchart('df-398ef67e-f0d8-48bd-8ca3-248390be96ed')\"\n",
              "            title=\"Suggest charts\"\n",
              "            style=\"display:none;\">\n",
              "\n",
              "<svg xmlns=\"http://www.w3.org/2000/svg\" height=\"24px\"viewBox=\"0 0 24 24\"\n",
              "     width=\"24px\">\n",
              "    <g>\n",
              "        <path d=\"M19 3H5c-1.1 0-2 .9-2 2v14c0 1.1.9 2 2 2h14c1.1 0 2-.9 2-2V5c0-1.1-.9-2-2-2zM9 17H7v-7h2v7zm4 0h-2V7h2v10zm4 0h-2v-4h2v4z\"/>\n",
              "    </g>\n",
              "</svg>\n",
              "  </button>\n",
              "\n",
              "<style>\n",
              "  .colab-df-quickchart {\n",
              "      --bg-color: #E8F0FE;\n",
              "      --fill-color: #1967D2;\n",
              "      --hover-bg-color: #E2EBFA;\n",
              "      --hover-fill-color: #174EA6;\n",
              "      --disabled-fill-color: #AAA;\n",
              "      --disabled-bg-color: #DDD;\n",
              "  }\n",
              "\n",
              "  [theme=dark] .colab-df-quickchart {\n",
              "      --bg-color: #3B4455;\n",
              "      --fill-color: #D2E3FC;\n",
              "      --hover-bg-color: #434B5C;\n",
              "      --hover-fill-color: #FFFFFF;\n",
              "      --disabled-bg-color: #3B4455;\n",
              "      --disabled-fill-color: #666;\n",
              "  }\n",
              "\n",
              "  .colab-df-quickchart {\n",
              "    background-color: var(--bg-color);\n",
              "    border: none;\n",
              "    border-radius: 50%;\n",
              "    cursor: pointer;\n",
              "    display: none;\n",
              "    fill: var(--fill-color);\n",
              "    height: 32px;\n",
              "    padding: 0;\n",
              "    width: 32px;\n",
              "  }\n",
              "\n",
              "  .colab-df-quickchart:hover {\n",
              "    background-color: var(--hover-bg-color);\n",
              "    box-shadow: 0 1px 2px rgba(60, 64, 67, 0.3), 0 1px 3px 1px rgba(60, 64, 67, 0.15);\n",
              "    fill: var(--button-hover-fill-color);\n",
              "  }\n",
              "\n",
              "  .colab-df-quickchart-complete:disabled,\n",
              "  .colab-df-quickchart-complete:disabled:hover {\n",
              "    background-color: var(--disabled-bg-color);\n",
              "    fill: var(--disabled-fill-color);\n",
              "    box-shadow: none;\n",
              "  }\n",
              "\n",
              "  .colab-df-spinner {\n",
              "    border: 2px solid var(--fill-color);\n",
              "    border-color: transparent;\n",
              "    border-bottom-color: var(--fill-color);\n",
              "    animation:\n",
              "      spin 1s steps(1) infinite;\n",
              "  }\n",
              "\n",
              "  @keyframes spin {\n",
              "    0% {\n",
              "      border-color: transparent;\n",
              "      border-bottom-color: var(--fill-color);\n",
              "      border-left-color: var(--fill-color);\n",
              "    }\n",
              "    20% {\n",
              "      border-color: transparent;\n",
              "      border-left-color: var(--fill-color);\n",
              "      border-top-color: var(--fill-color);\n",
              "    }\n",
              "    30% {\n",
              "      border-color: transparent;\n",
              "      border-left-color: var(--fill-color);\n",
              "      border-top-color: var(--fill-color);\n",
              "      border-right-color: var(--fill-color);\n",
              "    }\n",
              "    40% {\n",
              "      border-color: transparent;\n",
              "      border-right-color: var(--fill-color);\n",
              "      border-top-color: var(--fill-color);\n",
              "    }\n",
              "    60% {\n",
              "      border-color: transparent;\n",
              "      border-right-color: var(--fill-color);\n",
              "    }\n",
              "    80% {\n",
              "      border-color: transparent;\n",
              "      border-right-color: var(--fill-color);\n",
              "      border-bottom-color: var(--fill-color);\n",
              "    }\n",
              "    90% {\n",
              "      border-color: transparent;\n",
              "      border-bottom-color: var(--fill-color);\n",
              "    }\n",
              "  }\n",
              "</style>\n",
              "\n",
              "  <script>\n",
              "    async function quickchart(key) {\n",
              "      const quickchartButtonEl =\n",
              "        document.querySelector('#' + key + ' button');\n",
              "      quickchartButtonEl.disabled = true;  // To prevent multiple clicks.\n",
              "      quickchartButtonEl.classList.add('colab-df-spinner');\n",
              "      try {\n",
              "        const charts = await google.colab.kernel.invokeFunction(\n",
              "            'suggestCharts', [key], {});\n",
              "      } catch (error) {\n",
              "        console.error('Error during call to suggestCharts:', error);\n",
              "      }\n",
              "      quickchartButtonEl.classList.remove('colab-df-spinner');\n",
              "      quickchartButtonEl.classList.add('colab-df-quickchart-complete');\n",
              "    }\n",
              "    (() => {\n",
              "      let quickchartButtonEl =\n",
              "        document.querySelector('#df-398ef67e-f0d8-48bd-8ca3-248390be96ed button');\n",
              "      quickchartButtonEl.style.display =\n",
              "        google.colab.kernel.accessAllowed ? 'block' : 'none';\n",
              "    })();\n",
              "  </script>\n",
              "</div>\n",
              "\n",
              "    </div>\n",
              "  </div>\n"
            ]
          },
          "metadata": {},
          "execution_count": 81
        }
      ]
    },
    {
      "cell_type": "code",
      "source": [
        "GlobalMeans.Year.values"
      ],
      "metadata": {
        "colab": {
          "base_uri": "https://localhost:8080/"
        },
        "id": "Jfc-56XgSeop",
        "outputId": "a51de848-8501-4bf9-d98d-6fce10fbfa06"
      },
      "execution_count": null,
      "outputs": [
        {
          "output_type": "execute_result",
          "data": {
            "text/plain": [
              "array([1880, 1881, 1882, 1883, 1884, 1885, 1886, 1887, 1888, 1889, 1890,\n",
              "       1891, 1892, 1893, 1894, 1895, 1896, 1897, 1898, 1899, 1900, 1901,\n",
              "       1902, 1903, 1904, 1905, 1906, 1907, 1908, 1909, 1910, 1911, 1912,\n",
              "       1913, 1914, 1915, 1916, 1917, 1918, 1919, 1920, 1921, 1922, 1923,\n",
              "       1924, 1925, 1926, 1927, 1928, 1929, 1930, 1931, 1932, 1933, 1934,\n",
              "       1935, 1936, 1937, 1938, 1939, 1940, 1941, 1942, 1943, 1944, 1945,\n",
              "       1946, 1947, 1948, 1949, 1950, 1951, 1952, 1953, 1954, 1955, 1956,\n",
              "       1957, 1958, 1959, 1960, 1961, 1962, 1963, 1964, 1965, 1966, 1967,\n",
              "       1968, 1969, 1970, 1971, 1972, 1973, 1974, 1975, 1976, 1977, 1978,\n",
              "       1979, 1980, 1981, 1982, 1983, 1984, 1985, 1986, 1987, 1988, 1989,\n",
              "       1990, 1991, 1992, 1993, 1994, 1995, 1996, 1997, 1998, 1999, 2000,\n",
              "       2001, 2002, 2003, 2004, 2005, 2006, 2007, 2008, 2009, 2010, 2011,\n",
              "       2012, 2013, 2014, 2015, 2016, 2017, 2018, 2019, 2020, 2021, 2022,\n",
              "       2023])"
            ]
          },
          "metadata": {},
          "execution_count": 82
        }
      ]
    },
    {
      "cell_type": "code",
      "source": [
        "GlobalMeans.Year.values.shape"
      ],
      "metadata": {
        "colab": {
          "base_uri": "https://localhost:8080/"
        },
        "id": "3kSrIZ4rSqSo",
        "outputId": "eb56759b-ed16-4c2c-ccc6-3e917d3c3bc1"
      },
      "execution_count": null,
      "outputs": [
        {
          "output_type": "execute_result",
          "data": {
            "text/plain": [
              "(144,)"
            ]
          },
          "metadata": {},
          "execution_count": 83
        }
      ]
    },
    {
      "cell_type": "code",
      "source": [
        "import numpy as np"
      ],
      "metadata": {
        "id": "hsXD5WvFSxkC"
      },
      "execution_count": null,
      "outputs": []
    },
    {
      "cell_type": "code",
      "source": [
        "m=np.linspace(1,10)"
      ],
      "metadata": {
        "id": "YpPeA4XsS0yv"
      },
      "execution_count": null,
      "outputs": []
    },
    {
      "cell_type": "code",
      "source": [
        "m"
      ],
      "metadata": {
        "colab": {
          "base_uri": "https://localhost:8080/"
        },
        "id": "4NB663qPS4rM",
        "outputId": "8d230b6d-e09f-4e98-e203-0cd90b3caf20"
      },
      "execution_count": null,
      "outputs": [
        {
          "output_type": "execute_result",
          "data": {
            "text/plain": [
              "array([ 1.        ,  1.18367347,  1.36734694,  1.55102041,  1.73469388,\n",
              "        1.91836735,  2.10204082,  2.28571429,  2.46938776,  2.65306122,\n",
              "        2.83673469,  3.02040816,  3.20408163,  3.3877551 ,  3.57142857,\n",
              "        3.75510204,  3.93877551,  4.12244898,  4.30612245,  4.48979592,\n",
              "        4.67346939,  4.85714286,  5.04081633,  5.2244898 ,  5.40816327,\n",
              "        5.59183673,  5.7755102 ,  5.95918367,  6.14285714,  6.32653061,\n",
              "        6.51020408,  6.69387755,  6.87755102,  7.06122449,  7.24489796,\n",
              "        7.42857143,  7.6122449 ,  7.79591837,  7.97959184,  8.16326531,\n",
              "        8.34693878,  8.53061224,  8.71428571,  8.89795918,  9.08163265,\n",
              "        9.26530612,  9.44897959,  9.63265306,  9.81632653, 10.        ])"
            ]
          },
          "metadata": {},
          "execution_count": 86
        }
      ]
    },
    {
      "cell_type": "code",
      "source": [
        "n=m.reshape(-1,1)"
      ],
      "metadata": {
        "id": "7V8L2Q5NS7uG"
      },
      "execution_count": null,
      "outputs": []
    },
    {
      "cell_type": "code",
      "source": [
        "n.shape"
      ],
      "metadata": {
        "colab": {
          "base_uri": "https://localhost:8080/"
        },
        "id": "yPnlV_TATALX",
        "outputId": "12712ec1-4f53-4dd8-c511-83bc0c7b93b8"
      },
      "execution_count": null,
      "outputs": [
        {
          "output_type": "execute_result",
          "data": {
            "text/plain": [
              "(50, 1)"
            ]
          },
          "metadata": {},
          "execution_count": 88
        }
      ]
    },
    {
      "cell_type": "code",
      "source": [
        "from sklearn.model_selection import train_test_split"
      ],
      "metadata": {
        "id": "w8lWKh80TEbu"
      },
      "execution_count": null,
      "outputs": []
    },
    {
      "cell_type": "code",
      "source": [
        "GlobalMeans.Year.values.shape"
      ],
      "metadata": {
        "colab": {
          "base_uri": "https://localhost:8080/"
        },
        "id": "DrREYJDPTIha",
        "outputId": "2b50095d-6b5c-48a8-8914-a2759ef8e458"
      },
      "execution_count": null,
      "outputs": [
        {
          "output_type": "execute_result",
          "data": {
            "text/plain": [
              "(144,)"
            ]
          },
          "metadata": {},
          "execution_count": 90
        }
      ]
    },
    {
      "cell_type": "code",
      "source": [
        "X_train,X_test,y_train,y_test=train_test_split(GlobalMeans.Year.values.reshape(-1,1), GlobalMeans.JanToDec.values,random_state=11)"
      ],
      "metadata": {
        "id": "LlbYH5HWTRRu"
      },
      "execution_count": null,
      "outputs": []
    },
    {
      "cell_type": "code",
      "source": [
        "X_train.shape"
      ],
      "metadata": {
        "colab": {
          "base_uri": "https://localhost:8080/"
        },
        "id": "zj-mvErbTy78",
        "outputId": "b31d0914-6135-4800-84e0-7167914ac0ae"
      },
      "execution_count": null,
      "outputs": [
        {
          "output_type": "execute_result",
          "data": {
            "text/plain": [
              "(108, 1)"
            ]
          },
          "metadata": {},
          "execution_count": 92
        }
      ]
    },
    {
      "cell_type": "code",
      "source": [
        "X_train[0]"
      ],
      "metadata": {
        "colab": {
          "base_uri": "https://localhost:8080/"
        },
        "id": "6y3G3bVDT22K",
        "outputId": "e18f9cd6-5605-48c1-ad02-da9193c4873e"
      },
      "execution_count": null,
      "outputs": [
        {
          "output_type": "execute_result",
          "data": {
            "text/plain": [
              "array([1968])"
            ]
          },
          "metadata": {},
          "execution_count": 93
        }
      ]
    },
    {
      "cell_type": "code",
      "source": [
        "X_test.shape"
      ],
      "metadata": {
        "colab": {
          "base_uri": "https://localhost:8080/"
        },
        "id": "ESF8sjCST6lW",
        "outputId": "4241c7be-df10-4e6e-c3ca-e2d64d1e1a35"
      },
      "execution_count": null,
      "outputs": [
        {
          "output_type": "execute_result",
          "data": {
            "text/plain": [
              "(36, 1)"
            ]
          },
          "metadata": {},
          "execution_count": 94
        }
      ]
    },
    {
      "cell_type": "code",
      "source": [
        "108+36"
      ],
      "metadata": {
        "colab": {
          "base_uri": "https://localhost:8080/"
        },
        "id": "jx7eaUH_T9SJ",
        "outputId": "8010c9e6-10bb-45c8-c8db-309ec96fa318"
      },
      "execution_count": null,
      "outputs": [
        {
          "output_type": "execute_result",
          "data": {
            "text/plain": [
              "144"
            ]
          },
          "metadata": {},
          "execution_count": 95
        }
      ]
    },
    {
      "cell_type": "code",
      "source": [
        "108/144*100"
      ],
      "metadata": {
        "colab": {
          "base_uri": "https://localhost:8080/"
        },
        "id": "uxtuMu5pUBWO",
        "outputId": "d2e7151f-6d88-493e-cdea-fbca2eaa5ceb"
      },
      "execution_count": null,
      "outputs": [
        {
          "output_type": "execute_result",
          "data": {
            "text/plain": [
              "75.0"
            ]
          },
          "metadata": {},
          "execution_count": 96
        }
      ]
    },
    {
      "cell_type": "code",
      "source": [
        "from sklearn.linear_model import LinearRegression"
      ],
      "metadata": {
        "id": "W5_rZ8xaUF7M"
      },
      "execution_count": null,
      "outputs": []
    },
    {
      "cell_type": "code",
      "source": [
        "linear_regression=LinearRegression()"
      ],
      "metadata": {
        "id": "WlsKHXiAUhQe"
      },
      "execution_count": null,
      "outputs": []
    },
    {
      "cell_type": "code",
      "source": [
        "linear_regression"
      ],
      "metadata": {
        "colab": {
          "base_uri": "https://localhost:8080/",
          "height": 75
        },
        "id": "SKKFcgA5Ukx9",
        "outputId": "40130cf9-3aa1-4756-b402-c03378b89c41"
      },
      "execution_count": null,
      "outputs": [
        {
          "output_type": "execute_result",
          "data": {
            "text/plain": [
              "LinearRegression()"
            ],
            "text/html": [
              "<style>#sk-container-id-3 {color: black;background-color: white;}#sk-container-id-3 pre{padding: 0;}#sk-container-id-3 div.sk-toggleable {background-color: white;}#sk-container-id-3 label.sk-toggleable__label {cursor: pointer;display: block;width: 100%;margin-bottom: 0;padding: 0.3em;box-sizing: border-box;text-align: center;}#sk-container-id-3 label.sk-toggleable__label-arrow:before {content: \"▸\";float: left;margin-right: 0.25em;color: #696969;}#sk-container-id-3 label.sk-toggleable__label-arrow:hover:before {color: black;}#sk-container-id-3 div.sk-estimator:hover label.sk-toggleable__label-arrow:before {color: black;}#sk-container-id-3 div.sk-toggleable__content {max-height: 0;max-width: 0;overflow: hidden;text-align: left;background-color: #f0f8ff;}#sk-container-id-3 div.sk-toggleable__content pre {margin: 0.2em;color: black;border-radius: 0.25em;background-color: #f0f8ff;}#sk-container-id-3 input.sk-toggleable__control:checked~div.sk-toggleable__content {max-height: 200px;max-width: 100%;overflow: auto;}#sk-container-id-3 input.sk-toggleable__control:checked~label.sk-toggleable__label-arrow:before {content: \"▾\";}#sk-container-id-3 div.sk-estimator input.sk-toggleable__control:checked~label.sk-toggleable__label {background-color: #d4ebff;}#sk-container-id-3 div.sk-label input.sk-toggleable__control:checked~label.sk-toggleable__label {background-color: #d4ebff;}#sk-container-id-3 input.sk-hidden--visually {border: 0;clip: rect(1px 1px 1px 1px);clip: rect(1px, 1px, 1px, 1px);height: 1px;margin: -1px;overflow: hidden;padding: 0;position: absolute;width: 1px;}#sk-container-id-3 div.sk-estimator {font-family: monospace;background-color: #f0f8ff;border: 1px dotted black;border-radius: 0.25em;box-sizing: border-box;margin-bottom: 0.5em;}#sk-container-id-3 div.sk-estimator:hover {background-color: #d4ebff;}#sk-container-id-3 div.sk-parallel-item::after {content: \"\";width: 100%;border-bottom: 1px solid gray;flex-grow: 1;}#sk-container-id-3 div.sk-label:hover label.sk-toggleable__label {background-color: #d4ebff;}#sk-container-id-3 div.sk-serial::before {content: \"\";position: absolute;border-left: 1px solid gray;box-sizing: border-box;top: 0;bottom: 0;left: 50%;z-index: 0;}#sk-container-id-3 div.sk-serial {display: flex;flex-direction: column;align-items: center;background-color: white;padding-right: 0.2em;padding-left: 0.2em;position: relative;}#sk-container-id-3 div.sk-item {position: relative;z-index: 1;}#sk-container-id-3 div.sk-parallel {display: flex;align-items: stretch;justify-content: center;background-color: white;position: relative;}#sk-container-id-3 div.sk-item::before, #sk-container-id-3 div.sk-parallel-item::before {content: \"\";position: absolute;border-left: 1px solid gray;box-sizing: border-box;top: 0;bottom: 0;left: 50%;z-index: -1;}#sk-container-id-3 div.sk-parallel-item {display: flex;flex-direction: column;z-index: 1;position: relative;background-color: white;}#sk-container-id-3 div.sk-parallel-item:first-child::after {align-self: flex-end;width: 50%;}#sk-container-id-3 div.sk-parallel-item:last-child::after {align-self: flex-start;width: 50%;}#sk-container-id-3 div.sk-parallel-item:only-child::after {width: 0;}#sk-container-id-3 div.sk-dashed-wrapped {border: 1px dashed gray;margin: 0 0.4em 0.5em 0.4em;box-sizing: border-box;padding-bottom: 0.4em;background-color: white;}#sk-container-id-3 div.sk-label label {font-family: monospace;font-weight: bold;display: inline-block;line-height: 1.2em;}#sk-container-id-3 div.sk-label-container {text-align: center;}#sk-container-id-3 div.sk-container {/* jupyter's `normalize.less` sets `[hidden] { display: none; }` but bootstrap.min.css set `[hidden] { display: none !important; }` so we also need the `!important` here to be able to override the default hidden behavior on the sphinx rendered scikit-learn.org. See: https://github.com/scikit-learn/scikit-learn/issues/21755 */display: inline-block !important;position: relative;}#sk-container-id-3 div.sk-text-repr-fallback {display: none;}</style><div id=\"sk-container-id-3\" class=\"sk-top-container\"><div class=\"sk-text-repr-fallback\"><pre>LinearRegression()</pre><b>In a Jupyter environment, please rerun this cell to show the HTML representation or trust the notebook. <br />On GitHub, the HTML representation is unable to render, please try loading this page with nbviewer.org.</b></div><div class=\"sk-container\" hidden><div class=\"sk-item\"><div class=\"sk-estimator sk-toggleable\"><input class=\"sk-toggleable__control sk-hidden--visually\" id=\"sk-estimator-id-3\" type=\"checkbox\" checked><label for=\"sk-estimator-id-3\" class=\"sk-toggleable__label sk-toggleable__label-arrow\">LinearRegression</label><div class=\"sk-toggleable__content\"><pre>LinearRegression()</pre></div></div></div></div></div>"
            ]
          },
          "metadata": {},
          "execution_count": 99
        }
      ]
    },
    {
      "cell_type": "code",
      "source": [
        "linear_regression.fit(X=X_train, y=y_train)"
      ],
      "metadata": {
        "colab": {
          "base_uri": "https://localhost:8080/",
          "height": 75
        },
        "id": "UMM9GmsnUn5s",
        "outputId": "8dcf41b3-b71f-49d7-e243-be2da5791bf9"
      },
      "execution_count": null,
      "outputs": [
        {
          "output_type": "execute_result",
          "data": {
            "text/plain": [
              "LinearRegression()"
            ],
            "text/html": [
              "<style>#sk-container-id-4 {color: black;background-color: white;}#sk-container-id-4 pre{padding: 0;}#sk-container-id-4 div.sk-toggleable {background-color: white;}#sk-container-id-4 label.sk-toggleable__label {cursor: pointer;display: block;width: 100%;margin-bottom: 0;padding: 0.3em;box-sizing: border-box;text-align: center;}#sk-container-id-4 label.sk-toggleable__label-arrow:before {content: \"▸\";float: left;margin-right: 0.25em;color: #696969;}#sk-container-id-4 label.sk-toggleable__label-arrow:hover:before {color: black;}#sk-container-id-4 div.sk-estimator:hover label.sk-toggleable__label-arrow:before {color: black;}#sk-container-id-4 div.sk-toggleable__content {max-height: 0;max-width: 0;overflow: hidden;text-align: left;background-color: #f0f8ff;}#sk-container-id-4 div.sk-toggleable__content pre {margin: 0.2em;color: black;border-radius: 0.25em;background-color: #f0f8ff;}#sk-container-id-4 input.sk-toggleable__control:checked~div.sk-toggleable__content {max-height: 200px;max-width: 100%;overflow: auto;}#sk-container-id-4 input.sk-toggleable__control:checked~label.sk-toggleable__label-arrow:before {content: \"▾\";}#sk-container-id-4 div.sk-estimator input.sk-toggleable__control:checked~label.sk-toggleable__label {background-color: #d4ebff;}#sk-container-id-4 div.sk-label input.sk-toggleable__control:checked~label.sk-toggleable__label {background-color: #d4ebff;}#sk-container-id-4 input.sk-hidden--visually {border: 0;clip: rect(1px 1px 1px 1px);clip: rect(1px, 1px, 1px, 1px);height: 1px;margin: -1px;overflow: hidden;padding: 0;position: absolute;width: 1px;}#sk-container-id-4 div.sk-estimator {font-family: monospace;background-color: #f0f8ff;border: 1px dotted black;border-radius: 0.25em;box-sizing: border-box;margin-bottom: 0.5em;}#sk-container-id-4 div.sk-estimator:hover {background-color: #d4ebff;}#sk-container-id-4 div.sk-parallel-item::after {content: \"\";width: 100%;border-bottom: 1px solid gray;flex-grow: 1;}#sk-container-id-4 div.sk-label:hover label.sk-toggleable__label {background-color: #d4ebff;}#sk-container-id-4 div.sk-serial::before {content: \"\";position: absolute;border-left: 1px solid gray;box-sizing: border-box;top: 0;bottom: 0;left: 50%;z-index: 0;}#sk-container-id-4 div.sk-serial {display: flex;flex-direction: column;align-items: center;background-color: white;padding-right: 0.2em;padding-left: 0.2em;position: relative;}#sk-container-id-4 div.sk-item {position: relative;z-index: 1;}#sk-container-id-4 div.sk-parallel {display: flex;align-items: stretch;justify-content: center;background-color: white;position: relative;}#sk-container-id-4 div.sk-item::before, #sk-container-id-4 div.sk-parallel-item::before {content: \"\";position: absolute;border-left: 1px solid gray;box-sizing: border-box;top: 0;bottom: 0;left: 50%;z-index: -1;}#sk-container-id-4 div.sk-parallel-item {display: flex;flex-direction: column;z-index: 1;position: relative;background-color: white;}#sk-container-id-4 div.sk-parallel-item:first-child::after {align-self: flex-end;width: 50%;}#sk-container-id-4 div.sk-parallel-item:last-child::after {align-self: flex-start;width: 50%;}#sk-container-id-4 div.sk-parallel-item:only-child::after {width: 0;}#sk-container-id-4 div.sk-dashed-wrapped {border: 1px dashed gray;margin: 0 0.4em 0.5em 0.4em;box-sizing: border-box;padding-bottom: 0.4em;background-color: white;}#sk-container-id-4 div.sk-label label {font-family: monospace;font-weight: bold;display: inline-block;line-height: 1.2em;}#sk-container-id-4 div.sk-label-container {text-align: center;}#sk-container-id-4 div.sk-container {/* jupyter's `normalize.less` sets `[hidden] { display: none; }` but bootstrap.min.css set `[hidden] { display: none !important; }` so we also need the `!important` here to be able to override the default hidden behavior on the sphinx rendered scikit-learn.org. See: https://github.com/scikit-learn/scikit-learn/issues/21755 */display: inline-block !important;position: relative;}#sk-container-id-4 div.sk-text-repr-fallback {display: none;}</style><div id=\"sk-container-id-4\" class=\"sk-top-container\"><div class=\"sk-text-repr-fallback\"><pre>LinearRegression()</pre><b>In a Jupyter environment, please rerun this cell to show the HTML representation or trust the notebook. <br />On GitHub, the HTML representation is unable to render, please try loading this page with nbviewer.org.</b></div><div class=\"sk-container\" hidden><div class=\"sk-item\"><div class=\"sk-estimator sk-toggleable\"><input class=\"sk-toggleable__control sk-hidden--visually\" id=\"sk-estimator-id-4\" type=\"checkbox\" checked><label for=\"sk-estimator-id-4\" class=\"sk-toggleable__label sk-toggleable__label-arrow\">LinearRegression</label><div class=\"sk-toggleable__content\"><pre>LinearRegression()</pre></div></div></div></div></div>"
            ]
          },
          "metadata": {},
          "execution_count": 100
        }
      ]
    },
    {
      "cell_type": "code",
      "source": [
        "linear_regression.coef_"
      ],
      "metadata": {
        "colab": {
          "base_uri": "https://localhost:8080/"
        },
        "id": "d7x6n9SOUrcs",
        "outputId": "fa28196c-e0b5-4dc1-d338-ed391a6e2aba"
      },
      "execution_count": null,
      "outputs": [
        {
          "output_type": "execute_result",
          "data": {
            "text/plain": [
              "array([0.00817343])"
            ]
          },
          "metadata": {},
          "execution_count": 101
        }
      ]
    },
    {
      "cell_type": "code",
      "source": [
        "linear_regression.intercept_"
      ],
      "metadata": {
        "colab": {
          "base_uri": "https://localhost:8080/"
        },
        "id": "BlTjQ-jcUv2R",
        "outputId": "6351d206-e226-47a6-fe9c-6bab0f05760d"
      },
      "execution_count": null,
      "outputs": [
        {
          "output_type": "execute_result",
          "data": {
            "text/plain": [
              "-15.894460029519589"
            ]
          },
          "metadata": {},
          "execution_count": 102
        }
      ]
    },
    {
      "cell_type": "markdown",
      "source": [
        "##*EQUATION E & C*"
      ],
      "metadata": {
        "id": "jBK5lUrNU4xl"
      }
    },
    {
      "cell_type": "code",
      "source": [
        "(0.00817343 * 2024) -15.894460029519589"
      ],
      "metadata": {
        "colab": {
          "base_uri": "https://localhost:8080/"
        },
        "id": "-zDUnOSgUzqf",
        "outputId": "dbd6c29a-43f1-4a59-d4df-f4cdf4c04814"
      },
      "execution_count": null,
      "outputs": [
        {
          "output_type": "execute_result",
          "data": {
            "text/plain": [
              "0.6485622904804131"
            ]
          },
          "metadata": {},
          "execution_count": 103
        }
      ]
    },
    {
      "cell_type": "code",
      "source": [
        "(0.00817343 * 2030) -15.894460029519589"
      ],
      "metadata": {
        "colab": {
          "base_uri": "https://localhost:8080/"
        },
        "id": "KBp_Jk5lVUMV",
        "outputId": "6a2d0741-5b0e-4c40-d167-1ca940a72c01"
      },
      "execution_count": null,
      "outputs": [
        {
          "output_type": "execute_result",
          "data": {
            "text/plain": [
              "0.6976028704804129"
            ]
          },
          "metadata": {},
          "execution_count": 104
        }
      ]
    },
    {
      "cell_type": "markdown",
      "source": [
        "##*Model Testing*"
      ],
      "metadata": {
        "id": "pqun3MSeVhj2"
      }
    },
    {
      "cell_type": "code",
      "source": [
        "predicted = linear_regression.predict(X_test)"
      ],
      "metadata": {
        "id": "yQygnLvnVm8d"
      },
      "execution_count": null,
      "outputs": []
    },
    {
      "cell_type": "code",
      "source": [
        "expected=y_test"
      ],
      "metadata": {
        "id": "Zvp23RcOVrbA"
      },
      "execution_count": null,
      "outputs": []
    },
    {
      "cell_type": "code",
      "source": [
        "for p,e in zip(predicted[::], expected[::]):\n",
        "  print(f'Predicted: {p:.2f}, Expected: {e:.2f}')"
      ],
      "metadata": {
        "colab": {
          "base_uri": "https://localhost:8080/"
        },
        "id": "9mo_bYJAVumo",
        "outputId": "79e15603-599b-478a-d603-4948d8a118ae"
      },
      "execution_count": null,
      "outputs": [
        {
          "output_type": "stream",
          "name": "stdout",
          "text": [
            "Predicted: 0.64, Expected: 1.17\n",
            "Predicted: 0.47, Expected: 0.62\n",
            "Predicted: -0.15, Expected: -0.11\n",
            "Predicted: 0.31, Expected: 0.14\n",
            "Predicted: -0.11, Expected: -0.09\n",
            "Predicted: -0.29, Expected: -0.48\n",
            "Predicted: 0.58, Expected: 0.90\n",
            "Predicted: 0.39, Expected: 0.22\n",
            "Predicted: -0.45, Expected: -0.10\n",
            "Predicted: -0.01, Expected: 0.09\n",
            "Predicted: 0.23, Expected: 0.16\n",
            "Predicted: 0.53, Expected: 0.72\n",
            "Predicted: 0.27, Expected: 0.07\n",
            "Predicted: -0.51, Expected: -0.10\n",
            "Predicted: 0.44, Expected: 0.38\n",
            "Predicted: -0.35, Expected: -0.28\n",
            "Predicted: -0.28, Expected: -0.43\n",
            "Predicted: -0.43, Expected: -0.27\n",
            "Predicted: -0.44, Expected: -0.22\n",
            "Predicted: -0.40, Expected: -0.10\n",
            "Predicted: -0.09, Expected: -0.12\n",
            "Predicted: -0.53, Expected: -0.15\n",
            "Predicted: 0.29, Expected: 0.26\n",
            "Predicted: 0.38, Expected: 0.40\n",
            "Predicted: 0.52, Expected: 0.54\n",
            "Predicted: -0.41, Expected: -0.23\n",
            "Predicted: -0.04, Expected: 0.13\n",
            "Predicted: -0.13, Expected: -0.36\n",
            "Predicted: 0.24, Expected: -0.07\n",
            "Predicted: 0.33, Expected: 0.12\n",
            "Predicted: 0.04, Expected: -0.11\n",
            "Predicted: 0.30, Expected: 0.32\n",
            "Predicted: 0.55, Expected: 0.65\n",
            "Predicted: -0.48, Expected: -0.31\n",
            "Predicted: -0.19, Expected: -0.18\n",
            "Predicted: -0.07, Expected: -0.14\n"
          ]
        }
      ]
    },
    {
      "cell_type": "code",
      "source": [
        "total_error = 0.0\n",
        "for p, e in zip(predicted[::], expected[::]):\n",
        "    print(f'Predicted: {p:.2f}, Expected: {e:.2f} Error: {e - p:.2f}')\n",
        "    total_error += abs(e - p)"
      ],
      "metadata": {
        "colab": {
          "base_uri": "https://localhost:8080/"
        },
        "id": "vUKDzDo2V5uD",
        "outputId": "85190453-c639-4568-a5e0-02a17bd861bd"
      },
      "execution_count": null,
      "outputs": [
        {
          "output_type": "stream",
          "name": "stdout",
          "text": [
            "Predicted: 0.64, Expected: 1.17 Error: 0.53\n",
            "Predicted: 0.47, Expected: 0.62 Error: 0.15\n",
            "Predicted: -0.15, Expected: -0.11 Error: 0.04\n",
            "Predicted: 0.31, Expected: 0.14 Error: -0.17\n",
            "Predicted: -0.11, Expected: -0.09 Error: 0.02\n",
            "Predicted: -0.29, Expected: -0.48 Error: -0.19\n",
            "Predicted: 0.58, Expected: 0.90 Error: 0.32\n",
            "Predicted: 0.39, Expected: 0.22 Error: -0.17\n",
            "Predicted: -0.45, Expected: -0.10 Error: 0.35\n",
            "Predicted: -0.01, Expected: 0.09 Error: 0.10\n",
            "Predicted: 0.23, Expected: 0.16 Error: -0.07\n",
            "Predicted: 0.53, Expected: 0.72 Error: 0.19\n",
            "Predicted: 0.27, Expected: 0.07 Error: -0.20\n",
            "Predicted: -0.51, Expected: -0.10 Error: 0.41\n",
            "Predicted: 0.44, Expected: 0.38 Error: -0.06\n",
            "Predicted: -0.35, Expected: -0.28 Error: 0.07\n",
            "Predicted: -0.28, Expected: -0.43 Error: -0.15\n",
            "Predicted: -0.43, Expected: -0.27 Error: 0.16\n",
            "Predicted: -0.44, Expected: -0.22 Error: 0.22\n",
            "Predicted: -0.40, Expected: -0.10 Error: 0.30\n",
            "Predicted: -0.09, Expected: -0.12 Error: -0.03\n",
            "Predicted: -0.53, Expected: -0.15 Error: 0.38\n",
            "Predicted: 0.29, Expected: 0.26 Error: -0.03\n",
            "Predicted: 0.38, Expected: 0.40 Error: 0.02\n",
            "Predicted: 0.52, Expected: 0.54 Error: 0.02\n",
            "Predicted: -0.41, Expected: -0.23 Error: 0.18\n",
            "Predicted: -0.04, Expected: 0.13 Error: 0.17\n",
            "Predicted: -0.13, Expected: -0.36 Error: -0.23\n",
            "Predicted: 0.24, Expected: -0.07 Error: -0.31\n",
            "Predicted: 0.33, Expected: 0.12 Error: -0.21\n",
            "Predicted: 0.04, Expected: -0.11 Error: -0.15\n",
            "Predicted: 0.30, Expected: 0.32 Error: 0.02\n",
            "Predicted: 0.55, Expected: 0.65 Error: 0.10\n",
            "Predicted: -0.48, Expected: -0.31 Error: 0.17\n",
            "Predicted: -0.19, Expected: -0.18 Error: 0.01\n",
            "Predicted: -0.07, Expected: -0.14 Error: -0.07\n"
          ]
        }
      ]
    },
    {
      "cell_type": "code",
      "source": [
        "total_error/36"
      ],
      "metadata": {
        "colab": {
          "base_uri": "https://localhost:8080/"
        },
        "id": "uORRNjdsW-T2",
        "outputId": "648079ed-334f-4842-9186-0b22e2b5bcb4"
      },
      "execution_count": null,
      "outputs": [
        {
          "output_type": "execute_result",
          "data": {
            "text/plain": [
              "0.16601647436609587"
            ]
          },
          "metadata": {},
          "execution_count": 109
        }
      ]
    },
    {
      "cell_type": "markdown",
      "source": [
        "##*MAE*"
      ],
      "metadata": {
        "id": "Vr0_ev22X9oL"
      }
    },
    {
      "cell_type": "code",
      "source": [
        "from sklearn.metrics import mean_absolute_error"
      ],
      "metadata": {
        "id": "zF6cAiMlX6Qv"
      },
      "execution_count": null,
      "outputs": []
    },
    {
      "cell_type": "code",
      "source": [
        "print(\"MAE\", mean_absolute_error(expected,predicted))"
      ],
      "metadata": {
        "colab": {
          "base_uri": "https://localhost:8080/"
        },
        "id": "Utiegh8DYHvX",
        "outputId": "b55ba0e9-0340-41d4-dfd9-2ce939dd4d5b"
      },
      "execution_count": null,
      "outputs": [
        {
          "output_type": "stream",
          "name": "stdout",
          "text": [
            "MAE 0.16601647436609585\n"
          ]
        }
      ]
    },
    {
      "cell_type": "code",
      "source": [
        "from sklearn.metrics import mean_squared_error"
      ],
      "metadata": {
        "id": "QPd8thW0YJeA"
      },
      "execution_count": null,
      "outputs": []
    },
    {
      "cell_type": "code",
      "source": [
        "import numpy as np"
      ],
      "metadata": {
        "id": "fu4ggusdYPRR"
      },
      "execution_count": null,
      "outputs": []
    },
    {
      "cell_type": "markdown",
      "source": [
        "##*ROOT MEAN SQUARE*"
      ],
      "metadata": {
        "id": "65zY5jjDYSVF"
      }
    },
    {
      "cell_type": "code",
      "source": [
        "sumTwo=0.0\n",
        "for p,e in zip(predicted[::], expected[::]):\n",
        "  print(f'Predicted: {p:.2f}, Expected: {e:.2f} Error: {e-p:.2f}')\n",
        "  sumTwo +=np.sqrt(np.square(e-p)/36)"
      ],
      "metadata": {
        "colab": {
          "base_uri": "https://localhost:8080/"
        },
        "id": "wmtvRJQzYYBs",
        "outputId": "7e0927c9-44d8-493a-f22f-b2ab3edc681a"
      },
      "execution_count": null,
      "outputs": [
        {
          "output_type": "stream",
          "name": "stdout",
          "text": [
            "Predicted: 0.64, Expected: 1.17 Error: 0.53\n",
            "Predicted: 0.47, Expected: 0.62 Error: 0.15\n",
            "Predicted: -0.15, Expected: -0.11 Error: 0.04\n",
            "Predicted: 0.31, Expected: 0.14 Error: -0.17\n",
            "Predicted: -0.11, Expected: -0.09 Error: 0.02\n",
            "Predicted: -0.29, Expected: -0.48 Error: -0.19\n",
            "Predicted: 0.58, Expected: 0.90 Error: 0.32\n",
            "Predicted: 0.39, Expected: 0.22 Error: -0.17\n",
            "Predicted: -0.45, Expected: -0.10 Error: 0.35\n",
            "Predicted: -0.01, Expected: 0.09 Error: 0.10\n",
            "Predicted: 0.23, Expected: 0.16 Error: -0.07\n",
            "Predicted: 0.53, Expected: 0.72 Error: 0.19\n",
            "Predicted: 0.27, Expected: 0.07 Error: -0.20\n",
            "Predicted: -0.51, Expected: -0.10 Error: 0.41\n",
            "Predicted: 0.44, Expected: 0.38 Error: -0.06\n",
            "Predicted: -0.35, Expected: -0.28 Error: 0.07\n",
            "Predicted: -0.28, Expected: -0.43 Error: -0.15\n",
            "Predicted: -0.43, Expected: -0.27 Error: 0.16\n",
            "Predicted: -0.44, Expected: -0.22 Error: 0.22\n",
            "Predicted: -0.40, Expected: -0.10 Error: 0.30\n",
            "Predicted: -0.09, Expected: -0.12 Error: -0.03\n",
            "Predicted: -0.53, Expected: -0.15 Error: 0.38\n",
            "Predicted: 0.29, Expected: 0.26 Error: -0.03\n",
            "Predicted: 0.38, Expected: 0.40 Error: 0.02\n",
            "Predicted: 0.52, Expected: 0.54 Error: 0.02\n",
            "Predicted: -0.41, Expected: -0.23 Error: 0.18\n",
            "Predicted: -0.04, Expected: 0.13 Error: 0.17\n",
            "Predicted: -0.13, Expected: -0.36 Error: -0.23\n",
            "Predicted: 0.24, Expected: -0.07 Error: -0.31\n",
            "Predicted: 0.33, Expected: 0.12 Error: -0.21\n",
            "Predicted: 0.04, Expected: -0.11 Error: -0.15\n",
            "Predicted: 0.30, Expected: 0.32 Error: 0.02\n",
            "Predicted: 0.55, Expected: 0.65 Error: 0.10\n",
            "Predicted: -0.48, Expected: -0.31 Error: 0.17\n",
            "Predicted: -0.19, Expected: -0.18 Error: 0.01\n",
            "Predicted: -0.07, Expected: -0.14 Error: -0.07\n"
          ]
        }
      ]
    },
    {
      "cell_type": "code",
      "source": [
        "sumTwo"
      ],
      "metadata": {
        "colab": {
          "base_uri": "https://localhost:8080/"
        },
        "id": "6zaats4VY191",
        "outputId": "09ea688f-2f77-4883-da93-56fa439f4005"
      },
      "execution_count": null,
      "outputs": [
        {
          "output_type": "execute_result",
          "data": {
            "text/plain": [
              "0.9960988461965748"
            ]
          },
          "metadata": {},
          "execution_count": 115
        }
      ]
    },
    {
      "cell_type": "code",
      "source": [
        "from sklearn.metrics import mean_squared_error"
      ],
      "metadata": {
        "id": "l4Mz8VJFY8Yk"
      },
      "execution_count": null,
      "outputs": []
    },
    {
      "cell_type": "code",
      "source": [
        "import numpy as np"
      ],
      "metadata": {
        "id": "9Ai-JYgcY_sQ"
      },
      "execution_count": null,
      "outputs": []
    },
    {
      "cell_type": "code",
      "source": [
        "print(f'RMSE',np.log(np.sqrt(mean_squared_error(expected, predicted)) ))"
      ],
      "metadata": {
        "colab": {
          "base_uri": "https://localhost:8080/"
        },
        "id": "BAcGqNVVZC2M",
        "outputId": "88f8b9c0-122b-4ea6-da54-9bb758a7fcce"
      },
      "execution_count": null,
      "outputs": [
        {
          "output_type": "stream",
          "name": "stdout",
          "text": [
            "RMSE -1.573929471190076\n"
          ]
        }
      ]
    },
    {
      "cell_type": "markdown",
      "source": [
        "##* R squared  (R2)*"
      ],
      "metadata": {
        "id": "Yz6zVAysZJ49"
      }
    },
    {
      "cell_type": "code",
      "source": [
        "from sklearn.metrics import r2_score"
      ],
      "metadata": {
        "id": "EDKYalQ4ZF-k"
      },
      "execution_count": null,
      "outputs": []
    },
    {
      "cell_type": "code",
      "source": [
        "r2=r2_score(expected, predicted)"
      ],
      "metadata": {
        "id": "-q3mmsn8ZcYX"
      },
      "execution_count": null,
      "outputs": []
    },
    {
      "cell_type": "code",
      "source": [
        "r2"
      ],
      "metadata": {
        "colab": {
          "base_uri": "https://localhost:8080/"
        },
        "id": "qgC4Pfv6ZfMV",
        "outputId": "c8f2c402-c88d-4a44-8ded-baf2ac05edff"
      },
      "execution_count": null,
      "outputs": [
        {
          "output_type": "execute_result",
          "data": {
            "text/plain": [
              "0.7027578074327031"
            ]
          },
          "metadata": {},
          "execution_count": 121
        }
      ]
    },
    {
      "cell_type": "markdown",
      "source": [
        "#*Predicted Future Model*"
      ],
      "metadata": {
        "id": "HC-osLvOZjBc"
      }
    },
    {
      "cell_type": "code",
      "source": [
        "predict=(lambda x: linear_regression.coef_ *x + linear_regression.intercept_)"
      ],
      "metadata": {
        "id": "hWO9zmybaM0p"
      },
      "execution_count": null,
      "outputs": []
    },
    {
      "cell_type": "code",
      "source": [
        "max(GlobalMeans.Year.values)"
      ],
      "metadata": {
        "colab": {
          "base_uri": "https://localhost:8080/"
        },
        "id": "26KDSCXRZgxW",
        "outputId": "59a06889-e7ce-4e34-8c8a-2ced7d91dc0d"
      },
      "execution_count": null,
      "outputs": [
        {
          "output_type": "execute_result",
          "data": {
            "text/plain": [
              "2023"
            ]
          },
          "metadata": {},
          "execution_count": 122
        }
      ]
    },
    {
      "cell_type": "code",
      "source": [
        "predict(2019)"
      ],
      "metadata": {
        "colab": {
          "base_uri": "https://localhost:8080/"
        },
        "id": "6RHMYSQ-ZxHn",
        "outputId": "8fe74259-071b-4699-f704-c1342742ef78"
      },
      "execution_count": null,
      "outputs": [
        {
          "output_type": "execute_result",
          "data": {
            "text/plain": [
              "array([0.60769992])"
            ]
          },
          "metadata": {},
          "execution_count": 125
        }
      ]
    },
    {
      "cell_type": "code",
      "source": [
        "predict(2022)"
      ],
      "metadata": {
        "colab": {
          "base_uri": "https://localhost:8080/"
        },
        "id": "V-mzsQj2aQao",
        "outputId": "2b76664d-2d36-4611-ae89-e208c03ec39a"
      },
      "execution_count": null,
      "outputs": [
        {
          "output_type": "execute_result",
          "data": {
            "text/plain": [
              "array([0.63222022])"
            ]
          },
          "metadata": {},
          "execution_count": 126
        }
      ]
    },
    {
      "cell_type": "code",
      "source": [
        "predict(1890)"
      ],
      "metadata": {
        "colab": {
          "base_uri": "https://localhost:8080/"
        },
        "id": "u5us6-hmaU5p",
        "outputId": "89e8b1a6-7284-4f22-810d-33948c10a389"
      },
      "execution_count": null,
      "outputs": [
        {
          "output_type": "execute_result",
          "data": {
            "text/plain": [
              "array([-0.44667286])"
            ]
          },
          "metadata": {},
          "execution_count": 127
        }
      ]
    },
    {
      "cell_type": "code",
      "source": [
        "min(GlobalMeans.Year.values)"
      ],
      "metadata": {
        "colab": {
          "base_uri": "https://localhost:8080/"
        },
        "id": "c4k4VIXUat72",
        "outputId": "8e384359-044d-48aa-f626-bef02d6d8e19"
      },
      "execution_count": null,
      "outputs": [
        {
          "output_type": "execute_result",
          "data": {
            "text/plain": [
              "1880"
            ]
          },
          "metadata": {},
          "execution_count": 128
        }
      ]
    },
    {
      "cell_type": "code",
      "source": [
        "predict(1880)"
      ],
      "metadata": {
        "colab": {
          "base_uri": "https://localhost:8080/"
        },
        "id": "NPnYl0Fca6dh",
        "outputId": "db083777-5e5b-4af7-ab9b-e38a09b55e30"
      },
      "execution_count": null,
      "outputs": [
        {
          "output_type": "execute_result",
          "data": {
            "text/plain": [
              "array([-0.52840718])"
            ]
          },
          "metadata": {},
          "execution_count": 129
        }
      ]
    },
    {
      "cell_type": "code",
      "source": [
        "import seaborn as sns"
      ],
      "metadata": {
        "id": "qXoVpu99bG-i"
      },
      "execution_count": null,
      "outputs": []
    },
    {
      "cell_type": "code",
      "source": [
        "import matplotlib.pyplot as plt"
      ],
      "metadata": {
        "id": "6XRac1a0eYaL"
      },
      "execution_count": null,
      "outputs": []
    },
    {
      "cell_type": "code",
      "source": [
        "plt.hist2d(GlobalMeans['Year'], GlobalMeans['JanToDec'], bins=20, cmap='summer')\n",
        "plt.xlabel('Year')\n",
        "plt.ylabel('JanToDec')\n",
        "plt.title('Histogram of JanToDec Values over Years')\n",
        "plt.ylim(0, 12)\n",
        "plt.colorbar(label='Frequency')\n",
        "plt.show()"
      ],
      "metadata": {
        "colab": {
          "base_uri": "https://localhost:8080/",
          "height": 472
        },
        "id": "nkexA1OWbMQ2",
        "outputId": "9a549569-2c9d-415b-df2e-256c6ee42fa4"
      },
      "execution_count": null,
      "outputs": [
        {
          "output_type": "display_data",
          "data": {
            "text/plain": [
              "<Figure size 640x480 with 2 Axes>"
            ],
            "image/png": "[encoded data removed]"
          },
          "metadata": {}
        }
      ]
    }
  ]
}