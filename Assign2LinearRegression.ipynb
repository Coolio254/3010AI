{
  "nbformat": 4,
  "nbformat_minor": 0,
  "metadata": {
    "colab": {
      "provenance": [],
      "authorship_tag": "ABX9TyOz/HFlcFJrI/78eZpBU+zy",
      "include_colab_link": true
    },
    "kernelspec": {
      "name": "python3",
      "display_name": "Python 3"
    },
    "language_info": {
      "name": "python"
    }
  },
  "cells": [
    {
      "cell_type": "markdown",
      "metadata": {
        "id": "view-in-github",
        "colab_type": "text"
      },
      "source": [
        "<a href=\"https://colab.research.google.com/github/Coolio254/3010AI/blob/main/Assign2LinearRegression.ipynb\" target=\"_parent\"><img src=\"https://colab.research.google.com/assets/colab-badge.svg\" alt=\"Open In Colab\"/></a>"
      ]
    },
    {
      "cell_type": "code",
      "execution_count": null,
      "metadata": {
        "id": "Uw6O2DUFL45y"
      },
      "outputs": [],
      "source": [
        "import pandas as pd"
      ]
    },
    {
      "cell_type": "code",
      "source": [
        "%matplotlib inline"
      ],
      "metadata": {
        "id": "3m0qnlvLMtf8"
      },
      "execution_count": null,
      "outputs": []
    },
    {
      "cell_type": "code",
      "source": [
        "import matplotlib.pyplot as plt"
      ],
      "metadata": {
        "id": "Saxori2IMuhF"
      },
      "execution_count": null,
      "outputs": []
    },
    {
      "cell_type": "code",
      "source": [
        "GlobalMeans=pd.read_csv('/content/GlobalMeans.csv')"
      ],
      "metadata": {
        "id": "zYfG7PdnMuR8"
      },
      "execution_count": null,
      "outputs": []
    },
    {
      "cell_type": "code",
      "source": [
        "GlobalMeans.head"
      ],
      "metadata": {
        "colab": {
          "base_uri": "https://localhost:8080/"
        },
        "id": "li5D43olNCP8",
        "outputId": "f968cdb3-3683-4eec-a60e-faa96521b848"
      },
      "execution_count": null,
      "outputs": [
        {
          "output_type": "execute_result",
          "data": {
            "text/plain": [
              "<bound method NDFrame.head of      Year   Jan   Feb   Mar   Apr   May   Jun   Jul   Aug   Sep   Oct   Nov  \\\n",
              "0    1880 -0.17 -0.23 -0.08 -0.15 -0.09 -0.20 -0.16 -0.08 -0.12 -0.21 -0.20   \n",
              "1    1881 -0.18 -0.13  0.04  0.06  0.08 -0.18  0.01 -0.03 -0.14 -0.21 -0.17   \n",
              "2    1882  0.17  0.15  0.06 -0.15 -0.13 -0.22 -0.15 -0.06 -0.12 -0.22 -0.15   \n",
              "3    1883 -0.28 -0.36 -0.11 -0.17 -0.16 -0.07 -0.05 -0.13 -0.20 -0.10 -0.22   \n",
              "4    1884 -0.12 -0.06 -0.35 -0.39 -0.33 -0.35 -0.29 -0.27 -0.26 -0.24 -0.32   \n",
              "..    ...   ...   ...   ...   ...   ...   ...   ...   ...   ...   ...   ...   \n",
              "139  2019  0.94  0.95  1.17  1.01  0.85  0.90  0.94  0.95  0.92  1.00  0.99   \n",
              "140  2020  1.17  1.24  1.17  1.13  1.01  0.91  0.89  0.87  0.98  0.87  1.10   \n",
              "141  2021  0.81  0.64  0.88  0.75  0.78  0.84  0.91  0.81  0.92  0.99  0.93   \n",
              "142  2022  0.91  0.89  1.05  0.83  0.84  0.92  0.93  0.95  0.89  0.96  0.72   \n",
              "143  2023  0.87  0.97  1.20  1.00  0.93  1.08  1.18  1.19  1.47  1.33  1.42   \n",
              "\n",
              "      Dec  JanToDec    D-N    DJF   MAM   JJA   SON  \n",
              "0   -0.16     -0.15    ***    *** -0.10 -0.15 -0.18  \n",
              "1   -0.06     -0.08  -0.08  -0.16  0.06 -0.06 -0.18  \n",
              "2   -0.35     -0.10  -0.07   0.09 -0.08 -0.14 -0.17  \n",
              "3   -0.10     -0.16  -0.18  -0.33 -0.15 -0.08 -0.17  \n",
              "4   -0.30     -0.27  -0.26  -0.09 -0.35 -0.30 -0.28  \n",
              "..    ...       ...    ...    ...   ...   ...   ...  \n",
              "139  1.10      0.98   0.96   0.93  1.01  0.93  0.97  \n",
              "140  0.80      1.01   1.04   1.17  1.10  0.89  0.98  \n",
              "141  0.86      0.84   0.84   0.75  0.80  0.86  0.95  \n",
              "142  0.80      0.89   0.89   0.89  0.91  0.93  0.86  \n",
              "143  1.35      1.17   1.12   0.88  1.04  1.15  1.41  \n",
              "\n",
              "[144 rows x 19 columns]>"
            ]
          },
          "metadata": {},
          "execution_count": 5
        }
      ]
    },
    {
      "cell_type": "code",
      "source": [
        "GlobalMeans.tail()"
      ],
      "metadata": {
        "colab": {
          "base_uri": "https://localhost:8080/",
          "height": 206
        },
        "id": "xKKpza3UNICk",
        "outputId": "3d9246d6-dd9b-4311-e561-09758af279d9"
      },
      "execution_count": null,
      "outputs": [
        {
          "output_type": "execute_result",
          "data": {
            "text/plain": [
              "     Year   Jan   Feb   Mar   Apr   May   Jun   Jul   Aug   Sep   Oct   Nov  \\\n",
              "139  2019  0.94  0.95  1.17  1.01  0.85  0.90  0.94  0.95  0.92  1.00  0.99   \n",
              "140  2020  1.17  1.24  1.17  1.13  1.01  0.91  0.89  0.87  0.98  0.87  1.10   \n",
              "141  2021  0.81  0.64  0.88  0.75  0.78  0.84  0.91  0.81  0.92  0.99  0.93   \n",
              "142  2022  0.91  0.89  1.05  0.83  0.84  0.92  0.93  0.95  0.89  0.96  0.72   \n",
              "143  2023  0.87  0.97  1.20  1.00  0.93  1.08  1.18  1.19  1.47  1.33  1.42   \n",
              "\n",
              "      Dec  JanToDec   D-N   DJF   MAM   JJA   SON  \n",
              "139  1.10      0.98  0.96  0.93  1.01  0.93  0.97  \n",
              "140  0.80      1.01  1.04  1.17  1.10  0.89  0.98  \n",
              "141  0.86      0.84  0.84  0.75  0.80  0.86  0.95  \n",
              "142  0.80      0.89  0.89  0.89  0.91  0.93  0.86  \n",
              "143  1.35      1.17  1.12  0.88  1.04  1.15  1.41  "
            ],
            "text/html": [
              "\n",
              "  <div id=\"df-e66d4b13-2e4e-4252-83cf-f65e93cb3181\" class=\"colab-df-container\">\n",
              "    <div>\n",
              "<style scoped>\n",
              "    .dataframe tbody tr th:only-of-type {\n",
              "        vertical-align: middle;\n",
              "    }\n",
              "\n",
              "    .dataframe tbody tr th {\n",
              "        vertical-align: top;\n",
              "    }\n",
              "\n",
              "    .dataframe thead th {\n",
              "        text-align: right;\n",
              "    }\n",
              "</style>\n",
              "<table border=\"1\" class=\"dataframe\">\n",
              "  <thead>\n",
              "    <tr style=\"text-align: right;\">\n",
              "      <th></th>\n",
              "      <th>Year</th>\n",
              "      <th>Jan</th>\n",
              "      <th>Feb</th>\n",
              "      <th>Mar</th>\n",
              "      <th>Apr</th>\n",
              "      <th>May</th>\n",
              "      <th>Jun</th>\n",
              "      <th>Jul</th>\n",
              "      <th>Aug</th>\n",
              "      <th>Sep</th>\n",
              "      <th>Oct</th>\n",
              "      <th>Nov</th>\n",
              "      <th>Dec</th>\n",
              "      <th>JanToDec</th>\n",
              "      <th>D-N</th>\n",
              "      <th>DJF</th>\n",
              "      <th>MAM</th>\n",
              "      <th>JJA</th>\n",
              "      <th>SON</th>\n",
              "    </tr>\n",
              "  </thead>\n",
              "  <tbody>\n",
              "    <tr>\n",
              "      <th>139</th>\n",
              "      <td>2019</td>\n",
              "      <td>0.94</td>\n",
              "      <td>0.95</td>\n",
              "      <td>1.17</td>\n",
              "      <td>1.01</td>\n",
              "      <td>0.85</td>\n",
              "      <td>0.90</td>\n",
              "      <td>0.94</td>\n",
              "      <td>0.95</td>\n",
              "      <td>0.92</td>\n",
              "      <td>1.00</td>\n",
              "      <td>0.99</td>\n",
              "      <td>1.10</td>\n",
              "      <td>0.98</td>\n",
              "      <td>0.96</td>\n",
              "      <td>0.93</td>\n",
              "      <td>1.01</td>\n",
              "      <td>0.93</td>\n",
              "      <td>0.97</td>\n",
              "    </tr>\n",
              "    <tr>\n",
              "      <th>140</th>\n",
              "      <td>2020</td>\n",
              "      <td>1.17</td>\n",
              "      <td>1.24</td>\n",
              "      <td>1.17</td>\n",
              "      <td>1.13</td>\n",
              "      <td>1.01</td>\n",
              "      <td>0.91</td>\n",
              "      <td>0.89</td>\n",
              "      <td>0.87</td>\n",
              "      <td>0.98</td>\n",
              "      <td>0.87</td>\n",
              "      <td>1.10</td>\n",
              "      <td>0.80</td>\n",
              "      <td>1.01</td>\n",
              "      <td>1.04</td>\n",
              "      <td>1.17</td>\n",
              "      <td>1.10</td>\n",
              "      <td>0.89</td>\n",
              "      <td>0.98</td>\n",
              "    </tr>\n",
              "    <tr>\n",
              "      <th>141</th>\n",
              "      <td>2021</td>\n",
              "      <td>0.81</td>\n",
              "      <td>0.64</td>\n",
              "      <td>0.88</td>\n",
              "      <td>0.75</td>\n",
              "      <td>0.78</td>\n",
              "      <td>0.84</td>\n",
              "      <td>0.91</td>\n",
              "      <td>0.81</td>\n",
              "      <td>0.92</td>\n",
              "      <td>0.99</td>\n",
              "      <td>0.93</td>\n",
              "      <td>0.86</td>\n",
              "      <td>0.84</td>\n",
              "      <td>0.84</td>\n",
              "      <td>0.75</td>\n",
              "      <td>0.80</td>\n",
              "      <td>0.86</td>\n",
              "      <td>0.95</td>\n",
              "    </tr>\n",
              "    <tr>\n",
              "      <th>142</th>\n",
              "      <td>2022</td>\n",
              "      <td>0.91</td>\n",
              "      <td>0.89</td>\n",
              "      <td>1.05</td>\n",
              "      <td>0.83</td>\n",
              "      <td>0.84</td>\n",
              "      <td>0.92</td>\n",
              "      <td>0.93</td>\n",
              "      <td>0.95</td>\n",
              "      <td>0.89</td>\n",
              "      <td>0.96</td>\n",
              "      <td>0.72</td>\n",
              "      <td>0.80</td>\n",
              "      <td>0.89</td>\n",
              "      <td>0.89</td>\n",
              "      <td>0.89</td>\n",
              "      <td>0.91</td>\n",
              "      <td>0.93</td>\n",
              "      <td>0.86</td>\n",
              "    </tr>\n",
              "    <tr>\n",
              "      <th>143</th>\n",
              "      <td>2023</td>\n",
              "      <td>0.87</td>\n",
              "      <td>0.97</td>\n",
              "      <td>1.20</td>\n",
              "      <td>1.00</td>\n",
              "      <td>0.93</td>\n",
              "      <td>1.08</td>\n",
              "      <td>1.18</td>\n",
              "      <td>1.19</td>\n",
              "      <td>1.47</td>\n",
              "      <td>1.33</td>\n",
              "      <td>1.42</td>\n",
              "      <td>1.35</td>\n",
              "      <td>1.17</td>\n",
              "      <td>1.12</td>\n",
              "      <td>0.88</td>\n",
              "      <td>1.04</td>\n",
              "      <td>1.15</td>\n",
              "      <td>1.41</td>\n",
              "    </tr>\n",
              "  </tbody>\n",
              "</table>\n",
              "</div>\n",
              "    <div class=\"colab-df-buttons\">\n",
              "\n",
              "  <div class=\"colab-df-container\">\n",
              "    <button class=\"colab-df-convert\" onclick=\"convertToInteractive('df-e66d4b13-2e4e-4252-83cf-f65e93cb3181')\"\n",
              "            title=\"Convert this dataframe to an interactive table.\"\n",
              "            style=\"display:none;\">\n",
              "\n",
              "  <svg xmlns=\"http://www.w3.org/2000/svg\" height=\"24px\" viewBox=\"0 -960 960 960\">\n",
              "    <path d=\"M120-120v-720h720v720H120Zm60-500h600v-160H180v160Zm220 220h160v-160H400v160Zm0 220h160v-160H400v160ZM180-400h160v-160H180v160Zm440 0h160v-160H620v160ZM180-180h160v-160H180v160Zm440 0h160v-160H620v160Z\"/>\n",
              "  </svg>\n",
              "    </button>\n",
              "\n",
              "  <style>\n",
              "    .colab-df-container {\n",
              "      display:flex;\n",
              "      gap: 12px;\n",
              "    }\n",
              "\n",
              "    .colab-df-convert {\n",
              "      background-color: #E8F0FE;\n",
              "      border: none;\n",
              "      border-radius: 50%;\n",
              "      cursor: pointer;\n",
              "      display: none;\n",
              "      fill: #1967D2;\n",
              "      height: 32px;\n",
              "      padding: 0 0 0 0;\n",
              "      width: 32px;\n",
              "    }\n",
              "\n",
              "    .colab-df-convert:hover {\n",
              "      background-color: #E2EBFA;\n",
              "      box-shadow: 0px 1px 2px rgba(60, 64, 67, 0.3), 0px 1px 3px 1px rgba(60, 64, 67, 0.15);\n",
              "      fill: #174EA6;\n",
              "    }\n",
              "\n",
              "    .colab-df-buttons div {\n",
              "      margin-bottom: 4px;\n",
              "    }\n",
              "\n",
              "    [theme=dark] .colab-df-convert {\n",
              "      background-color: #3B4455;\n",
              "      fill: #D2E3FC;\n",
              "    }\n",
              "\n",
              "    [theme=dark] .colab-df-convert:hover {\n",
              "      background-color: #434B5C;\n",
              "      box-shadow: 0px 1px 3px 1px rgba(0, 0, 0, 0.15);\n",
              "      filter: drop-shadow(0px 1px 2px rgba(0, 0, 0, 0.3));\n",
              "      fill: #FFFFFF;\n",
              "    }\n",
              "  </style>\n",
              "\n",
              "    <script>\n",
              "      const buttonEl =\n",
              "        document.querySelector('#df-e66d4b13-2e4e-4252-83cf-f65e93cb3181 button.colab-df-convert');\n",
              "      buttonEl.style.display =\n",
              "        google.colab.kernel.accessAllowed ? 'block' : 'none';\n",
              "\n",
              "      async function convertToInteractive(key) {\n",
              "        const element = document.querySelector('#df-e66d4b13-2e4e-4252-83cf-f65e93cb3181');\n",
              "        const dataTable =\n",
              "          await google.colab.kernel.invokeFunction('convertToInteractive',\n",
              "                                                    [key], {});\n",
              "        if (!dataTable) return;\n",
              "\n",
              "        const docLinkHtml = 'Like what you see? Visit the ' +\n",
              "          '<a target=\"_blank\" href=https://colab.research.google.com/notebooks/data_table.ipynb>data table notebook</a>'\n",
              "          + ' to learn more about interactive tables.';\n",
              "        element.innerHTML = '';\n",
              "        dataTable['output_type'] = 'display_data';\n",
              "        await google.colab.output.renderOutput(dataTable, element);\n",
              "        const docLink = document.createElement('div');\n",
              "        docLink.innerHTML = docLinkHtml;\n",
              "        element.appendChild(docLink);\n",
              "      }\n",
              "    </script>\n",
              "  </div>\n",
              "\n",
              "\n",
              "<div id=\"df-0aa0c1f9-83a3-4f5d-a020-5fdae6529ad2\">\n",
              "  <button class=\"colab-df-quickchart\" onclick=\"quickchart('df-0aa0c1f9-83a3-4f5d-a020-5fdae6529ad2')\"\n",
              "            title=\"Suggest charts\"\n",
              "            style=\"display:none;\">\n",
              "\n",
              "<svg xmlns=\"http://www.w3.org/2000/svg\" height=\"24px\"viewBox=\"0 0 24 24\"\n",
              "     width=\"24px\">\n",
              "    <g>\n",
              "        <path d=\"M19 3H5c-1.1 0-2 .9-2 2v14c0 1.1.9 2 2 2h14c1.1 0 2-.9 2-2V5c0-1.1-.9-2-2-2zM9 17H7v-7h2v7zm4 0h-2V7h2v10zm4 0h-2v-4h2v4z\"/>\n",
              "    </g>\n",
              "</svg>\n",
              "  </button>\n",
              "\n",
              "<style>\n",
              "  .colab-df-quickchart {\n",
              "      --bg-color: #E8F0FE;\n",
              "      --fill-color: #1967D2;\n",
              "      --hover-bg-color: #E2EBFA;\n",
              "      --hover-fill-color: #174EA6;\n",
              "      --disabled-fill-color: #AAA;\n",
              "      --disabled-bg-color: #DDD;\n",
              "  }\n",
              "\n",
              "  [theme=dark] .colab-df-quickchart {\n",
              "      --bg-color: #3B4455;\n",
              "      --fill-color: #D2E3FC;\n",
              "      --hover-bg-color: #434B5C;\n",
              "      --hover-fill-color: #FFFFFF;\n",
              "      --disabled-bg-color: #3B4455;\n",
              "      --disabled-fill-color: #666;\n",
              "  }\n",
              "\n",
              "  .colab-df-quickchart {\n",
              "    background-color: var(--bg-color);\n",
              "    border: none;\n",
              "    border-radius: 50%;\n",
              "    cursor: pointer;\n",
              "    display: none;\n",
              "    fill: var(--fill-color);\n",
              "    height: 32px;\n",
              "    padding: 0;\n",
              "    width: 32px;\n",
              "  }\n",
              "\n",
              "  .colab-df-quickchart:hover {\n",
              "    background-color: var(--hover-bg-color);\n",
              "    box-shadow: 0 1px 2px rgba(60, 64, 67, 0.3), 0 1px 3px 1px rgba(60, 64, 67, 0.15);\n",
              "    fill: var(--button-hover-fill-color);\n",
              "  }\n",
              "\n",
              "  .colab-df-quickchart-complete:disabled,\n",
              "  .colab-df-quickchart-complete:disabled:hover {\n",
              "    background-color: var(--disabled-bg-color);\n",
              "    fill: var(--disabled-fill-color);\n",
              "    box-shadow: none;\n",
              "  }\n",
              "\n",
              "  .colab-df-spinner {\n",
              "    border: 2px solid var(--fill-color);\n",
              "    border-color: transparent;\n",
              "    border-bottom-color: var(--fill-color);\n",
              "    animation:\n",
              "      spin 1s steps(1) infinite;\n",
              "  }\n",
              "\n",
              "  @keyframes spin {\n",
              "    0% {\n",
              "      border-color: transparent;\n",
              "      border-bottom-color: var(--fill-color);\n",
              "      border-left-color: var(--fill-color);\n",
              "    }\n",
              "    20% {\n",
              "      border-color: transparent;\n",
              "      border-left-color: var(--fill-color);\n",
              "      border-top-color: var(--fill-color);\n",
              "    }\n",
              "    30% {\n",
              "      border-color: transparent;\n",
              "      border-left-color: var(--fill-color);\n",
              "      border-top-color: var(--fill-color);\n",
              "      border-right-color: var(--fill-color);\n",
              "    }\n",
              "    40% {\n",
              "      border-color: transparent;\n",
              "      border-right-color: var(--fill-color);\n",
              "      border-top-color: var(--fill-color);\n",
              "    }\n",
              "    60% {\n",
              "      border-color: transparent;\n",
              "      border-right-color: var(--fill-color);\n",
              "    }\n",
              "    80% {\n",
              "      border-color: transparent;\n",
              "      border-right-color: var(--fill-color);\n",
              "      border-bottom-color: var(--fill-color);\n",
              "    }\n",
              "    90% {\n",
              "      border-color: transparent;\n",
              "      border-bottom-color: var(--fill-color);\n",
              "    }\n",
              "  }\n",
              "</style>\n",
              "\n",
              "  <script>\n",
              "    async function quickchart(key) {\n",
              "      const quickchartButtonEl =\n",
              "        document.querySelector('#' + key + ' button');\n",
              "      quickchartButtonEl.disabled = true;  // To prevent multiple clicks.\n",
              "      quickchartButtonEl.classList.add('colab-df-spinner');\n",
              "      try {\n",
              "        const charts = await google.colab.kernel.invokeFunction(\n",
              "            'suggestCharts', [key], {});\n",
              "      } catch (error) {\n",
              "        console.error('Error during call to suggestCharts:', error);\n",
              "      }\n",
              "      quickchartButtonEl.classList.remove('colab-df-spinner');\n",
              "      quickchartButtonEl.classList.add('colab-df-quickchart-complete');\n",
              "    }\n",
              "    (() => {\n",
              "      let quickchartButtonEl =\n",
              "        document.querySelector('#df-0aa0c1f9-83a3-4f5d-a020-5fdae6529ad2 button');\n",
              "      quickchartButtonEl.style.display =\n",
              "        google.colab.kernel.accessAllowed ? 'block' : 'none';\n",
              "    })();\n",
              "  </script>\n",
              "</div>\n",
              "    </div>\n",
              "  </div>\n"
            ],
            "application/vnd.google.colaboratory.intrinsic+json": {
              "type": "dataframe",
              "summary": "{\n  \"name\": \"GlobalMeans\",\n  \"rows\": 5,\n  \"fields\": [\n    {\n      \"column\": \"Year\",\n      \"properties\": {\n        \"dtype\": \"number\",\n        \"std\": 1,\n        \"min\": 2019,\n        \"max\": 2023,\n        \"samples\": [\n          2020,\n          2023,\n          2021\n        ],\n        \"num_unique_values\": 5,\n        \"semantic_type\": \"\",\n        \"description\": \"\"\n      }\n    },\n    {\n      \"column\": \"Jan\",\n      \"properties\": {\n        \"dtype\": \"number\",\n        \"std\": 0.13747727084867514,\n        \"min\": 0.81,\n        \"max\": 1.17,\n        \"samples\": [\n          1.17,\n          0.87,\n          0.81\n        ],\n        \"num_unique_values\": 5,\n        \"semantic_type\": \"\",\n        \"description\": \"\"\n      }\n    },\n    {\n      \"column\": \"Feb\",\n      \"properties\": {\n        \"dtype\": \"number\",\n        \"std\": 0.21417282740814717,\n        \"min\": 0.64,\n        \"max\": 1.24,\n        \"samples\": [\n          1.24,\n          0.97,\n          0.64\n        ],\n        \"num_unique_values\": 5,\n        \"semantic_type\": \"\",\n        \"description\": \"\"\n      }\n    },\n    {\n      \"column\": \"Mar\",\n      \"properties\": {\n        \"dtype\": \"number\",\n        \"std\": 0.13277801022759753,\n        \"min\": 0.88,\n        \"max\": 1.2,\n        \"samples\": [\n          0.88,\n          1.2,\n          1.17\n        ],\n        \"num_unique_values\": 4,\n        \"semantic_type\": \"\",\n        \"description\": \"\"\n      }\n    },\n    {\n      \"column\": \"Apr\",\n      \"properties\": {\n        \"dtype\": \"number\",\n        \"std\": 0.152249794745346,\n        \"min\": 0.75,\n        \"max\": 1.13,\n        \"samples\": [\n          1.13,\n          1.0,\n          0.75\n        ],\n        \"num_unique_values\": 5,\n        \"semantic_type\": \"\",\n        \"description\": \"\"\n      }\n    },\n    {\n      \"column\": \"May\",\n      \"properties\": {\n        \"dtype\": \"number\",\n        \"std\": 0.08927485648266258,\n        \"min\": 0.78,\n        \"max\": 1.01,\n        \"samples\": [\n          1.01,\n          0.93,\n          0.78\n        ],\n        \"num_unique_values\": 5,\n        \"semantic_type\": \"\",\n        \"description\": \"\"\n      }\n    },\n    {\n      \"column\": \"Jun\",\n      \"properties\": {\n        \"dtype\": \"number\",\n        \"std\": 0.08944271909999162,\n        \"min\": 0.84,\n        \"max\": 1.08,\n        \"samples\": [\n          0.91,\n          1.08,\n          0.84\n        ],\n        \"num_unique_values\": 5,\n        \"semantic_type\": \"\",\n        \"description\": \"\"\n      }\n    },\n    {\n      \"column\": \"Jul\",\n      \"properties\": {\n        \"dtype\": \"number\",\n        \"std\": 0.11895377253370316,\n        \"min\": 0.89,\n        \"max\": 1.18,\n        \"samples\": [\n          0.89,\n          1.18,\n          0.91\n        ],\n        \"num_unique_values\": 5,\n        \"semantic_type\": \"\",\n        \"description\": \"\"\n      }\n    },\n    {\n      \"column\": \"Aug\",\n      \"properties\": {\n        \"dtype\": \"number\",\n        \"std\": 0.1444991349455075,\n        \"min\": 0.81,\n        \"max\": 1.19,\n        \"samples\": [\n          0.87,\n          1.19,\n          0.95\n        ],\n        \"num_unique_values\": 4,\n        \"semantic_type\": \"\",\n        \"description\": \"\"\n      }\n    },\n    {\n      \"column\": \"Sep\",\n      \"properties\": {\n        \"dtype\": \"number\",\n        \"std\": 0.24480604567698075,\n        \"min\": 0.89,\n        \"max\": 1.47,\n        \"samples\": [\n          0.98,\n          1.47,\n          0.92\n        ],\n        \"num_unique_values\": 4,\n        \"semantic_type\": \"\",\n        \"description\": \"\"\n      }\n    },\n    {\n      \"column\": \"Oct\",\n      \"properties\": {\n        \"dtype\": \"number\",\n        \"std\": 0.17535677916750186,\n        \"min\": 0.87,\n        \"max\": 1.33,\n        \"samples\": [\n          0.87,\n          1.33,\n          0.99\n        ],\n        \"num_unique_values\": 5,\n        \"semantic_type\": \"\",\n        \"description\": \"\"\n      }\n    },\n    {\n      \"column\": \"Nov\",\n      \"properties\": {\n        \"dtype\": \"number\",\n        \"std\": 0.2572353008434107,\n        \"min\": 0.72,\n        \"max\": 1.42,\n        \"samples\": [\n          1.1,\n          1.42,\n          0.93\n        ],\n        \"num_unique_values\": 5,\n        \"semantic_type\": \"\",\n        \"description\": \"\"\n      }\n    },\n    {\n      \"column\": \"Dec\",\n      \"properties\": {\n        \"dtype\": \"number\",\n        \"std\": 0.24004166305039634,\n        \"min\": 0.8,\n        \"max\": 1.35,\n        \"samples\": [\n          0.8,\n          1.35,\n          1.1\n        ],\n        \"num_unique_values\": 4,\n        \"semantic_type\": \"\",\n        \"description\": \"\"\n      }\n    },\n    {\n      \"column\": \"JanToDec\",\n      \"properties\": {\n        \"dtype\": \"number\",\n        \"std\": 0.12716131487209464,\n        \"min\": 0.84,\n        \"max\": 1.17,\n        \"samples\": [\n          1.01,\n          1.17,\n          0.84\n        ],\n        \"num_unique_values\": 5,\n        \"semantic_type\": \"\",\n        \"description\": \"\"\n      }\n    },\n    {\n      \"column\": \"D-N\",\n      \"properties\": {\n        \"dtype\": \"string\",\n        \"samples\": [\n          \"1.04\",\n          \"1.12\",\n          \"0.84\"\n        ],\n        \"num_unique_values\": 5,\n        \"semantic_type\": \"\",\n        \"description\": \"\"\n      }\n    },\n    {\n      \"column\": \"DJF\",\n      \"properties\": {\n        \"dtype\": \"string\",\n        \"samples\": [\n          \"1.17\",\n          \"0.88\",\n          \"0.75\"\n        ],\n        \"num_unique_values\": 5,\n        \"semantic_type\": \"\",\n        \"description\": \"\"\n      }\n    },\n    {\n      \"column\": \"MAM\",\n      \"properties\": {\n        \"dtype\": \"number\",\n        \"std\": 0.11819475453673908,\n        \"min\": 0.8,\n        \"max\": 1.1,\n        \"samples\": [\n          1.1,\n          1.04,\n          0.8\n        ],\n        \"num_unique_values\": 5,\n        \"semantic_type\": \"\",\n        \"description\": \"\"\n      }\n    },\n    {\n      \"column\": \"JJA\",\n      \"properties\": {\n        \"dtype\": \"number\",\n        \"std\": 0.11454256850621079,\n        \"min\": 0.86,\n        \"max\": 1.15,\n        \"samples\": [\n          0.89,\n          1.15,\n          0.93\n        ],\n        \"num_unique_values\": 4,\n        \"semantic_type\": \"\",\n        \"description\": \"\"\n      }\n    },\n    {\n      \"column\": \"SON\",\n      \"properties\": {\n        \"dtype\": \"number\",\n        \"std\": 0.21547621678505494,\n        \"min\": 0.86,\n        \"max\": 1.41,\n        \"samples\": [\n          0.98,\n          1.41,\n          0.95\n        ],\n        \"num_unique_values\": 5,\n        \"semantic_type\": \"\",\n        \"description\": \"\"\n      }\n    }\n  ]\n}"
            }
          },
          "metadata": {},
          "execution_count": 6
        }
      ]
    },
    {
      "cell_type": "code",
      "source": [
        "GlobalMeans.sample(20)"
      ],
      "metadata": {
        "colab": {
          "base_uri": "https://localhost:8080/",
          "height": 677
        },
        "id": "I1JUiMbeSBwu",
        "outputId": "121144c0-1e15-404d-f684-d557f7803220"
      },
      "execution_count": null,
      "outputs": [
        {
          "output_type": "execute_result",
          "data": {
            "text/plain": [
              "     Year   Jan   Feb   Mar   Apr   May   Jun   Jul   Aug   Sep   Oct   Nov  \\\n",
              "37   1917 -0.56 -0.62 -0.63 -0.54 -0.54 -0.43 -0.25 -0.22 -0.22 -0.43 -0.33   \n",
              "121  2001  0.45  0.44  0.55  0.50  0.58  0.52  0.59  0.49  0.51  0.50  0.72   \n",
              "135  2015  0.87  0.90  0.96  0.76  0.80  0.81  0.73  0.79  0.85  1.09  1.06   \n",
              "21   1901 -0.21 -0.11  0.06 -0.03 -0.15 -0.12 -0.14 -0.20 -0.22 -0.29 -0.16   \n",
              "103  1983  0.53  0.43  0.41  0.27  0.33  0.22  0.18  0.35  0.37  0.17  0.30   \n",
              "51   1931 -0.10 -0.20 -0.10 -0.23 -0.19 -0.08 -0.03 -0.04 -0.06  0.06 -0.06   \n",
              "81   1961  0.07  0.19  0.09  0.13  0.12  0.11  0.01  0.01  0.08  0.00  0.03   \n",
              "7    1887 -0.71 -0.56 -0.35 -0.34 -0.30 -0.24 -0.25 -0.35 -0.25 -0.35 -0.26   \n",
              "96   1976 -0.03 -0.06 -0.22 -0.07 -0.21 -0.12 -0.10 -0.12 -0.07 -0.24 -0.06   \n",
              "18   1898 -0.02 -0.29 -0.51 -0.30 -0.30 -0.19 -0.22 -0.26 -0.21 -0.33 -0.38   \n",
              "76   1956 -0.13 -0.24 -0.21 -0.28 -0.29 -0.15 -0.09 -0.26 -0.19 -0.23 -0.14   \n",
              "29   1909 -0.72 -0.45 -0.53 -0.58 -0.54 -0.51 -0.44 -0.33 -0.37 -0.39 -0.31   \n",
              "34   1914  0.05 -0.09 -0.23 -0.29 -0.20 -0.25 -0.22 -0.15 -0.16 -0.02 -0.15   \n",
              "47   1927 -0.27 -0.17 -0.38 -0.30 -0.25 -0.27 -0.19 -0.24 -0.12 -0.01 -0.05   \n",
              "17   1897 -0.14 -0.16 -0.13 -0.01  0.00 -0.11 -0.02 -0.08 -0.07 -0.12 -0.17   \n",
              "82   1962  0.05  0.15  0.10  0.05 -0.06  0.03  0.02 -0.01  0.00  0.01  0.06   \n",
              "139  2019  0.94  0.95  1.17  1.01  0.85  0.90  0.94  0.95  0.92  1.00  0.99   \n",
              "12   1892 -0.28 -0.11 -0.39 -0.33 -0.23 -0.22 -0.31 -0.27 -0.16 -0.13 -0.41   \n",
              "11   1891 -0.33 -0.46 -0.17 -0.27 -0.16 -0.20 -0.16 -0.16 -0.14 -0.21 -0.30   \n",
              "143  2023  0.87  0.97  1.20  1.00  0.93  1.08  1.18  1.19  1.47  1.33  1.42   \n",
              "\n",
              "      Dec  JanToDec    D-N    DJF   MAM   JJA   SON  \n",
              "37  -0.67     -0.45  -0.46  -0.66 -0.57 -0.30 -0.33  \n",
              "121  0.55      0.53   0.51   0.39  0.54  0.53  0.58  \n",
              "135  1.17      0.90   0.87   0.85  0.84  0.78  1.00  \n",
              "21  -0.27     -0.15  -0.14  -0.13 -0.04 -0.15 -0.23  \n",
              "103  0.16      0.31   0.33   0.46  0.34  0.25  0.28  \n",
              "51  -0.05     -0.09  -0.09  -0.12 -0.17 -0.05 -0.02  \n",
              "81  -0.16      0.06   0.09   0.15  0.11  0.04  0.04  \n",
              "7   -0.32     -0.36  -0.35  -0.51 -0.33 -0.28 -0.28  \n",
              "96   0.11     -0.10  -0.12  -0.09 -0.16 -0.11 -0.12  \n",
              "18  -0.22     -0.27  -0.27  -0.17 -0.37 -0.22 -0.31  \n",
              "76  -0.06     -0.19  -0.21  -0.22 -0.26 -0.17 -0.19  \n",
              "29  -0.55     -0.48  -0.47  -0.55 -0.55 -0.43 -0.36  \n",
              "34  -0.03     -0.15  -0.14  -0.02 -0.24 -0.21 -0.11  \n",
              "47  -0.33     -0.22  -0.21  -0.25 -0.31 -0.23 -0.06  \n",
              "17  -0.20     -0.10  -0.09  -0.11 -0.05 -0.07 -0.12  \n",
              "82  -0.03      0.03   0.02   0.01  0.03  0.01  0.02  \n",
              "139  1.10      0.98   0.96   0.93  1.01  0.93  0.97  \n",
              "12  -0.37     -0.27  -0.24  -0.14 -0.32 -0.26 -0.23  \n",
              "11  -0.04     -0.22  -0.24  -0.37 -0.20 -0.18 -0.22  \n",
              "143  1.35      1.17   1.12   0.88  1.04  1.15  1.41  "
            ],
            "text/html": [
              "\n",
              "  <div id=\"df-3b22e001-e910-4b0f-8366-23640e0a7aaa\" class=\"colab-df-container\">\n",
              "    <div>\n",
              "<style scoped>\n",
              "    .dataframe tbody tr th:only-of-type {\n",
              "        vertical-align: middle;\n",
              "    }\n",
              "\n",
              "    .dataframe tbody tr th {\n",
              "        vertical-align: top;\n",
              "    }\n",
              "\n",
              "    .dataframe thead th {\n",
              "        text-align: right;\n",
              "    }\n",
              "</style>\n",
              "<table border=\"1\" class=\"dataframe\">\n",
              "  <thead>\n",
              "    <tr style=\"text-align: right;\">\n",
              "      <th></th>\n",
              "      <th>Year</th>\n",
              "      <th>Jan</th>\n",
              "      <th>Feb</th>\n",
              "      <th>Mar</th>\n",
              "      <th>Apr</th>\n",
              "      <th>May</th>\n",
              "      <th>Jun</th>\n",
              "      <th>Jul</th>\n",
              "      <th>Aug</th>\n",
              "      <th>Sep</th>\n",
              "      <th>Oct</th>\n",
              "      <th>Nov</th>\n",
              "      <th>Dec</th>\n",
              "      <th>JanToDec</th>\n",
              "      <th>D-N</th>\n",
              "      <th>DJF</th>\n",
              "      <th>MAM</th>\n",
              "      <th>JJA</th>\n",
              "      <th>SON</th>\n",
              "    </tr>\n",
              "  </thead>\n",
              "  <tbody>\n",
              "    <tr>\n",
              "      <th>37</th>\n",
              "      <td>1917</td>\n",
              "      <td>-0.56</td>\n",
              "      <td>-0.62</td>\n",
              "      <td>-0.63</td>\n",
              "      <td>-0.54</td>\n",
              "      <td>-0.54</td>\n",
              "      <td>-0.43</td>\n",
              "      <td>-0.25</td>\n",
              "      <td>-0.22</td>\n",
              "      <td>-0.22</td>\n",
              "      <td>-0.43</td>\n",
              "      <td>-0.33</td>\n",
              "      <td>-0.67</td>\n",
              "      <td>-0.45</td>\n",
              "      <td>-0.46</td>\n",
              "      <td>-0.66</td>\n",
              "      <td>-0.57</td>\n",
              "      <td>-0.30</td>\n",
              "      <td>-0.33</td>\n",
              "    </tr>\n",
              "    <tr>\n",
              "      <th>121</th>\n",
              "      <td>2001</td>\n",
              "      <td>0.45</td>\n",
              "      <td>0.44</td>\n",
              "      <td>0.55</td>\n",
              "      <td>0.50</td>\n",
              "      <td>0.58</td>\n",
              "      <td>0.52</td>\n",
              "      <td>0.59</td>\n",
              "      <td>0.49</td>\n",
              "      <td>0.51</td>\n",
              "      <td>0.50</td>\n",
              "      <td>0.72</td>\n",
              "      <td>0.55</td>\n",
              "      <td>0.53</td>\n",
              "      <td>0.51</td>\n",
              "      <td>0.39</td>\n",
              "      <td>0.54</td>\n",
              "      <td>0.53</td>\n",
              "      <td>0.58</td>\n",
              "    </tr>\n",
              "    <tr>\n",
              "      <th>135</th>\n",
              "      <td>2015</td>\n",
              "      <td>0.87</td>\n",
              "      <td>0.90</td>\n",
              "      <td>0.96</td>\n",
              "      <td>0.76</td>\n",
              "      <td>0.80</td>\n",
              "      <td>0.81</td>\n",
              "      <td>0.73</td>\n",
              "      <td>0.79</td>\n",
              "      <td>0.85</td>\n",
              "      <td>1.09</td>\n",
              "      <td>1.06</td>\n",
              "      <td>1.17</td>\n",
              "      <td>0.90</td>\n",
              "      <td>0.87</td>\n",
              "      <td>0.85</td>\n",
              "      <td>0.84</td>\n",
              "      <td>0.78</td>\n",
              "      <td>1.00</td>\n",
              "    </tr>\n",
              "    <tr>\n",
              "      <th>21</th>\n",
              "      <td>1901</td>\n",
              "      <td>-0.21</td>\n",
              "      <td>-0.11</td>\n",
              "      <td>0.06</td>\n",
              "      <td>-0.03</td>\n",
              "      <td>-0.15</td>\n",
              "      <td>-0.12</td>\n",
              "      <td>-0.14</td>\n",
              "      <td>-0.20</td>\n",
              "      <td>-0.22</td>\n",
              "      <td>-0.29</td>\n",
              "      <td>-0.16</td>\n",
              "      <td>-0.27</td>\n",
              "      <td>-0.15</td>\n",
              "      <td>-0.14</td>\n",
              "      <td>-0.13</td>\n",
              "      <td>-0.04</td>\n",
              "      <td>-0.15</td>\n",
              "      <td>-0.23</td>\n",
              "    </tr>\n",
              "    <tr>\n",
              "      <th>103</th>\n",
              "      <td>1983</td>\n",
              "      <td>0.53</td>\n",
              "      <td>0.43</td>\n",
              "      <td>0.41</td>\n",
              "      <td>0.27</td>\n",
              "      <td>0.33</td>\n",
              "      <td>0.22</td>\n",
              "      <td>0.18</td>\n",
              "      <td>0.35</td>\n",
              "      <td>0.37</td>\n",
              "      <td>0.17</td>\n",
              "      <td>0.30</td>\n",
              "      <td>0.16</td>\n",
              "      <td>0.31</td>\n",
              "      <td>0.33</td>\n",
              "      <td>0.46</td>\n",
              "      <td>0.34</td>\n",
              "      <td>0.25</td>\n",
              "      <td>0.28</td>\n",
              "    </tr>\n",
              "    <tr>\n",
              "      <th>51</th>\n",
              "      <td>1931</td>\n",
              "      <td>-0.10</td>\n",
              "      <td>-0.20</td>\n",
              "      <td>-0.10</td>\n",
              "      <td>-0.23</td>\n",
              "      <td>-0.19</td>\n",
              "      <td>-0.08</td>\n",
              "      <td>-0.03</td>\n",
              "      <td>-0.04</td>\n",
              "      <td>-0.06</td>\n",
              "      <td>0.06</td>\n",
              "      <td>-0.06</td>\n",
              "      <td>-0.05</td>\n",
              "      <td>-0.09</td>\n",
              "      <td>-0.09</td>\n",
              "      <td>-0.12</td>\n",
              "      <td>-0.17</td>\n",
              "      <td>-0.05</td>\n",
              "      <td>-0.02</td>\n",
              "    </tr>\n",
              "    <tr>\n",
              "      <th>81</th>\n",
              "      <td>1961</td>\n",
              "      <td>0.07</td>\n",
              "      <td>0.19</td>\n",
              "      <td>0.09</td>\n",
              "      <td>0.13</td>\n",
              "      <td>0.12</td>\n",
              "      <td>0.11</td>\n",
              "      <td>0.01</td>\n",
              "      <td>0.01</td>\n",
              "      <td>0.08</td>\n",
              "      <td>0.00</td>\n",
              "      <td>0.03</td>\n",
              "      <td>-0.16</td>\n",
              "      <td>0.06</td>\n",
              "      <td>0.09</td>\n",
              "      <td>0.15</td>\n",
              "      <td>0.11</td>\n",
              "      <td>0.04</td>\n",
              "      <td>0.04</td>\n",
              "    </tr>\n",
              "    <tr>\n",
              "      <th>7</th>\n",
              "      <td>1887</td>\n",
              "      <td>-0.71</td>\n",
              "      <td>-0.56</td>\n",
              "      <td>-0.35</td>\n",
              "      <td>-0.34</td>\n",
              "      <td>-0.30</td>\n",
              "      <td>-0.24</td>\n",
              "      <td>-0.25</td>\n",
              "      <td>-0.35</td>\n",
              "      <td>-0.25</td>\n",
              "      <td>-0.35</td>\n",
              "      <td>-0.26</td>\n",
              "      <td>-0.32</td>\n",
              "      <td>-0.36</td>\n",
              "      <td>-0.35</td>\n",
              "      <td>-0.51</td>\n",
              "      <td>-0.33</td>\n",
              "      <td>-0.28</td>\n",
              "      <td>-0.28</td>\n",
              "    </tr>\n",
              "    <tr>\n",
              "      <th>96</th>\n",
              "      <td>1976</td>\n",
              "      <td>-0.03</td>\n",
              "      <td>-0.06</td>\n",
              "      <td>-0.22</td>\n",
              "      <td>-0.07</td>\n",
              "      <td>-0.21</td>\n",
              "      <td>-0.12</td>\n",
              "      <td>-0.10</td>\n",
              "      <td>-0.12</td>\n",
              "      <td>-0.07</td>\n",
              "      <td>-0.24</td>\n",
              "      <td>-0.06</td>\n",
              "      <td>0.11</td>\n",
              "      <td>-0.10</td>\n",
              "      <td>-0.12</td>\n",
              "      <td>-0.09</td>\n",
              "      <td>-0.16</td>\n",
              "      <td>-0.11</td>\n",
              "      <td>-0.12</td>\n",
              "    </tr>\n",
              "    <tr>\n",
              "      <th>18</th>\n",
              "      <td>1898</td>\n",
              "      <td>-0.02</td>\n",
              "      <td>-0.29</td>\n",
              "      <td>-0.51</td>\n",
              "      <td>-0.30</td>\n",
              "      <td>-0.30</td>\n",
              "      <td>-0.19</td>\n",
              "      <td>-0.22</td>\n",
              "      <td>-0.26</td>\n",
              "      <td>-0.21</td>\n",
              "      <td>-0.33</td>\n",
              "      <td>-0.38</td>\n",
              "      <td>-0.22</td>\n",
              "      <td>-0.27</td>\n",
              "      <td>-0.27</td>\n",
              "      <td>-0.17</td>\n",
              "      <td>-0.37</td>\n",
              "      <td>-0.22</td>\n",
              "      <td>-0.31</td>\n",
              "    </tr>\n",
              "    <tr>\n",
              "      <th>76</th>\n",
              "      <td>1956</td>\n",
              "      <td>-0.13</td>\n",
              "      <td>-0.24</td>\n",
              "      <td>-0.21</td>\n",
              "      <td>-0.28</td>\n",
              "      <td>-0.29</td>\n",
              "      <td>-0.15</td>\n",
              "      <td>-0.09</td>\n",
              "      <td>-0.26</td>\n",
              "      <td>-0.19</td>\n",
              "      <td>-0.23</td>\n",
              "      <td>-0.14</td>\n",
              "      <td>-0.06</td>\n",
              "      <td>-0.19</td>\n",
              "      <td>-0.21</td>\n",
              "      <td>-0.22</td>\n",
              "      <td>-0.26</td>\n",
              "      <td>-0.17</td>\n",
              "      <td>-0.19</td>\n",
              "    </tr>\n",
              "    <tr>\n",
              "      <th>29</th>\n",
              "      <td>1909</td>\n",
              "      <td>-0.72</td>\n",
              "      <td>-0.45</td>\n",
              "      <td>-0.53</td>\n",
              "      <td>-0.58</td>\n",
              "      <td>-0.54</td>\n",
              "      <td>-0.51</td>\n",
              "      <td>-0.44</td>\n",
              "      <td>-0.33</td>\n",
              "      <td>-0.37</td>\n",
              "      <td>-0.39</td>\n",
              "      <td>-0.31</td>\n",
              "      <td>-0.55</td>\n",
              "      <td>-0.48</td>\n",
              "      <td>-0.47</td>\n",
              "      <td>-0.55</td>\n",
              "      <td>-0.55</td>\n",
              "      <td>-0.43</td>\n",
              "      <td>-0.36</td>\n",
              "    </tr>\n",
              "    <tr>\n",
              "      <th>34</th>\n",
              "      <td>1914</td>\n",
              "      <td>0.05</td>\n",
              "      <td>-0.09</td>\n",
              "      <td>-0.23</td>\n",
              "      <td>-0.29</td>\n",
              "      <td>-0.20</td>\n",
              "      <td>-0.25</td>\n",
              "      <td>-0.22</td>\n",
              "      <td>-0.15</td>\n",
              "      <td>-0.16</td>\n",
              "      <td>-0.02</td>\n",
              "      <td>-0.15</td>\n",
              "      <td>-0.03</td>\n",
              "      <td>-0.15</td>\n",
              "      <td>-0.14</td>\n",
              "      <td>-0.02</td>\n",
              "      <td>-0.24</td>\n",
              "      <td>-0.21</td>\n",
              "      <td>-0.11</td>\n",
              "    </tr>\n",
              "    <tr>\n",
              "      <th>47</th>\n",
              "      <td>1927</td>\n",
              "      <td>-0.27</td>\n",
              "      <td>-0.17</td>\n",
              "      <td>-0.38</td>\n",
              "      <td>-0.30</td>\n",
              "      <td>-0.25</td>\n",
              "      <td>-0.27</td>\n",
              "      <td>-0.19</td>\n",
              "      <td>-0.24</td>\n",
              "      <td>-0.12</td>\n",
              "      <td>-0.01</td>\n",
              "      <td>-0.05</td>\n",
              "      <td>-0.33</td>\n",
              "      <td>-0.22</td>\n",
              "      <td>-0.21</td>\n",
              "      <td>-0.25</td>\n",
              "      <td>-0.31</td>\n",
              "      <td>-0.23</td>\n",
              "      <td>-0.06</td>\n",
              "    </tr>\n",
              "    <tr>\n",
              "      <th>17</th>\n",
              "      <td>1897</td>\n",
              "      <td>-0.14</td>\n",
              "      <td>-0.16</td>\n",
              "      <td>-0.13</td>\n",
              "      <td>-0.01</td>\n",
              "      <td>0.00</td>\n",
              "      <td>-0.11</td>\n",
              "      <td>-0.02</td>\n",
              "      <td>-0.08</td>\n",
              "      <td>-0.07</td>\n",
              "      <td>-0.12</td>\n",
              "      <td>-0.17</td>\n",
              "      <td>-0.20</td>\n",
              "      <td>-0.10</td>\n",
              "      <td>-0.09</td>\n",
              "      <td>-0.11</td>\n",
              "      <td>-0.05</td>\n",
              "      <td>-0.07</td>\n",
              "      <td>-0.12</td>\n",
              "    </tr>\n",
              "    <tr>\n",
              "      <th>82</th>\n",
              "      <td>1962</td>\n",
              "      <td>0.05</td>\n",
              "      <td>0.15</td>\n",
              "      <td>0.10</td>\n",
              "      <td>0.05</td>\n",
              "      <td>-0.06</td>\n",
              "      <td>0.03</td>\n",
              "      <td>0.02</td>\n",
              "      <td>-0.01</td>\n",
              "      <td>0.00</td>\n",
              "      <td>0.01</td>\n",
              "      <td>0.06</td>\n",
              "      <td>-0.03</td>\n",
              "      <td>0.03</td>\n",
              "      <td>0.02</td>\n",
              "      <td>0.01</td>\n",
              "      <td>0.03</td>\n",
              "      <td>0.01</td>\n",
              "      <td>0.02</td>\n",
              "    </tr>\n",
              "    <tr>\n",
              "      <th>139</th>\n",
              "      <td>2019</td>\n",
              "      <td>0.94</td>\n",
              "      <td>0.95</td>\n",
              "      <td>1.17</td>\n",
              "      <td>1.01</td>\n",
              "      <td>0.85</td>\n",
              "      <td>0.90</td>\n",
              "      <td>0.94</td>\n",
              "      <td>0.95</td>\n",
              "      <td>0.92</td>\n",
              "      <td>1.00</td>\n",
              "      <td>0.99</td>\n",
              "      <td>1.10</td>\n",
              "      <td>0.98</td>\n",
              "      <td>0.96</td>\n",
              "      <td>0.93</td>\n",
              "      <td>1.01</td>\n",
              "      <td>0.93</td>\n",
              "      <td>0.97</td>\n",
              "    </tr>\n",
              "    <tr>\n",
              "      <th>12</th>\n",
              "      <td>1892</td>\n",
              "      <td>-0.28</td>\n",
              "      <td>-0.11</td>\n",
              "      <td>-0.39</td>\n",
              "      <td>-0.33</td>\n",
              "      <td>-0.23</td>\n",
              "      <td>-0.22</td>\n",
              "      <td>-0.31</td>\n",
              "      <td>-0.27</td>\n",
              "      <td>-0.16</td>\n",
              "      <td>-0.13</td>\n",
              "      <td>-0.41</td>\n",
              "      <td>-0.37</td>\n",
              "      <td>-0.27</td>\n",
              "      <td>-0.24</td>\n",
              "      <td>-0.14</td>\n",
              "      <td>-0.32</td>\n",
              "      <td>-0.26</td>\n",
              "      <td>-0.23</td>\n",
              "    </tr>\n",
              "    <tr>\n",
              "      <th>11</th>\n",
              "      <td>1891</td>\n",
              "      <td>-0.33</td>\n",
              "      <td>-0.46</td>\n",
              "      <td>-0.17</td>\n",
              "      <td>-0.27</td>\n",
              "      <td>-0.16</td>\n",
              "      <td>-0.20</td>\n",
              "      <td>-0.16</td>\n",
              "      <td>-0.16</td>\n",
              "      <td>-0.14</td>\n",
              "      <td>-0.21</td>\n",
              "      <td>-0.30</td>\n",
              "      <td>-0.04</td>\n",
              "      <td>-0.22</td>\n",
              "      <td>-0.24</td>\n",
              "      <td>-0.37</td>\n",
              "      <td>-0.20</td>\n",
              "      <td>-0.18</td>\n",
              "      <td>-0.22</td>\n",
              "    </tr>\n",
              "    <tr>\n",
              "      <th>143</th>\n",
              "      <td>2023</td>\n",
              "      <td>0.87</td>\n",
              "      <td>0.97</td>\n",
              "      <td>1.20</td>\n",
              "      <td>1.00</td>\n",
              "      <td>0.93</td>\n",
              "      <td>1.08</td>\n",
              "      <td>1.18</td>\n",
              "      <td>1.19</td>\n",
              "      <td>1.47</td>\n",
              "      <td>1.33</td>\n",
              "      <td>1.42</td>\n",
              "      <td>1.35</td>\n",
              "      <td>1.17</td>\n",
              "      <td>1.12</td>\n",
              "      <td>0.88</td>\n",
              "      <td>1.04</td>\n",
              "      <td>1.15</td>\n",
              "      <td>1.41</td>\n",
              "    </tr>\n",
              "  </tbody>\n",
              "</table>\n",
              "</div>\n",
              "    <div class=\"colab-df-buttons\">\n",
              "\n",
              "  <div class=\"colab-df-container\">\n",
              "    <button class=\"colab-df-convert\" onclick=\"convertToInteractive('df-3b22e001-e910-4b0f-8366-23640e0a7aaa')\"\n",
              "            title=\"Convert this dataframe to an interactive table.\"\n",
              "            style=\"display:none;\">\n",
              "\n",
              "  <svg xmlns=\"http://www.w3.org/2000/svg\" height=\"24px\" viewBox=\"0 -960 960 960\">\n",
              "    <path d=\"M120-120v-720h720v720H120Zm60-500h600v-160H180v160Zm220 220h160v-160H400v160Zm0 220h160v-160H400v160ZM180-400h160v-160H180v160Zm440 0h160v-160H620v160ZM180-180h160v-160H180v160Zm440 0h160v-160H620v160Z\"/>\n",
              "  </svg>\n",
              "    </button>\n",
              "\n",
              "  <style>\n",
              "    .colab-df-container {\n",
              "      display:flex;\n",
              "      gap: 12px;\n",
              "    }\n",
              "\n",
              "    .colab-df-convert {\n",
              "      background-color: #E8F0FE;\n",
              "      border: none;\n",
              "      border-radius: 50%;\n",
              "      cursor: pointer;\n",
              "      display: none;\n",
              "      fill: #1967D2;\n",
              "      height: 32px;\n",
              "      padding: 0 0 0 0;\n",
              "      width: 32px;\n",
              "    }\n",
              "\n",
              "    .colab-df-convert:hover {\n",
              "      background-color: #E2EBFA;\n",
              "      box-shadow: 0px 1px 2px rgba(60, 64, 67, 0.3), 0px 1px 3px 1px rgba(60, 64, 67, 0.15);\n",
              "      fill: #174EA6;\n",
              "    }\n",
              "\n",
              "    .colab-df-buttons div {\n",
              "      margin-bottom: 4px;\n",
              "    }\n",
              "\n",
              "    [theme=dark] .colab-df-convert {\n",
              "      background-color: #3B4455;\n",
              "      fill: #D2E3FC;\n",
              "    }\n",
              "\n",
              "    [theme=dark] .colab-df-convert:hover {\n",
              "      background-color: #434B5C;\n",
              "      box-shadow: 0px 1px 3px 1px rgba(0, 0, 0, 0.15);\n",
              "      filter: drop-shadow(0px 1px 2px rgba(0, 0, 0, 0.3));\n",
              "      fill: #FFFFFF;\n",
              "    }\n",
              "  </style>\n",
              "\n",
              "    <script>\n",
              "      const buttonEl =\n",
              "        document.querySelector('#df-3b22e001-e910-4b0f-8366-23640e0a7aaa button.colab-df-convert');\n",
              "      buttonEl.style.display =\n",
              "        google.colab.kernel.accessAllowed ? 'block' : 'none';\n",
              "\n",
              "      async function convertToInteractive(key) {\n",
              "        const element = document.querySelector('#df-3b22e001-e910-4b0f-8366-23640e0a7aaa');\n",
              "        const dataTable =\n",
              "          await google.colab.kernel.invokeFunction('convertToInteractive',\n",
              "                                                    [key], {});\n",
              "        if (!dataTable) return;\n",
              "\n",
              "        const docLinkHtml = 'Like what you see? Visit the ' +\n",
              "          '<a target=\"_blank\" href=https://colab.research.google.com/notebooks/data_table.ipynb>data table notebook</a>'\n",
              "          + ' to learn more about interactive tables.';\n",
              "        element.innerHTML = '';\n",
              "        dataTable['output_type'] = 'display_data';\n",
              "        await google.colab.output.renderOutput(dataTable, element);\n",
              "        const docLink = document.createElement('div');\n",
              "        docLink.innerHTML = docLinkHtml;\n",
              "        element.appendChild(docLink);\n",
              "      }\n",
              "    </script>\n",
              "  </div>\n",
              "\n",
              "\n",
              "<div id=\"df-2b04f4e8-e769-4d80-bccc-342c356c3c09\">\n",
              "  <button class=\"colab-df-quickchart\" onclick=\"quickchart('df-2b04f4e8-e769-4d80-bccc-342c356c3c09')\"\n",
              "            title=\"Suggest charts\"\n",
              "            style=\"display:none;\">\n",
              "\n",
              "<svg xmlns=\"http://www.w3.org/2000/svg\" height=\"24px\"viewBox=\"0 0 24 24\"\n",
              "     width=\"24px\">\n",
              "    <g>\n",
              "        <path d=\"M19 3H5c-1.1 0-2 .9-2 2v14c0 1.1.9 2 2 2h14c1.1 0 2-.9 2-2V5c0-1.1-.9-2-2-2zM9 17H7v-7h2v7zm4 0h-2V7h2v10zm4 0h-2v-4h2v4z\"/>\n",
              "    </g>\n",
              "</svg>\n",
              "  </button>\n",
              "\n",
              "<style>\n",
              "  .colab-df-quickchart {\n",
              "      --bg-color: #E8F0FE;\n",
              "      --fill-color: #1967D2;\n",
              "      --hover-bg-color: #E2EBFA;\n",
              "      --hover-fill-color: #174EA6;\n",
              "      --disabled-fill-color: #AAA;\n",
              "      --disabled-bg-color: #DDD;\n",
              "  }\n",
              "\n",
              "  [theme=dark] .colab-df-quickchart {\n",
              "      --bg-color: #3B4455;\n",
              "      --fill-color: #D2E3FC;\n",
              "      --hover-bg-color: #434B5C;\n",
              "      --hover-fill-color: #FFFFFF;\n",
              "      --disabled-bg-color: #3B4455;\n",
              "      --disabled-fill-color: #666;\n",
              "  }\n",
              "\n",
              "  .colab-df-quickchart {\n",
              "    background-color: var(--bg-color);\n",
              "    border: none;\n",
              "    border-radius: 50%;\n",
              "    cursor: pointer;\n",
              "    display: none;\n",
              "    fill: var(--fill-color);\n",
              "    height: 32px;\n",
              "    padding: 0;\n",
              "    width: 32px;\n",
              "  }\n",
              "\n",
              "  .colab-df-quickchart:hover {\n",
              "    background-color: var(--hover-bg-color);\n",
              "    box-shadow: 0 1px 2px rgba(60, 64, 67, 0.3), 0 1px 3px 1px rgba(60, 64, 67, 0.15);\n",
              "    fill: var(--button-hover-fill-color);\n",
              "  }\n",
              "\n",
              "  .colab-df-quickchart-complete:disabled,\n",
              "  .colab-df-quickchart-complete:disabled:hover {\n",
              "    background-color: var(--disabled-bg-color);\n",
              "    fill: var(--disabled-fill-color);\n",
              "    box-shadow: none;\n",
              "  }\n",
              "\n",
              "  .colab-df-spinner {\n",
              "    border: 2px solid var(--fill-color);\n",
              "    border-color: transparent;\n",
              "    border-bottom-color: var(--fill-color);\n",
              "    animation:\n",
              "      spin 1s steps(1) infinite;\n",
              "  }\n",
              "\n",
              "  @keyframes spin {\n",
              "    0% {\n",
              "      border-color: transparent;\n",
              "      border-bottom-color: var(--fill-color);\n",
              "      border-left-color: var(--fill-color);\n",
              "    }\n",
              "    20% {\n",
              "      border-color: transparent;\n",
              "      border-left-color: var(--fill-color);\n",
              "      border-top-color: var(--fill-color);\n",
              "    }\n",
              "    30% {\n",
              "      border-color: transparent;\n",
              "      border-left-color: var(--fill-color);\n",
              "      border-top-color: var(--fill-color);\n",
              "      border-right-color: var(--fill-color);\n",
              "    }\n",
              "    40% {\n",
              "      border-color: transparent;\n",
              "      border-right-color: var(--fill-color);\n",
              "      border-top-color: var(--fill-color);\n",
              "    }\n",
              "    60% {\n",
              "      border-color: transparent;\n",
              "      border-right-color: var(--fill-color);\n",
              "    }\n",
              "    80% {\n",
              "      border-color: transparent;\n",
              "      border-right-color: var(--fill-color);\n",
              "      border-bottom-color: var(--fill-color);\n",
              "    }\n",
              "    90% {\n",
              "      border-color: transparent;\n",
              "      border-bottom-color: var(--fill-color);\n",
              "    }\n",
              "  }\n",
              "</style>\n",
              "\n",
              "  <script>\n",
              "    async function quickchart(key) {\n",
              "      const quickchartButtonEl =\n",
              "        document.querySelector('#' + key + ' button');\n",
              "      quickchartButtonEl.disabled = true;  // To prevent multiple clicks.\n",
              "      quickchartButtonEl.classList.add('colab-df-spinner');\n",
              "      try {\n",
              "        const charts = await google.colab.kernel.invokeFunction(\n",
              "            'suggestCharts', [key], {});\n",
              "      } catch (error) {\n",
              "        console.error('Error during call to suggestCharts:', error);\n",
              "      }\n",
              "      quickchartButtonEl.classList.remove('colab-df-spinner');\n",
              "      quickchartButtonEl.classList.add('colab-df-quickchart-complete');\n",
              "    }\n",
              "    (() => {\n",
              "      let quickchartButtonEl =\n",
              "        document.querySelector('#df-2b04f4e8-e769-4d80-bccc-342c356c3c09 button');\n",
              "      quickchartButtonEl.style.display =\n",
              "        google.colab.kernel.accessAllowed ? 'block' : 'none';\n",
              "    })();\n",
              "  </script>\n",
              "</div>\n",
              "    </div>\n",
              "  </div>\n"
            ],
            "application/vnd.google.colaboratory.intrinsic+json": {
              "type": "dataframe",
              "summary": "{\n  \"name\": \"GlobalMeans\",\n  \"rows\": 20,\n  \"fields\": [\n    {\n      \"column\": \"Year\",\n      \"properties\": {\n        \"dtype\": \"number\",\n        \"std\": 46,\n        \"min\": 1887,\n        \"max\": 2023,\n        \"samples\": [\n          1917,\n          1892,\n          1962\n        ],\n        \"num_unique_values\": 20,\n        \"semantic_type\": \"\",\n        \"description\": \"\"\n      }\n    },\n    {\n      \"column\": \"Jan\",\n      \"properties\": {\n        \"dtype\": \"number\",\n        \"std\": 0.49062017681169295,\n        \"min\": -0.72,\n        \"max\": 0.94,\n        \"samples\": [\n          -0.56,\n          0.45,\n          -0.03\n        ],\n        \"num_unique_values\": 18,\n        \"semantic_type\": \"\",\n        \"description\": \"\"\n      }\n    },\n    {\n      \"column\": \"Feb\",\n      \"properties\": {\n        \"dtype\": \"number\",\n        \"std\": 0.4845885395173713,\n        \"min\": -0.62,\n        \"max\": 0.97,\n        \"samples\": [\n          -0.62,\n          -0.2,\n          -0.45\n        ],\n        \"num_unique_values\": 19,\n        \"semantic_type\": \"\",\n        \"description\": \"\"\n      }\n    },\n    {\n      \"column\": \"Mar\",\n      \"properties\": {\n        \"dtype\": \"number\",\n        \"std\": 0.5504588994648011,\n        \"min\": -0.63,\n        \"max\": 1.2,\n        \"samples\": [\n          -0.63,\n          -0.39,\n          0.1\n        ],\n        \"num_unique_values\": 20,\n        \"semantic_type\": \"\",\n        \"description\": \"\"\n      }\n    },\n    {\n      \"column\": \"Apr\",\n      \"properties\": {\n        \"dtype\": \"number\",\n        \"std\": 0.47381847512356573,\n        \"min\": -0.58,\n        \"max\": 1.01,\n        \"samples\": [\n          -0.54,\n          -0.23,\n          -0.58\n        ],\n        \"num_unique_values\": 19,\n        \"semantic_type\": \"\",\n        \"description\": \"\"\n      }\n    },\n    {\n      \"column\": \"May\",\n      \"properties\": {\n        \"dtype\": \"number\",\n        \"std\": 0.4483827664653916,\n        \"min\": -0.54,\n        \"max\": 0.93,\n        \"samples\": [\n          -0.54,\n          0.58,\n          -0.21\n        ],\n        \"num_unique_values\": 18,\n        \"semantic_type\": \"\",\n        \"description\": \"\"\n      }\n    },\n    {\n      \"column\": \"Jun\",\n      \"properties\": {\n        \"dtype\": \"number\",\n        \"std\": 0.4452190472115945,\n        \"min\": -0.51,\n        \"max\": 1.08,\n        \"samples\": [\n          -0.43,\n          -0.08,\n          -0.25\n        ],\n        \"num_unique_values\": 19,\n        \"semantic_type\": \"\",\n        \"description\": \"\"\n      }\n    },\n    {\n      \"column\": \"Jul\",\n      \"properties\": {\n        \"dtype\": \"number\",\n        \"std\": 0.44286477679571196,\n        \"min\": -0.44,\n        \"max\": 1.18,\n        \"samples\": [\n          -0.25,\n          0.59,\n          -0.22\n        ],\n        \"num_unique_values\": 18,\n        \"semantic_type\": \"\",\n        \"description\": \"\"\n      }\n    },\n    {\n      \"column\": \"Aug\",\n      \"properties\": {\n        \"dtype\": \"number\",\n        \"std\": 0.4531814438529358,\n        \"min\": -0.35,\n        \"max\": 1.19,\n        \"samples\": [\n          -0.22,\n          -0.04,\n          -0.15\n        ],\n        \"num_unique_values\": 19,\n        \"semantic_type\": \"\",\n        \"description\": \"\"\n      }\n    },\n    {\n      \"column\": \"Sep\",\n      \"properties\": {\n        \"dtype\": \"number\",\n        \"std\": 0.4821072167278277,\n        \"min\": -0.37,\n        \"max\": 1.47,\n        \"samples\": [\n          -0.22,\n          0.51,\n          0.08\n        ],\n        \"num_unique_values\": 17,\n        \"semantic_type\": \"\",\n        \"description\": \"\"\n      }\n    },\n    {\n      \"column\": \"Oct\",\n      \"properties\": {\n        \"dtype\": \"number\",\n        \"std\": 0.5119156488904665,\n        \"min\": -0.43,\n        \"max\": 1.33,\n        \"samples\": [\n          -0.43,\n          -0.13,\n          0.01\n        ],\n        \"num_unique_values\": 20,\n        \"semantic_type\": \"\",\n        \"description\": \"\"\n      }\n    },\n    {\n      \"column\": \"Nov\",\n      \"properties\": {\n        \"dtype\": \"number\",\n        \"std\": 0.5307591385533506,\n        \"min\": -0.41,\n        \"max\": 1.42,\n        \"samples\": [\n          -0.33,\n          -0.06,\n          -0.15\n        ],\n        \"num_unique_values\": 19,\n        \"semantic_type\": \"\",\n        \"description\": \"\"\n      }\n    },\n    {\n      \"column\": \"Dec\",\n      \"properties\": {\n        \"dtype\": \"number\",\n        \"std\": 0.5606678348653787,\n        \"min\": -0.67,\n        \"max\": 1.35,\n        \"samples\": [\n          -0.67,\n          -0.05,\n          -0.55\n        ],\n        \"num_unique_values\": 19,\n        \"semantic_type\": \"\",\n        \"description\": \"\"\n      }\n    },\n    {\n      \"column\": \"JanToDec\",\n      \"properties\": {\n        \"dtype\": \"number\",\n        \"std\": 0.4807808889274767,\n        \"min\": -0.48,\n        \"max\": 1.17,\n        \"samples\": [\n          -0.45,\n          0.53,\n          -0.09\n        ],\n        \"num_unique_values\": 16,\n        \"semantic_type\": \"\",\n        \"description\": \"\"\n      }\n    },\n    {\n      \"column\": \"D-N\",\n      \"properties\": {\n        \"dtype\": \"string\",\n        \"samples\": [\n          \"-0.46\",\n          \"0.51\",\n          \"-0.09\"\n        ],\n        \"num_unique_values\": 16,\n        \"semantic_type\": \"\",\n        \"description\": \"\"\n      }\n    },\n    {\n      \"column\": \"DJF\",\n      \"properties\": {\n        \"dtype\": \"string\",\n        \"samples\": [\n          \"-0.66\",\n          \"-0.14\",\n          \"0.01\"\n        ],\n        \"num_unique_values\": 20,\n        \"semantic_type\": \"\",\n        \"description\": \"\"\n      }\n    },\n    {\n      \"column\": \"MAM\",\n      \"properties\": {\n        \"dtype\": \"number\",\n        \"std\": 0.48759452524882974,\n        \"min\": -0.57,\n        \"max\": 1.04,\n        \"samples\": [\n          -0.57,\n          -0.32,\n          0.03\n        ],\n        \"num_unique_values\": 20,\n        \"semantic_type\": \"\",\n        \"description\": \"\"\n      }\n    },\n    {\n      \"column\": \"JJA\",\n      \"properties\": {\n        \"dtype\": \"number\",\n        \"std\": 0.44470303515231846,\n        \"min\": -0.43,\n        \"max\": 1.15,\n        \"samples\": [\n          -0.3,\n          -0.26,\n          0.01\n        ],\n        \"num_unique_values\": 20,\n        \"semantic_type\": \"\",\n        \"description\": \"\"\n      }\n    },\n    {\n      \"column\": \"SON\",\n      \"properties\": {\n        \"dtype\": \"number\",\n        \"std\": 0.5050315258528552,\n        \"min\": -0.36,\n        \"max\": 1.41,\n        \"samples\": [\n          -0.33,\n          0.58,\n          -0.12\n        ],\n        \"num_unique_values\": 18,\n        \"semantic_type\": \"\",\n        \"description\": \"\"\n      }\n    }\n  ]\n}"
            }
          },
          "metadata": {},
          "execution_count": 7
        }
      ]
    },
    {
      "cell_type": "code",
      "source": [
        "GlobalMeans.Year.values"
      ],
      "metadata": {
        "colab": {
          "base_uri": "https://localhost:8080/"
        },
        "id": "Jfc-56XgSeop",
        "outputId": "f1bf70a4-118d-4543-b1d6-22b0ecd7bb51"
      },
      "execution_count": null,
      "outputs": [
        {
          "output_type": "execute_result",
          "data": {
            "text/plain": [
              "array([1880, 1881, 1882, 1883, 1884, 1885, 1886, 1887, 1888, 1889, 1890,\n",
              "       1891, 1892, 1893, 1894, 1895, 1896, 1897, 1898, 1899, 1900, 1901,\n",
              "       1902, 1903, 1904, 1905, 1906, 1907, 1908, 1909, 1910, 1911, 1912,\n",
              "       1913, 1914, 1915, 1916, 1917, 1918, 1919, 1920, 1921, 1922, 1923,\n",
              "       1924, 1925, 1926, 1927, 1928, 1929, 1930, 1931, 1932, 1933, 1934,\n",
              "       1935, 1936, 1937, 1938, 1939, 1940, 1941, 1942, 1943, 1944, 1945,\n",
              "       1946, 1947, 1948, 1949, 1950, 1951, 1952, 1953, 1954, 1955, 1956,\n",
              "       1957, 1958, 1959, 1960, 1961, 1962, 1963, 1964, 1965, 1966, 1967,\n",
              "       1968, 1969, 1970, 1971, 1972, 1973, 1974, 1975, 1976, 1977, 1978,\n",
              "       1979, 1980, 1981, 1982, 1983, 1984, 1985, 1986, 1987, 1988, 1989,\n",
              "       1990, 1991, 1992, 1993, 1994, 1995, 1996, 1997, 1998, 1999, 2000,\n",
              "       2001, 2002, 2003, 2004, 2005, 2006, 2007, 2008, 2009, 2010, 2011,\n",
              "       2012, 2013, 2014, 2015, 2016, 2017, 2018, 2019, 2020, 2021, 2022,\n",
              "       2023])"
            ]
          },
          "metadata": {},
          "execution_count": 8
        }
      ]
    },
    {
      "cell_type": "code",
      "source": [
        "GlobalMeans.Year.values.shape"
      ],
      "metadata": {
        "colab": {
          "base_uri": "https://localhost:8080/"
        },
        "id": "3kSrIZ4rSqSo",
        "outputId": "eefcf517-859d-4f8f-a1f8-dd63ebc0f391"
      },
      "execution_count": null,
      "outputs": [
        {
          "output_type": "execute_result",
          "data": {
            "text/plain": [
              "(144,)"
            ]
          },
          "metadata": {},
          "execution_count": 9
        }
      ]
    },
    {
      "cell_type": "code",
      "source": [
        "import numpy as np"
      ],
      "metadata": {
        "id": "hsXD5WvFSxkC"
      },
      "execution_count": null,
      "outputs": []
    },
    {
      "cell_type": "code",
      "source": [
        "m=np.linspace(1,10)"
      ],
      "metadata": {
        "id": "YpPeA4XsS0yv"
      },
      "execution_count": null,
      "outputs": []
    },
    {
      "cell_type": "code",
      "source": [
        "m"
      ],
      "metadata": {
        "colab": {
          "base_uri": "https://localhost:8080/"
        },
        "id": "4NB663qPS4rM",
        "outputId": "ee5cab61-0bc1-4c5a-b33c-96f71d75ad9f"
      },
      "execution_count": null,
      "outputs": [
        {
          "output_type": "execute_result",
          "data": {
            "text/plain": [
              "array([ 1.        ,  1.18367347,  1.36734694,  1.55102041,  1.73469388,\n",
              "        1.91836735,  2.10204082,  2.28571429,  2.46938776,  2.65306122,\n",
              "        2.83673469,  3.02040816,  3.20408163,  3.3877551 ,  3.57142857,\n",
              "        3.75510204,  3.93877551,  4.12244898,  4.30612245,  4.48979592,\n",
              "        4.67346939,  4.85714286,  5.04081633,  5.2244898 ,  5.40816327,\n",
              "        5.59183673,  5.7755102 ,  5.95918367,  6.14285714,  6.32653061,\n",
              "        6.51020408,  6.69387755,  6.87755102,  7.06122449,  7.24489796,\n",
              "        7.42857143,  7.6122449 ,  7.79591837,  7.97959184,  8.16326531,\n",
              "        8.34693878,  8.53061224,  8.71428571,  8.89795918,  9.08163265,\n",
              "        9.26530612,  9.44897959,  9.63265306,  9.81632653, 10.        ])"
            ]
          },
          "metadata": {},
          "execution_count": 12
        }
      ]
    },
    {
      "cell_type": "code",
      "source": [
        "n=m.reshape(-1,1)"
      ],
      "metadata": {
        "id": "7V8L2Q5NS7uG"
      },
      "execution_count": null,
      "outputs": []
    },
    {
      "cell_type": "code",
      "source": [
        "n.shape"
      ],
      "metadata": {
        "colab": {
          "base_uri": "https://localhost:8080/"
        },
        "id": "yPnlV_TATALX",
        "outputId": "ff20165a-c7ed-4e6e-8822-f544886d8ff1"
      },
      "execution_count": null,
      "outputs": [
        {
          "output_type": "execute_result",
          "data": {
            "text/plain": [
              "(50, 1)"
            ]
          },
          "metadata": {},
          "execution_count": 14
        }
      ]
    },
    {
      "cell_type": "code",
      "source": [
        "from sklearn.model_selection import train_test_split"
      ],
      "metadata": {
        "id": "w8lWKh80TEbu"
      },
      "execution_count": null,
      "outputs": []
    },
    {
      "cell_type": "code",
      "source": [
        "GlobalMeans.Year.values.shape"
      ],
      "metadata": {
        "colab": {
          "base_uri": "https://localhost:8080/"
        },
        "id": "DrREYJDPTIha",
        "outputId": "2e8f6ff4-0178-4bab-fec2-cd2910446ac2"
      },
      "execution_count": null,
      "outputs": [
        {
          "output_type": "execute_result",
          "data": {
            "text/plain": [
              "(144,)"
            ]
          },
          "metadata": {},
          "execution_count": 16
        }
      ]
    },
    {
      "cell_type": "code",
      "source": [
        "X_train,X_test,y_train,y_test=train_test_split(GlobalMeans.Year.values.reshape(-1,1), GlobalMeans.JanToDec.values,random_state=11)"
      ],
      "metadata": {
        "id": "LlbYH5HWTRRu"
      },
      "execution_count": null,
      "outputs": []
    },
    {
      "cell_type": "code",
      "source": [
        "X_train.shape"
      ],
      "metadata": {
        "colab": {
          "base_uri": "https://localhost:8080/"
        },
        "id": "zj-mvErbTy78",
        "outputId": "46904745-e5ae-4fcf-d8ee-8145394aa4a0"
      },
      "execution_count": null,
      "outputs": [
        {
          "output_type": "execute_result",
          "data": {
            "text/plain": [
              "(108, 1)"
            ]
          },
          "metadata": {},
          "execution_count": 18
        }
      ]
    },
    {
      "cell_type": "code",
      "source": [
        "X_train[0]"
      ],
      "metadata": {
        "colab": {
          "base_uri": "https://localhost:8080/"
        },
        "id": "6y3G3bVDT22K",
        "outputId": "19a0931c-998e-499d-ecb3-92d0f0da452c"
      },
      "execution_count": null,
      "outputs": [
        {
          "output_type": "execute_result",
          "data": {
            "text/plain": [
              "array([1968])"
            ]
          },
          "metadata": {},
          "execution_count": 19
        }
      ]
    },
    {
      "cell_type": "code",
      "source": [
        "X_test.shape"
      ],
      "metadata": {
        "colab": {
          "base_uri": "https://localhost:8080/"
        },
        "id": "ESF8sjCST6lW",
        "outputId": "7fdabe57-9973-41aa-a7be-3dea89364589"
      },
      "execution_count": null,
      "outputs": [
        {
          "output_type": "execute_result",
          "data": {
            "text/plain": [
              "(36, 1)"
            ]
          },
          "metadata": {},
          "execution_count": 20
        }
      ]
    },
    {
      "cell_type": "code",
      "source": [
        "108+36"
      ],
      "metadata": {
        "colab": {
          "base_uri": "https://localhost:8080/"
        },
        "id": "jx7eaUH_T9SJ",
        "outputId": "39b566df-8e97-43c4-b78d-56eebe1f54f1"
      },
      "execution_count": null,
      "outputs": [
        {
          "output_type": "execute_result",
          "data": {
            "text/plain": [
              "144"
            ]
          },
          "metadata": {},
          "execution_count": 21
        }
      ]
    },
    {
      "cell_type": "code",
      "source": [
        "108/144*100"
      ],
      "metadata": {
        "colab": {
          "base_uri": "https://localhost:8080/"
        },
        "id": "uxtuMu5pUBWO",
        "outputId": "5164d33a-faf4-4ab1-9880-a24300507f5b"
      },
      "execution_count": null,
      "outputs": [
        {
          "output_type": "execute_result",
          "data": {
            "text/plain": [
              "75.0"
            ]
          },
          "metadata": {},
          "execution_count": 22
        }
      ]
    },
    {
      "cell_type": "code",
      "source": [
        "from sklearn.linear_model import LinearRegression"
      ],
      "metadata": {
        "id": "W5_rZ8xaUF7M"
      },
      "execution_count": null,
      "outputs": []
    },
    {
      "cell_type": "code",
      "source": [
        "linear_regression=LinearRegression()"
      ],
      "metadata": {
        "id": "WlsKHXiAUhQe"
      },
      "execution_count": null,
      "outputs": []
    },
    {
      "cell_type": "code",
      "source": [
        "linear_regression"
      ],
      "metadata": {
        "colab": {
          "base_uri": "https://localhost:8080/",
          "height": 75
        },
        "id": "SKKFcgA5Ukx9",
        "outputId": "1d77d209-fc24-4e6c-d628-d5401cf3598c"
      },
      "execution_count": null,
      "outputs": [
        {
          "output_type": "execute_result",
          "data": {
            "text/plain": [
              "LinearRegression()"
            ],
            "text/html": [
              "<style>#sk-container-id-1 {color: black;background-color: white;}#sk-container-id-1 pre{padding: 0;}#sk-container-id-1 div.sk-toggleable {background-color: white;}#sk-container-id-1 label.sk-toggleable__label {cursor: pointer;display: block;width: 100%;margin-bottom: 0;padding: 0.3em;box-sizing: border-box;text-align: center;}#sk-container-id-1 label.sk-toggleable__label-arrow:before {content: \"▸\";float: left;margin-right: 0.25em;color: #696969;}#sk-container-id-1 label.sk-toggleable__label-arrow:hover:before {color: black;}#sk-container-id-1 div.sk-estimator:hover label.sk-toggleable__label-arrow:before {color: black;}#sk-container-id-1 div.sk-toggleable__content {max-height: 0;max-width: 0;overflow: hidden;text-align: left;background-color: #f0f8ff;}#sk-container-id-1 div.sk-toggleable__content pre {margin: 0.2em;color: black;border-radius: 0.25em;background-color: #f0f8ff;}#sk-container-id-1 input.sk-toggleable__control:checked~div.sk-toggleable__content {max-height: 200px;max-width: 100%;overflow: auto;}#sk-container-id-1 input.sk-toggleable__control:checked~label.sk-toggleable__label-arrow:before {content: \"▾\";}#sk-container-id-1 div.sk-estimator input.sk-toggleable__control:checked~label.sk-toggleable__label {background-color: #d4ebff;}#sk-container-id-1 div.sk-label input.sk-toggleable__control:checked~label.sk-toggleable__label {background-color: #d4ebff;}#sk-container-id-1 input.sk-hidden--visually {border: 0;clip: rect(1px 1px 1px 1px);clip: rect(1px, 1px, 1px, 1px);height: 1px;margin: -1px;overflow: hidden;padding: 0;position: absolute;width: 1px;}#sk-container-id-1 div.sk-estimator {font-family: monospace;background-color: #f0f8ff;border: 1px dotted black;border-radius: 0.25em;box-sizing: border-box;margin-bottom: 0.5em;}#sk-container-id-1 div.sk-estimator:hover {background-color: #d4ebff;}#sk-container-id-1 div.sk-parallel-item::after {content: \"\";width: 100%;border-bottom: 1px solid gray;flex-grow: 1;}#sk-container-id-1 div.sk-label:hover label.sk-toggleable__label {background-color: #d4ebff;}#sk-container-id-1 div.sk-serial::before {content: \"\";position: absolute;border-left: 1px solid gray;box-sizing: border-box;top: 0;bottom: 0;left: 50%;z-index: 0;}#sk-container-id-1 div.sk-serial {display: flex;flex-direction: column;align-items: center;background-color: white;padding-right: 0.2em;padding-left: 0.2em;position: relative;}#sk-container-id-1 div.sk-item {position: relative;z-index: 1;}#sk-container-id-1 div.sk-parallel {display: flex;align-items: stretch;justify-content: center;background-color: white;position: relative;}#sk-container-id-1 div.sk-item::before, #sk-container-id-1 div.sk-parallel-item::before {content: \"\";position: absolute;border-left: 1px solid gray;box-sizing: border-box;top: 0;bottom: 0;left: 50%;z-index: -1;}#sk-container-id-1 div.sk-parallel-item {display: flex;flex-direction: column;z-index: 1;position: relative;background-color: white;}#sk-container-id-1 div.sk-parallel-item:first-child::after {align-self: flex-end;width: 50%;}#sk-container-id-1 div.sk-parallel-item:last-child::after {align-self: flex-start;width: 50%;}#sk-container-id-1 div.sk-parallel-item:only-child::after {width: 0;}#sk-container-id-1 div.sk-dashed-wrapped {border: 1px dashed gray;margin: 0 0.4em 0.5em 0.4em;box-sizing: border-box;padding-bottom: 0.4em;background-color: white;}#sk-container-id-1 div.sk-label label {font-family: monospace;font-weight: bold;display: inline-block;line-height: 1.2em;}#sk-container-id-1 div.sk-label-container {text-align: center;}#sk-container-id-1 div.sk-container {/* jupyter's `normalize.less` sets `[hidden] { display: none; }` but bootstrap.min.css set `[hidden] { display: none !important; }` so we also need the `!important` here to be able to override the default hidden behavior on the sphinx rendered scikit-learn.org. See: https://github.com/scikit-learn/scikit-learn/issues/21755 */display: inline-block !important;position: relative;}#sk-container-id-1 div.sk-text-repr-fallback {display: none;}</style><div id=\"sk-container-id-1\" class=\"sk-top-container\"><div class=\"sk-text-repr-fallback\"><pre>LinearRegression()</pre><b>In a Jupyter environment, please rerun this cell to show the HTML representation or trust the notebook. <br />On GitHub, the HTML representation is unable to render, please try loading this page with nbviewer.org.</b></div><div class=\"sk-container\" hidden><div class=\"sk-item\"><div class=\"sk-estimator sk-toggleable\"><input class=\"sk-toggleable__control sk-hidden--visually\" id=\"sk-estimator-id-1\" type=\"checkbox\" checked><label for=\"sk-estimator-id-1\" class=\"sk-toggleable__label sk-toggleable__label-arrow\">LinearRegression</label><div class=\"sk-toggleable__content\"><pre>LinearRegression()</pre></div></div></div></div></div>"
            ]
          },
          "metadata": {},
          "execution_count": 25
        }
      ]
    },
    {
      "cell_type": "code",
      "source": [
        "linear_regression.fit(X=X_train, y=y_train)"
      ],
      "metadata": {
        "colab": {
          "base_uri": "https://localhost:8080/",
          "height": 75
        },
        "id": "UMM9GmsnUn5s",
        "outputId": "2f3cdfce-c0ae-4e38-967a-326dbd0fc819"
      },
      "execution_count": null,
      "outputs": [
        {
          "output_type": "execute_result",
          "data": {
            "text/plain": [
              "LinearRegression()"
            ],
            "text/html": [
              "<style>#sk-container-id-2 {color: black;background-color: white;}#sk-container-id-2 pre{padding: 0;}#sk-container-id-2 div.sk-toggleable {background-color: white;}#sk-container-id-2 label.sk-toggleable__label {cursor: pointer;display: block;width: 100%;margin-bottom: 0;padding: 0.3em;box-sizing: border-box;text-align: center;}#sk-container-id-2 label.sk-toggleable__label-arrow:before {content: \"▸\";float: left;margin-right: 0.25em;color: #696969;}#sk-container-id-2 label.sk-toggleable__label-arrow:hover:before {color: black;}#sk-container-id-2 div.sk-estimator:hover label.sk-toggleable__label-arrow:before {color: black;}#sk-container-id-2 div.sk-toggleable__content {max-height: 0;max-width: 0;overflow: hidden;text-align: left;background-color: #f0f8ff;}#sk-container-id-2 div.sk-toggleable__content pre {margin: 0.2em;color: black;border-radius: 0.25em;background-color: #f0f8ff;}#sk-container-id-2 input.sk-toggleable__control:checked~div.sk-toggleable__content {max-height: 200px;max-width: 100%;overflow: auto;}#sk-container-id-2 input.sk-toggleable__control:checked~label.sk-toggleable__label-arrow:before {content: \"▾\";}#sk-container-id-2 div.sk-estimator input.sk-toggleable__control:checked~label.sk-toggleable__label {background-color: #d4ebff;}#sk-container-id-2 div.sk-label input.sk-toggleable__control:checked~label.sk-toggleable__label {background-color: #d4ebff;}#sk-container-id-2 input.sk-hidden--visually {border: 0;clip: rect(1px 1px 1px 1px);clip: rect(1px, 1px, 1px, 1px);height: 1px;margin: -1px;overflow: hidden;padding: 0;position: absolute;width: 1px;}#sk-container-id-2 div.sk-estimator {font-family: monospace;background-color: #f0f8ff;border: 1px dotted black;border-radius: 0.25em;box-sizing: border-box;margin-bottom: 0.5em;}#sk-container-id-2 div.sk-estimator:hover {background-color: #d4ebff;}#sk-container-id-2 div.sk-parallel-item::after {content: \"\";width: 100%;border-bottom: 1px solid gray;flex-grow: 1;}#sk-container-id-2 div.sk-label:hover label.sk-toggleable__label {background-color: #d4ebff;}#sk-container-id-2 div.sk-serial::before {content: \"\";position: absolute;border-left: 1px solid gray;box-sizing: border-box;top: 0;bottom: 0;left: 50%;z-index: 0;}#sk-container-id-2 div.sk-serial {display: flex;flex-direction: column;align-items: center;background-color: white;padding-right: 0.2em;padding-left: 0.2em;position: relative;}#sk-container-id-2 div.sk-item {position: relative;z-index: 1;}#sk-container-id-2 div.sk-parallel {display: flex;align-items: stretch;justify-content: center;background-color: white;position: relative;}#sk-container-id-2 div.sk-item::before, #sk-container-id-2 div.sk-parallel-item::before {content: \"\";position: absolute;border-left: 1px solid gray;box-sizing: border-box;top: 0;bottom: 0;left: 50%;z-index: -1;}#sk-container-id-2 div.sk-parallel-item {display: flex;flex-direction: column;z-index: 1;position: relative;background-color: white;}#sk-container-id-2 div.sk-parallel-item:first-child::after {align-self: flex-end;width: 50%;}#sk-container-id-2 div.sk-parallel-item:last-child::after {align-self: flex-start;width: 50%;}#sk-container-id-2 div.sk-parallel-item:only-child::after {width: 0;}#sk-container-id-2 div.sk-dashed-wrapped {border: 1px dashed gray;margin: 0 0.4em 0.5em 0.4em;box-sizing: border-box;padding-bottom: 0.4em;background-color: white;}#sk-container-id-2 div.sk-label label {font-family: monospace;font-weight: bold;display: inline-block;line-height: 1.2em;}#sk-container-id-2 div.sk-label-container {text-align: center;}#sk-container-id-2 div.sk-container {/* jupyter's `normalize.less` sets `[hidden] { display: none; }` but bootstrap.min.css set `[hidden] { display: none !important; }` so we also need the `!important` here to be able to override the default hidden behavior on the sphinx rendered scikit-learn.org. See: https://github.com/scikit-learn/scikit-learn/issues/21755 */display: inline-block !important;position: relative;}#sk-container-id-2 div.sk-text-repr-fallback {display: none;}</style><div id=\"sk-container-id-2\" class=\"sk-top-container\"><div class=\"sk-text-repr-fallback\"><pre>LinearRegression()</pre><b>In a Jupyter environment, please rerun this cell to show the HTML representation or trust the notebook. <br />On GitHub, the HTML representation is unable to render, please try loading this page with nbviewer.org.</b></div><div class=\"sk-container\" hidden><div class=\"sk-item\"><div class=\"sk-estimator sk-toggleable\"><input class=\"sk-toggleable__control sk-hidden--visually\" id=\"sk-estimator-id-2\" type=\"checkbox\" checked><label for=\"sk-estimator-id-2\" class=\"sk-toggleable__label sk-toggleable__label-arrow\">LinearRegression</label><div class=\"sk-toggleable__content\"><pre>LinearRegression()</pre></div></div></div></div></div>"
            ]
          },
          "metadata": {},
          "execution_count": 26
        }
      ]
    },
    {
      "cell_type": "code",
      "source": [
        "linear_regression.coef_"
      ],
      "metadata": {
        "colab": {
          "base_uri": "https://localhost:8080/"
        },
        "id": "d7x6n9SOUrcs",
        "outputId": "cc8722e2-398d-4d35-bf12-e979aac697de"
      },
      "execution_count": null,
      "outputs": [
        {
          "output_type": "execute_result",
          "data": {
            "text/plain": [
              "array([0.00817343])"
            ]
          },
          "metadata": {},
          "execution_count": 27
        }
      ]
    },
    {
      "cell_type": "code",
      "source": [
        "linear_regression.intercept_"
      ],
      "metadata": {
        "colab": {
          "base_uri": "https://localhost:8080/"
        },
        "id": "BlTjQ-jcUv2R",
        "outputId": "92328442-29e6-4539-8bea-a5ca7dcb72fe"
      },
      "execution_count": null,
      "outputs": [
        {
          "output_type": "execute_result",
          "data": {
            "text/plain": [
              "-15.894460029519589"
            ]
          },
          "metadata": {},
          "execution_count": 28
        }
      ]
    },
    {
      "cell_type": "markdown",
      "source": [
        "##*EQUATION E & C*"
      ],
      "metadata": {
        "id": "jBK5lUrNU4xl"
      }
    },
    {
      "cell_type": "code",
      "source": [
        "(0.00817343 * 2024) -15.894460029519589"
      ],
      "metadata": {
        "colab": {
          "base_uri": "https://localhost:8080/"
        },
        "id": "-zDUnOSgUzqf",
        "outputId": "4dd2d1f3-d1ff-4f35-fd5e-d575ec41a517"
      },
      "execution_count": null,
      "outputs": [
        {
          "output_type": "execute_result",
          "data": {
            "text/plain": [
              "0.6485622904804131"
            ]
          },
          "metadata": {},
          "execution_count": 29
        }
      ]
    },
    {
      "cell_type": "code",
      "source": [
        "(0.00817343 * 2030) -15.894460029519589"
      ],
      "metadata": {
        "colab": {
          "base_uri": "https://localhost:8080/"
        },
        "id": "KBp_Jk5lVUMV",
        "outputId": "ef07af14-cd65-4c83-9160-e24da08c90a2"
      },
      "execution_count": null,
      "outputs": [
        {
          "output_type": "execute_result",
          "data": {
            "text/plain": [
              "0.6976028704804129"
            ]
          },
          "metadata": {},
          "execution_count": 30
        }
      ]
    },
    {
      "cell_type": "markdown",
      "source": [
        "##*Model Testing*"
      ],
      "metadata": {
        "id": "pqun3MSeVhj2"
      }
    },
    {
      "cell_type": "code",
      "source": [
        "predicted = linear_regression.predict(X_test)"
      ],
      "metadata": {
        "id": "yQygnLvnVm8d"
      },
      "execution_count": null,
      "outputs": []
    },
    {
      "cell_type": "code",
      "source": [
        "expected=y_test"
      ],
      "metadata": {
        "id": "Zvp23RcOVrbA"
      },
      "execution_count": null,
      "outputs": []
    },
    {
      "cell_type": "code",
      "source": [
        "for p,e in zip(predicted[::], expected[::]):\n",
        "  print(f'Predicted: {p:.2f}, Expected: {e:.2f}')"
      ],
      "metadata": {
        "colab": {
          "base_uri": "https://localhost:8080/"
        },
        "id": "9mo_bYJAVumo",
        "outputId": "3a95191a-6e78-4a50-c5db-b24da06fac2d"
      },
      "execution_count": null,
      "outputs": [
        {
          "output_type": "stream",
          "name": "stdout",
          "text": [
            "Predicted: 0.64, Expected: 1.17\n",
            "Predicted: 0.47, Expected: 0.62\n",
            "Predicted: -0.15, Expected: -0.11\n",
            "Predicted: 0.31, Expected: 0.14\n",
            "Predicted: -0.11, Expected: -0.09\n",
            "Predicted: -0.29, Expected: -0.48\n",
            "Predicted: 0.58, Expected: 0.90\n",
            "Predicted: 0.39, Expected: 0.22\n",
            "Predicted: -0.45, Expected: -0.10\n",
            "Predicted: -0.01, Expected: 0.09\n",
            "Predicted: 0.23, Expected: 0.16\n",
            "Predicted: 0.53, Expected: 0.72\n",
            "Predicted: 0.27, Expected: 0.07\n",
            "Predicted: -0.51, Expected: -0.10\n",
            "Predicted: 0.44, Expected: 0.38\n",
            "Predicted: -0.35, Expected: -0.28\n",
            "Predicted: -0.28, Expected: -0.43\n",
            "Predicted: -0.43, Expected: -0.27\n",
            "Predicted: -0.44, Expected: -0.22\n",
            "Predicted: -0.40, Expected: -0.10\n",
            "Predicted: -0.09, Expected: -0.12\n",
            "Predicted: -0.53, Expected: -0.15\n",
            "Predicted: 0.29, Expected: 0.26\n",
            "Predicted: 0.38, Expected: 0.40\n",
            "Predicted: 0.52, Expected: 0.54\n",
            "Predicted: -0.41, Expected: -0.23\n",
            "Predicted: -0.04, Expected: 0.13\n",
            "Predicted: -0.13, Expected: -0.36\n",
            "Predicted: 0.24, Expected: -0.07\n",
            "Predicted: 0.33, Expected: 0.12\n",
            "Predicted: 0.04, Expected: -0.11\n",
            "Predicted: 0.30, Expected: 0.32\n",
            "Predicted: 0.55, Expected: 0.65\n",
            "Predicted: -0.48, Expected: -0.31\n",
            "Predicted: -0.19, Expected: -0.18\n",
            "Predicted: -0.07, Expected: -0.14\n"
          ]
        }
      ]
    },
    {
      "cell_type": "code",
      "source": [
        "total_error = 0.0\n",
        "for p, e in zip(predicted[::], expected[::]):\n",
        "    print(f'Predicted: {p:.2f}, Expected: {e:.2f} Error: {e - p:.2f}')\n",
        "    total_error += abs(e - p)"
      ],
      "metadata": {
        "colab": {
          "base_uri": "https://localhost:8080/"
        },
        "id": "vUKDzDo2V5uD",
        "outputId": "21447e61-3d27-4678-8677-7bbca14914d0"
      },
      "execution_count": null,
      "outputs": [
        {
          "output_type": "stream",
          "name": "stdout",
          "text": [
            "Predicted: 0.64, Expected: 1.17 Error: 0.53\n",
            "Predicted: 0.47, Expected: 0.62 Error: 0.15\n",
            "Predicted: -0.15, Expected: -0.11 Error: 0.04\n",
            "Predicted: 0.31, Expected: 0.14 Error: -0.17\n",
            "Predicted: -0.11, Expected: -0.09 Error: 0.02\n",
            "Predicted: -0.29, Expected: -0.48 Error: -0.19\n",
            "Predicted: 0.58, Expected: 0.90 Error: 0.32\n",
            "Predicted: 0.39, Expected: 0.22 Error: -0.17\n",
            "Predicted: -0.45, Expected: -0.10 Error: 0.35\n",
            "Predicted: -0.01, Expected: 0.09 Error: 0.10\n",
            "Predicted: 0.23, Expected: 0.16 Error: -0.07\n",
            "Predicted: 0.53, Expected: 0.72 Error: 0.19\n",
            "Predicted: 0.27, Expected: 0.07 Error: -0.20\n",
            "Predicted: -0.51, Expected: -0.10 Error: 0.41\n",
            "Predicted: 0.44, Expected: 0.38 Error: -0.06\n",
            "Predicted: -0.35, Expected: -0.28 Error: 0.07\n",
            "Predicted: -0.28, Expected: -0.43 Error: -0.15\n",
            "Predicted: -0.43, Expected: -0.27 Error: 0.16\n",
            "Predicted: -0.44, Expected: -0.22 Error: 0.22\n",
            "Predicted: -0.40, Expected: -0.10 Error: 0.30\n",
            "Predicted: -0.09, Expected: -0.12 Error: -0.03\n",
            "Predicted: -0.53, Expected: -0.15 Error: 0.38\n",
            "Predicted: 0.29, Expected: 0.26 Error: -0.03\n",
            "Predicted: 0.38, Expected: 0.40 Error: 0.02\n",
            "Predicted: 0.52, Expected: 0.54 Error: 0.02\n",
            "Predicted: -0.41, Expected: -0.23 Error: 0.18\n",
            "Predicted: -0.04, Expected: 0.13 Error: 0.17\n",
            "Predicted: -0.13, Expected: -0.36 Error: -0.23\n",
            "Predicted: 0.24, Expected: -0.07 Error: -0.31\n",
            "Predicted: 0.33, Expected: 0.12 Error: -0.21\n",
            "Predicted: 0.04, Expected: -0.11 Error: -0.15\n",
            "Predicted: 0.30, Expected: 0.32 Error: 0.02\n",
            "Predicted: 0.55, Expected: 0.65 Error: 0.10\n",
            "Predicted: -0.48, Expected: -0.31 Error: 0.17\n",
            "Predicted: -0.19, Expected: -0.18 Error: 0.01\n",
            "Predicted: -0.07, Expected: -0.14 Error: -0.07\n"
          ]
        }
      ]
    },
    {
      "cell_type": "code",
      "source": [
        "total_error/36"
      ],
      "metadata": {
        "colab": {
          "base_uri": "https://localhost:8080/"
        },
        "id": "uORRNjdsW-T2",
        "outputId": "1e0cefe4-7b1a-4d75-d5af-666c1bce2e03"
      },
      "execution_count": null,
      "outputs": [
        {
          "output_type": "execute_result",
          "data": {
            "text/plain": [
              "0.16601647436609587"
            ]
          },
          "metadata": {},
          "execution_count": 35
        }
      ]
    },
    {
      "cell_type": "markdown",
      "source": [
        "##*MAE*"
      ],
      "metadata": {
        "id": "Vr0_ev22X9oL"
      }
    },
    {
      "cell_type": "code",
      "source": [
        "from sklearn.metrics import mean_absolute_error"
      ],
      "metadata": {
        "id": "zF6cAiMlX6Qv"
      },
      "execution_count": null,
      "outputs": []
    },
    {
      "cell_type": "code",
      "source": [
        "print(\"MAE\", mean_absolute_error(expected,predicted))"
      ],
      "metadata": {
        "colab": {
          "base_uri": "https://localhost:8080/"
        },
        "id": "Utiegh8DYHvX",
        "outputId": "c550243a-222a-45ac-f497-6d9f28818ba5"
      },
      "execution_count": null,
      "outputs": [
        {
          "output_type": "stream",
          "name": "stdout",
          "text": [
            "MAE 0.16601647436609585\n"
          ]
        }
      ]
    },
    {
      "cell_type": "code",
      "source": [
        "from sklearn.metrics import mean_squared_error"
      ],
      "metadata": {
        "id": "QPd8thW0YJeA"
      },
      "execution_count": null,
      "outputs": []
    },
    {
      "cell_type": "code",
      "source": [
        "import numpy as np"
      ],
      "metadata": {
        "id": "fu4ggusdYPRR"
      },
      "execution_count": null,
      "outputs": []
    },
    {
      "cell_type": "markdown",
      "source": [
        "##*ROOT MEAN SQUARE*"
      ],
      "metadata": {
        "id": "65zY5jjDYSVF"
      }
    },
    {
      "cell_type": "code",
      "source": [
        "sumTwo=0.0\n",
        "for p,e in zip(predicted[::], expected[::]):\n",
        "  print(f'Predicted: {p:.2f}, Expected: {e:.2f} Error: {e-p:.2f}')\n",
        "  sumTwo +=np.sqrt(np.square(e-p)/36)"
      ],
      "metadata": {
        "colab": {
          "base_uri": "https://localhost:8080/"
        },
        "id": "wmtvRJQzYYBs",
        "outputId": "bafb70c6-7e3d-467b-f443-d2c399cf45ad"
      },
      "execution_count": null,
      "outputs": [
        {
          "output_type": "stream",
          "name": "stdout",
          "text": [
            "Predicted: 0.64, Expected: 1.17 Error: 0.53\n",
            "Predicted: 0.47, Expected: 0.62 Error: 0.15\n",
            "Predicted: -0.15, Expected: -0.11 Error: 0.04\n",
            "Predicted: 0.31, Expected: 0.14 Error: -0.17\n",
            "Predicted: -0.11, Expected: -0.09 Error: 0.02\n",
            "Predicted: -0.29, Expected: -0.48 Error: -0.19\n",
            "Predicted: 0.58, Expected: 0.90 Error: 0.32\n",
            "Predicted: 0.39, Expected: 0.22 Error: -0.17\n",
            "Predicted: -0.45, Expected: -0.10 Error: 0.35\n",
            "Predicted: -0.01, Expected: 0.09 Error: 0.10\n",
            "Predicted: 0.23, Expected: 0.16 Error: -0.07\n",
            "Predicted: 0.53, Expected: 0.72 Error: 0.19\n",
            "Predicted: 0.27, Expected: 0.07 Error: -0.20\n",
            "Predicted: -0.51, Expected: -0.10 Error: 0.41\n",
            "Predicted: 0.44, Expected: 0.38 Error: -0.06\n",
            "Predicted: -0.35, Expected: -0.28 Error: 0.07\n",
            "Predicted: -0.28, Expected: -0.43 Error: -0.15\n",
            "Predicted: -0.43, Expected: -0.27 Error: 0.16\n",
            "Predicted: -0.44, Expected: -0.22 Error: 0.22\n",
            "Predicted: -0.40, Expected: -0.10 Error: 0.30\n",
            "Predicted: -0.09, Expected: -0.12 Error: -0.03\n",
            "Predicted: -0.53, Expected: -0.15 Error: 0.38\n",
            "Predicted: 0.29, Expected: 0.26 Error: -0.03\n",
            "Predicted: 0.38, Expected: 0.40 Error: 0.02\n",
            "Predicted: 0.52, Expected: 0.54 Error: 0.02\n",
            "Predicted: -0.41, Expected: -0.23 Error: 0.18\n",
            "Predicted: -0.04, Expected: 0.13 Error: 0.17\n",
            "Predicted: -0.13, Expected: -0.36 Error: -0.23\n",
            "Predicted: 0.24, Expected: -0.07 Error: -0.31\n",
            "Predicted: 0.33, Expected: 0.12 Error: -0.21\n",
            "Predicted: 0.04, Expected: -0.11 Error: -0.15\n",
            "Predicted: 0.30, Expected: 0.32 Error: 0.02\n",
            "Predicted: 0.55, Expected: 0.65 Error: 0.10\n",
            "Predicted: -0.48, Expected: -0.31 Error: 0.17\n",
            "Predicted: -0.19, Expected: -0.18 Error: 0.01\n",
            "Predicted: -0.07, Expected: -0.14 Error: -0.07\n"
          ]
        }
      ]
    },
    {
      "cell_type": "code",
      "source": [
        "sumTwo"
      ],
      "metadata": {
        "colab": {
          "base_uri": "https://localhost:8080/"
        },
        "id": "6zaats4VY191",
        "outputId": "b0e4f47a-9b40-4e89-ea2b-468222279593"
      },
      "execution_count": null,
      "outputs": [
        {
          "output_type": "execute_result",
          "data": {
            "text/plain": [
              "0.9960988461965748"
            ]
          },
          "metadata": {},
          "execution_count": 41
        }
      ]
    },
    {
      "cell_type": "code",
      "source": [
        "from sklearn.metrics import mean_squared_error"
      ],
      "metadata": {
        "id": "l4Mz8VJFY8Yk"
      },
      "execution_count": null,
      "outputs": []
    },
    {
      "cell_type": "code",
      "source": [
        "import numpy as np"
      ],
      "metadata": {
        "id": "9Ai-JYgcY_sQ"
      },
      "execution_count": null,
      "outputs": []
    },
    {
      "cell_type": "code",
      "source": [
        "print(f'RMSE',np.log(np.sqrt(mean_squared_error(expected, predicted)) ))"
      ],
      "metadata": {
        "colab": {
          "base_uri": "https://localhost:8080/"
        },
        "id": "BAcGqNVVZC2M",
        "outputId": "542c1a53-1b17-4bcd-f52c-3eefc23fe727"
      },
      "execution_count": null,
      "outputs": [
        {
          "output_type": "stream",
          "name": "stdout",
          "text": [
            "RMSE -1.573929471190076\n"
          ]
        }
      ]
    },
    {
      "cell_type": "markdown",
      "source": [
        "##* R squared  (R2)*"
      ],
      "metadata": {
        "id": "Yz6zVAysZJ49"
      }
    },
    {
      "cell_type": "code",
      "source": [
        "from sklearn.metrics import r2_score"
      ],
      "metadata": {
        "id": "EDKYalQ4ZF-k"
      },
      "execution_count": null,
      "outputs": []
    },
    {
      "cell_type": "code",
      "source": [
        "r2=r2_score(expected, predicted)"
      ],
      "metadata": {
        "id": "-q3mmsn8ZcYX"
      },
      "execution_count": null,
      "outputs": []
    },
    {
      "cell_type": "code",
      "source": [
        "r2"
      ],
      "metadata": {
        "colab": {
          "base_uri": "https://localhost:8080/"
        },
        "id": "qgC4Pfv6ZfMV",
        "outputId": "78fb4502-b275-4fd3-fc6d-188f474d5919"
      },
      "execution_count": null,
      "outputs": [
        {
          "output_type": "execute_result",
          "data": {
            "text/plain": [
              "0.7027578074327031"
            ]
          },
          "metadata": {},
          "execution_count": 47
        }
      ]
    },
    {
      "cell_type": "markdown",
      "source": [
        "#*Predicted Future Model*"
      ],
      "metadata": {
        "id": "HC-osLvOZjBc"
      }
    },
    {
      "cell_type": "code",
      "source": [
        "predict=(lambda x: linear_regression.coef_ *x + linear_regression.intercept_)"
      ],
      "metadata": {
        "id": "hWO9zmybaM0p"
      },
      "execution_count": null,
      "outputs": []
    },
    {
      "cell_type": "code",
      "source": [
        "max(GlobalMeans.Year.values)"
      ],
      "metadata": {
        "colab": {
          "base_uri": "https://localhost:8080/"
        },
        "id": "26KDSCXRZgxW",
        "outputId": "18c98611-0cb9-4bfb-e563-ed0a43da6d03"
      },
      "execution_count": null,
      "outputs": [
        {
          "output_type": "execute_result",
          "data": {
            "text/plain": [
              "2023"
            ]
          },
          "metadata": {},
          "execution_count": 49
        }
      ]
    },
    {
      "cell_type": "code",
      "source": [
        "predict(2019)"
      ],
      "metadata": {
        "colab": {
          "base_uri": "https://localhost:8080/"
        },
        "id": "6RHMYSQ-ZxHn",
        "outputId": "bbbd6cf6-6aef-471c-afb7-ba010a5fee85"
      },
      "execution_count": null,
      "outputs": [
        {
          "output_type": "execute_result",
          "data": {
            "text/plain": [
              "array([0.60769992])"
            ]
          },
          "metadata": {},
          "execution_count": 50
        }
      ]
    },
    {
      "cell_type": "code",
      "source": [
        "predict(2022)"
      ],
      "metadata": {
        "colab": {
          "base_uri": "https://localhost:8080/"
        },
        "id": "V-mzsQj2aQao",
        "outputId": "ed5f4afb-8cdd-4c8d-c7de-c13f221e8051"
      },
      "execution_count": null,
      "outputs": [
        {
          "output_type": "execute_result",
          "data": {
            "text/plain": [
              "array([0.63222022])"
            ]
          },
          "metadata": {},
          "execution_count": 51
        }
      ]
    },
    {
      "cell_type": "code",
      "source": [
        "predict(1890)"
      ],
      "metadata": {
        "colab": {
          "base_uri": "https://localhost:8080/"
        },
        "id": "u5us6-hmaU5p",
        "outputId": "03c05618-0468-49fa-bcee-d442d3bcad7e"
      },
      "execution_count": null,
      "outputs": [
        {
          "output_type": "execute_result",
          "data": {
            "text/plain": [
              "array([-0.44667286])"
            ]
          },
          "metadata": {},
          "execution_count": 52
        }
      ]
    },
    {
      "cell_type": "code",
      "source": [
        "min(GlobalMeans.Year.values)"
      ],
      "metadata": {
        "colab": {
          "base_uri": "https://localhost:8080/"
        },
        "id": "c4k4VIXUat72",
        "outputId": "87fb218c-aa26-4b67-8049-83cb5a52cb85"
      },
      "execution_count": null,
      "outputs": [
        {
          "output_type": "execute_result",
          "data": {
            "text/plain": [
              "1880"
            ]
          },
          "metadata": {},
          "execution_count": 53
        }
      ]
    },
    {
      "cell_type": "code",
      "source": [
        "predict(1880)"
      ],
      "metadata": {
        "colab": {
          "base_uri": "https://localhost:8080/"
        },
        "id": "NPnYl0Fca6dh",
        "outputId": "5929a775-a842-4103-ba02-9bd94067d08f"
      },
      "execution_count": null,
      "outputs": [
        {
          "output_type": "execute_result",
          "data": {
            "text/plain": [
              "array([-0.52840718])"
            ]
          },
          "metadata": {},
          "execution_count": 54
        }
      ]
    },
    {
      "cell_type": "code",
      "source": [
        "import seaborn as sns"
      ],
      "metadata": {
        "id": "qXoVpu99bG-i"
      },
      "execution_count": null,
      "outputs": []
    },
    {
      "cell_type": "code",
      "source": [
        "import matplotlib.pyplot as plt"
      ],
      "metadata": {
        "id": "6XRac1a0eYaL"
      },
      "execution_count": null,
      "outputs": []
    },
    {
      "cell_type": "code",
      "source": [
        "plt.hist2d(GlobalMeans['Year'], GlobalMeans['JanToDec'], bins=20, cmap='autumn')\n",
        "plt.xlabel('Year')\n",
        "plt.ylabel('JanToDec')\n",
        "plt.title('Histogram of JanToDec Values over Years')\n",
        "plt.ylim(-1, 12)\n",
        "plt.colorbar(label='Frequency')\n",
        "plt.show()"
      ],
      "metadata": {
        "colab": {
          "base_uri": "https://localhost:8080/",
          "height": 472
        },
        "id": "nkexA1OWbMQ2",
        "outputId": "fb5f60c1-17db-4371-de93-443fbecb876b"
      },
      "execution_count": null,
      "outputs": [
        {
          "output_type": "display_data",
          "data": {
            "text/plain": [
              "<Figure size 640x480 with 2 Axes>"
            ],
            "image/png": "[encoded data removed]"
          },
          "metadata": {}
        }
      ]
    }
  ]
}